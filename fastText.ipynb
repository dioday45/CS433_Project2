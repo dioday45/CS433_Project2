{
 "cells": [
  {
   "cell_type": "code",
   "execution_count": 1,
   "metadata": {},
   "outputs": [
    {
     "name": "stderr",
     "output_type": "stream",
     "text": [
      "[nltk_data] Downloading package stopwords to\n",
      "[nltk_data]     C:\\Users\\danie\\AppData\\Roaming\\nltk_data...\n",
      "[nltk_data]   Package stopwords is already up-to-date!\n",
      "[nltk_data] Downloading package wordnet to\n",
      "[nltk_data]     C:\\Users\\danie\\AppData\\Roaming\\nltk_data...\n",
      "[nltk_data]   Package wordnet is already up-to-date!\n",
      "[nltk_data] Downloading package omw-1.4 to\n",
      "[nltk_data]     C:\\Users\\danie\\AppData\\Roaming\\nltk_data...\n",
      "[nltk_data]   Package omw-1.4 is already up-to-date!\n",
      "c:\\Users\\danie\\anaconda3\\lib\\site-packages\\paramiko\\transport.py:219: CryptographyDeprecationWarning: Blowfish has been deprecated\n",
      "  \"class\": algorithms.Blowfish,\n"
     ]
    }
   ],
   "source": [
    "import re\n",
    "import pickle\n",
    "import numpy as np\n",
    "import pandas as pd\n",
    "import seaborn as sns\n",
    "import matplotlib.pyplot as plt\n",
    "import src.helpers as hlp\n",
    "from nltk.tokenize import TweetTokenizer\n",
    "tweet_tokenizer = TweetTokenizer()\n",
    "from gensim.models import word2vec\n",
    "from gensim.models import fasttext\n",
    "import sklearn.decomposition as sk\n",
    "from sklearn.model_selection import train_test_split\n",
    "from sklearn import svm\n",
    "from torch.utils.data import Dataset, DataLoader\n",
    "from tqdm import tqdm\n",
    "import torch\n",
    "import torch.nn as nn\n",
    "import gensim.downloader as api\n",
    "from sklearn.metrics import classification_report\n",
    "from sklearn.naive_bayes import BernoulliNB\n",
    "from sklearn.svm import LinearSVC\n",
    "from sklearn.linear_model import LogisticRegression"
   ]
  },
  {
   "cell_type": "code",
   "execution_count": 2,
   "metadata": {},
   "outputs": [],
   "source": [
    "VECT_SIZE = 200"
   ]
  },
  {
   "cell_type": "code",
   "execution_count": 3,
   "metadata": {},
   "outputs": [],
   "source": [
    "t_pos = pd.read_table(\"data/train_pos.txt\", header=None, names=['tweet'], dtype=str,on_bad_lines='skip')\n",
    "t_pos['label'] = 1\n",
    "t_neg = pd.read_table(\"data/train_neg.txt\", header=None, names=['tweet'], dtype=str,on_bad_lines='skip')\n",
    "t_neg['label'] = -1\n",
    "df = pd.concat((t_pos,t_neg))"
   ]
  },
  {
   "cell_type": "code",
   "execution_count": 4,
   "metadata": {},
   "outputs": [],
   "source": [
    "df['tweet'] = df['tweet'].apply(lambda x: hlp.remove_stopwords(x))\n",
    "df['tweet'] = df['tweet'].apply(lambda x: hlp.remove_punct(x))\n",
    "df['tweet'] = df['tweet'].apply(lambda x: hlp.add_space(x))\n",
    "df['tweet'] = df['tweet'].apply(lambda x: hlp.remove_white_space(x))\n",
    "df['tweet'] = df['tweet'].apply(lambda x: hlp.remove_words_digits(x))\n",
    "df['tweet'] = df['tweet'].apply(lambda x: hlp.to_lower(x))\n",
    "df['tweet'] = df['tweet'].apply(lambda x: hlp.remove_specific_words(x))\n",
    "df['tweet'] = df['tweet'].apply(lambda x: hlp.remove_repeating_char(x))\n",
    "df['tweet'] = df['tweet'].apply(lambda x: hlp.remove_single_char(x))\n",
    "df['tweet'] = df['tweet'].apply(lambda x: hlp.lemmatize(x))\n",
    "df['tweet'] = df['tweet'].apply(lambda s: tweet_tokenizer.tokenize(s))\n"
   ]
  },
  {
   "cell_type": "code",
   "execution_count": 5,
   "metadata": {},
   "outputs": [],
   "source": [
    "X_train, X_test, y_train, y_test = train_test_split (df['tweet'], df['label'] , test_size=0.2)"
   ]
  },
  {
   "cell_type": "code",
   "execution_count": 6,
   "metadata": {},
   "outputs": [],
   "source": [
    "ft_model = fasttext.FastText(sentences=X_train, vector_size=VECT_SIZE, window=5, min_count=1, workers=4)"
   ]
  },
  {
   "cell_type": "code",
   "execution_count": 7,
   "metadata": {},
   "outputs": [],
   "source": [
    "def vectorize(model_train, dataset):\n",
    "    words = set(model_train.wv.index_to_key)\n",
    "    X_train_vect = np.array([np.array([model_train.wv[i] for i in ls if i in words])for ls in dataset])\n",
    "    X_train_vect_avg = []\n",
    "    for v in X_train_vect:\n",
    "        if v.size:\n",
    "            X_train_vect_avg.append(np.append(v.mean(axis=0),1))\n",
    "        else:\n",
    "            X_train_vect_avg.append(np.zeros(VECT_SIZE+1, dtype=float))\n",
    "    return X_train_vect_avg\n"
   ]
  },
  {
   "cell_type": "code",
   "execution_count": 8,
   "metadata": {},
   "outputs": [
    {
     "name": "stderr",
     "output_type": "stream",
     "text": [
      "C:\\Users\\danie\\AppData\\Local\\Temp\\ipykernel_28464\\3706557185.py:3: VisibleDeprecationWarning: Creating an ndarray from ragged nested sequences (which is a list-or-tuple of lists-or-tuples-or ndarrays with different lengths or shapes) is deprecated. If you meant to do this, you must specify 'dtype=object' when creating the ndarray.\n",
      "  X_train_vect = np.array([np.array([model_train.wv[i] for i in ls if i in words])for ls in dataset])\n"
     ]
    }
   ],
   "source": [
    "ft_X_train_vect = vectorize(ft_model, X_train)\n",
    "ft_X_test_vect = vectorize(ft_model, X_test)"
   ]
  },
  {
   "cell_type": "code",
   "execution_count": 9,
   "metadata": {},
   "outputs": [
    {
     "name": "stdout",
     "output_type": "stream",
     "text": [
      "              precision    recall  f1-score   support\n",
      "\n",
      "          -1       0.67      0.52      0.59     19685\n",
      "           1       0.61      0.75      0.67     19709\n",
      "\n",
      "    accuracy                           0.63     39394\n",
      "   macro avg       0.64      0.63      0.63     39394\n",
      "weighted avg       0.64      0.63      0.63     39394\n",
      "\n"
     ]
    }
   ],
   "source": [
    "ft_BNB = BernoulliNB()\n",
    "ft_BNB.fit(ft_X_train_vect, y_train)\n",
    "y_pred = ft_BNB.predict(ft_X_test_vect)\n",
    "print(classification_report(y_test, y_pred))"
   ]
  },
  {
   "cell_type": "code",
   "execution_count": 10,
   "metadata": {},
   "outputs": [
    {
     "name": "stdout",
     "output_type": "stream",
     "text": [
      "[LibLinear]              precision    recall  f1-score   support\n",
      "\n",
      "          -1       0.76      0.65      0.70     19685\n",
      "           1       0.70      0.80      0.74     19709\n",
      "\n",
      "    accuracy                           0.73     39394\n",
      "   macro avg       0.73      0.73      0.72     39394\n",
      "weighted avg       0.73      0.73      0.72     39394\n",
      "\n"
     ]
    },
    {
     "name": "stderr",
     "output_type": "stream",
     "text": [
      "c:\\Users\\danie\\anaconda3\\lib\\site-packages\\sklearn\\svm\\_base.py:1225: ConvergenceWarning: Liblinear failed to converge, increase the number of iterations.\n",
      "  warnings.warn(\n"
     ]
    }
   ],
   "source": [
    "ft_LSVC = LinearSVC(verbose=1, max_iter=100)\n",
    "ft_LSVC.fit(ft_X_train_vect, y_train)\n",
    "y_pred = ft_LSVC.predict(ft_X_test_vect)\n",
    "print(classification_report(y_test, y_pred))"
   ]
  },
  {
   "cell_type": "code",
   "execution_count": 11,
   "metadata": {},
   "outputs": [],
   "source": [
    "LRmodel = LogisticRegression(max_iter = 10000, n_jobs=-1)\n",
    "LRmodel.fit(ft_X_train_vect, y_train)\n",
    "y_pred3 = LRmodel.predict(ft_X_test_vect)\n",
    "print(classification_report(y_test, y_pred3))"
   ]
  },
  {
   "cell_type": "code",
   "execution_count": null,
   "metadata": {},
   "outputs": [],
   "source": [
    "class TrainDataset(Dataset):\n",
    "    def __init__(self, X_data, y_data):\n",
    "        self.X_data = X_data\n",
    "        self.y_data = y_data\n",
    "    \n",
    "    def __getitem__(self, index):\n",
    "        return self.y_data[index], self.X_data[index] \n",
    "\n",
    "    def __len__(self):\n",
    "        return len(self.X_data)"
   ]
  },
  {
   "cell_type": "code",
   "execution_count": null,
   "metadata": {},
   "outputs": [],
   "source": [
    "class TestDataset(Dataset):\n",
    "    def __init__(self, X_data):\n",
    "        self.X_data = X_data\n",
    "    \n",
    "    def __getitem__(self, index):\n",
    "        return self.X_data[index]\n",
    "\n",
    "    def __len__(self):\n",
    "        return len(self.X_data)"
   ]
  },
  {
   "cell_type": "code",
   "execution_count": null,
   "metadata": {},
   "outputs": [],
   "source": [
    "train_data = TrainDataset(torch.FloatTensor(ft_X_train_vect), torch.LongTensor(y_train.values))\n",
    "test_data = TrainDataset(torch.FloatTensor(ft_X_test_vect), torch.LongTensor(y_test.values))"
   ]
  },
  {
   "cell_type": "code",
   "execution_count": null,
   "metadata": {},
   "outputs": [],
   "source": [
    "train_loader = DataLoader(dataset=train_data, batch_size=64, shuffle=True)\n",
    "test_loader = DataLoader(dataset=test_data, batch_size=1)"
   ]
  },
  {
   "cell_type": "code",
   "execution_count": null,
   "metadata": {},
   "outputs": [],
   "source": [
    "def train_loop(dataloader, model, loss_fn, optimizer):\n",
    "        train_loss, correct = 0,0\n",
    "        for y_batch, X_batch in tqdm(dataloader):\n",
    "\n",
    "                pred = model(X_batch)\n",
    "                loss = loss_fn(pred, y_batch)\n",
    "\n",
    "                train_loss += loss.item()\n",
    "                correct += (pred.argmax(1) == y_batch).type(torch.float).sum().item()\n",
    "\n",
    "                optimizer.zero_grad()\n",
    "                loss.backward()\n",
    "                optimizer.step()\n",
    "        train_loss /= len(dataloader)\n",
    "        correct /= len(dataloader.dataset)\n",
    "        print(f\"Train Error: \\n Accuracy: {(100*correct):>0.1f}%, Avg loss: {train_loss:>8f} \\n\")\n",
    "        return train_loss, correct"
   ]
  },
  {
   "cell_type": "code",
   "execution_count": null,
   "metadata": {},
   "outputs": [],
   "source": [
    "def test_loop(dataloader, model, loss_fn):\n",
    "    test_loss, correct = 0,0\n",
    "    with torch.no_grad():\n",
    "        for y, X in dataloader:\n",
    "\n",
    "            pred = model(X)\n",
    "            test_loss += loss_fn(pred, y).item()\n",
    "            correct += (pred.argmax(1) == y).type(torch.float).sum().item()\n",
    "    test_loss /= len(dataloader)\n",
    "    correct /= len(dataloader.dataset)\n",
    "    print(f\"Test Error: \\n Accuracy: {(100*correct):>0.1f}%, Avg loss: {test_loss:>8f} \\n\")\n",
    "    return test_loss, correct\n",
    "\n"
   ]
  },
  {
   "cell_type": "code",
   "execution_count": null,
   "metadata": {},
   "outputs": [],
   "source": [
    "def train(model, train_loader, valid_loader, num_epochs, learning_rate):\n",
    "    loss_fn = nn.CrossEntropyLoss()\n",
    "    optimizer = torch.optim.Adam(model.parameters(), lr=learning_rate)\n",
    "    losses, train_accs, test_accs = [], [], []\n",
    "    for epoch in range(num_epochs):\n",
    "        print(f\"Epoch : {epoch+1}\\n\")\n",
    "        train_loss, train_acc = train_loop(train_loader, model, loss_fn, optimizer)\n",
    "        test_loss, test_acc = test_loop(test_loader, model, loss_fn)\n",
    "        losses.append(float(train_loss))\n",
    "        train_accs.append(train_acc)\n",
    "        test_accs.append(test_acc)\n",
    "    \n",
    "    plt.title(\"Training\")\n",
    "    plt.plot(losses, label=\"Train\")\n",
    "    plt.xlabel(\"Epoch\")\n",
    "    plt.ylabel(\"Loss\")\n",
    "    plt.show()\n",
    "\n",
    "    plt.title(\"Training Curve\")\n",
    "    plt.plot(train_accs, label=\"Train\")\n",
    "    plt.plot(test_accs, label=\"Validation\")\n",
    "    plt.xlabel(\"Epoch\")\n",
    "    plt.ylabel(\"Accuracy\")\n",
    "    plt.legend(loc='best')\n",
    "    plt.show()\n",
    "\n"
   ]
  },
  {
   "cell_type": "code",
   "execution_count": null,
   "metadata": {},
   "outputs": [],
   "source": [
    "model = nn.Sequential(nn.Linear(VECT_SIZE+1, 100),\n",
    "                        nn.ReLU(),\n",
    "                        nn.Dropout(p=0.5),\n",
    "                        nn.Linear(100, 2),\n",
    "                        nn.Softmax(1))"
   ]
  },
  {
   "cell_type": "code",
   "execution_count": null,
   "metadata": {},
   "outputs": [
    {
     "name": "stdout",
     "output_type": "stream",
     "text": [
      "Epoch : 1\n",
      "\n"
     ]
    },
    {
     "name": "stderr",
     "output_type": "stream",
     "text": [
      "100%|██████████| 2463/2463 [00:06<00:00, 405.18it/s]\n"
     ]
    },
    {
     "name": "stdout",
     "output_type": "stream",
     "text": [
      "Train Error: \n",
      " Accuracy: 72.7%, Avg loss: 0.522777 \n",
      "\n",
      "Test Error: \n",
      " Accuracy: 74.2%, Avg loss: 0.506856 \n",
      "\n",
      "Epoch : 2\n",
      "\n"
     ]
    },
    {
     "name": "stderr",
     "output_type": "stream",
     "text": [
      "100%|██████████| 2463/2463 [00:06<00:00, 370.55it/s]\n"
     ]
    },
    {
     "name": "stdout",
     "output_type": "stream",
     "text": [
      "Train Error: \n",
      " Accuracy: 73.9%, Avg loss: 0.507226 \n",
      "\n"
     ]
    },
    {
     "ename": "KeyboardInterrupt",
     "evalue": "",
     "output_type": "error",
     "traceback": [
      "\u001b[1;31m---------------------------------------------------------------------------\u001b[0m\n",
      "\u001b[1;31mKeyboardInterrupt\u001b[0m                         Traceback (most recent call last)\n",
      "\u001b[1;32mc:\\Users\\danie\\Documents\\Drive_EPFL\\MA1\\Machine_Learning\\projet_2\\CS433_Project2\\word2Vec.ipynb Cellule 23\u001b[0m in \u001b[0;36m<cell line: 1>\u001b[1;34m()\u001b[0m\n",
      "\u001b[1;32m----> <a href='vscode-notebook-cell:/c%3A/Users/danie/Documents/Drive_EPFL/MA1/Machine_Learning/projet_2/CS433_Project2/word2Vec.ipynb#X55sZmlsZQ%3D%3D?line=0'>1</a>\u001b[0m train(model, train_loader, test_loader, num_epochs\u001b[39m=\u001b[39;49m\u001b[39m100\u001b[39;49m, learning_rate\u001b[39m=\u001b[39;49m\u001b[39m1e-2\u001b[39;49m)\n",
      "\n",
      "\u001b[1;32mc:\\Users\\danie\\Documents\\Drive_EPFL\\MA1\\Machine_Learning\\projet_2\\CS433_Project2\\word2Vec.ipynb Cellule 23\u001b[0m in \u001b[0;36mtrain\u001b[1;34m(model, train_loader, valid_loader, num_epochs, learning_rate)\u001b[0m\n",
      "\u001b[0;32m      <a href='vscode-notebook-cell:/c%3A/Users/danie/Documents/Drive_EPFL/MA1/Machine_Learning/projet_2/CS433_Project2/word2Vec.ipynb#X55sZmlsZQ%3D%3D?line=5'>6</a>\u001b[0m \u001b[39mprint\u001b[39m(\u001b[39mf\u001b[39m\u001b[39m\"\u001b[39m\u001b[39mEpoch : \u001b[39m\u001b[39m{\u001b[39;00mepoch\u001b[39m+\u001b[39m\u001b[39m1\u001b[39m\u001b[39m}\u001b[39;00m\u001b[39m\\n\u001b[39;00m\u001b[39m\"\u001b[39m)\n",
      "\u001b[0;32m      <a href='vscode-notebook-cell:/c%3A/Users/danie/Documents/Drive_EPFL/MA1/Machine_Learning/projet_2/CS433_Project2/word2Vec.ipynb#X55sZmlsZQ%3D%3D?line=6'>7</a>\u001b[0m train_loss, train_acc \u001b[39m=\u001b[39m train_loop(train_loader, model, loss_fn, optimizer)\n",
      "\u001b[1;32m----> <a href='vscode-notebook-cell:/c%3A/Users/danie/Documents/Drive_EPFL/MA1/Machine_Learning/projet_2/CS433_Project2/word2Vec.ipynb#X55sZmlsZQ%3D%3D?line=7'>8</a>\u001b[0m test_loss, test_acc \u001b[39m=\u001b[39m test_loop(test_loader, model, loss_fn)\n",
      "\u001b[0;32m      <a href='vscode-notebook-cell:/c%3A/Users/danie/Documents/Drive_EPFL/MA1/Machine_Learning/projet_2/CS433_Project2/word2Vec.ipynb#X55sZmlsZQ%3D%3D?line=8'>9</a>\u001b[0m losses\u001b[39m.\u001b[39mappend(\u001b[39mfloat\u001b[39m(train_loss))\n",
      "\u001b[0;32m     <a href='vscode-notebook-cell:/c%3A/Users/danie/Documents/Drive_EPFL/MA1/Machine_Learning/projet_2/CS433_Project2/word2Vec.ipynb#X55sZmlsZQ%3D%3D?line=9'>10</a>\u001b[0m train_accs\u001b[39m.\u001b[39mappend(train_acc)\n",
      "\n",
      "\u001b[1;32mc:\\Users\\danie\\Documents\\Drive_EPFL\\MA1\\Machine_Learning\\projet_2\\CS433_Project2\\word2Vec.ipynb Cellule 23\u001b[0m in \u001b[0;36mtest_loop\u001b[1;34m(dataloader, model, loss_fn)\u001b[0m\n",
      "\u001b[0;32m      <a href='vscode-notebook-cell:/c%3A/Users/danie/Documents/Drive_EPFL/MA1/Machine_Learning/projet_2/CS433_Project2/word2Vec.ipynb#X55sZmlsZQ%3D%3D?line=5'>6</a>\u001b[0m         pred \u001b[39m=\u001b[39m model(X)\n",
      "\u001b[0;32m      <a href='vscode-notebook-cell:/c%3A/Users/danie/Documents/Drive_EPFL/MA1/Machine_Learning/projet_2/CS433_Project2/word2Vec.ipynb#X55sZmlsZQ%3D%3D?line=6'>7</a>\u001b[0m         test_loss \u001b[39m+\u001b[39m\u001b[39m=\u001b[39m loss_fn(pred, y)\u001b[39m.\u001b[39mitem()\n",
      "\u001b[1;32m----> <a href='vscode-notebook-cell:/c%3A/Users/danie/Documents/Drive_EPFL/MA1/Machine_Learning/projet_2/CS433_Project2/word2Vec.ipynb#X55sZmlsZQ%3D%3D?line=7'>8</a>\u001b[0m         correct \u001b[39m+\u001b[39m\u001b[39m=\u001b[39m (pred\u001b[39m.\u001b[39;49margmax(\u001b[39m1\u001b[39;49m) \u001b[39m==\u001b[39;49m y)\u001b[39m.\u001b[39;49mtype(torch\u001b[39m.\u001b[39;49mfloat)\u001b[39m.\u001b[39;49msum()\u001b[39m.\u001b[39mitem()\n",
      "\u001b[0;32m      <a href='vscode-notebook-cell:/c%3A/Users/danie/Documents/Drive_EPFL/MA1/Machine_Learning/projet_2/CS433_Project2/word2Vec.ipynb#X55sZmlsZQ%3D%3D?line=8'>9</a>\u001b[0m test_loss \u001b[39m/\u001b[39m\u001b[39m=\u001b[39m \u001b[39mlen\u001b[39m(dataloader)\n",
      "\u001b[0;32m     <a href='vscode-notebook-cell:/c%3A/Users/danie/Documents/Drive_EPFL/MA1/Machine_Learning/projet_2/CS433_Project2/word2Vec.ipynb#X55sZmlsZQ%3D%3D?line=9'>10</a>\u001b[0m correct \u001b[39m/\u001b[39m\u001b[39m=\u001b[39m \u001b[39mlen\u001b[39m(dataloader\u001b[39m.\u001b[39mdataset)\n",
      "\n",
      "\u001b[1;31mKeyboardInterrupt\u001b[0m: "
     ]
    }
   ],
   "source": [
    "train(model, train_loader, test_loader, num_epochs=100, learning_rate=1e-2)"
   ]
  }
 ],
 "metadata": {
  "kernelspec": {
   "display_name": "Python 3.9.7 ('base')",
   "language": "python",
   "name": "python3"
  },
  "language_info": {
   "codemirror_mode": {
    "name": "ipython",
    "version": 3
   },
   "file_extension": ".py",
   "mimetype": "text/x-python",
   "name": "python",
   "nbconvert_exporter": "python",
   "pygments_lexer": "ipython3",
   "version": "3.9.7"
  },
  "orig_nbformat": 4,
  "vscode": {
   "interpreter": {
    "hash": "4d9defa72c2715dab9f7f172572cd30a1ab1a2083462d32ef96aadb7c6e0c73b"
   }
  }
 },
 "nbformat": 4,
 "nbformat_minor": 2
}
