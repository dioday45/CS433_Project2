{
 "cells": [
  {
   "cell_type": "code",
   "execution_count": 1,
   "metadata": {},
   "outputs": [
    {
     "name": "stderr",
     "output_type": "stream",
     "text": [
      "[nltk_data] Downloading package stopwords to\n",
      "[nltk_data]     C:\\Users\\danie\\AppData\\Roaming\\nltk_data...\n",
      "[nltk_data]   Package stopwords is already up-to-date!\n",
      "[nltk_data] Downloading package wordnet to\n",
      "[nltk_data]     C:\\Users\\danie\\AppData\\Roaming\\nltk_data...\n",
      "[nltk_data]   Package wordnet is already up-to-date!\n",
      "[nltk_data] Downloading package omw-1.4 to\n",
      "[nltk_data]     C:\\Users\\danie\\AppData\\Roaming\\nltk_data...\n",
      "[nltk_data]   Package omw-1.4 is already up-to-date!\n"
     ]
    }
   ],
   "source": [
    "import numpy as np\n",
    "import pandas as pd\n",
    "import matplotlib.pyplot as plt\n",
    "import src.helpers as hlp\n",
    "from nltk.tokenize import TweetTokenizer\n",
    "tweet_tokenizer = TweetTokenizer()\n",
    "from gensim.models import word2vec\n",
    "from sklearn.model_selection import train_test_split\n",
    "from sklearn.metrics import classification_report\n",
    "from sklearn.svm import LinearSVC\n",
    "from torch.utils.data import Dataset, DataLoader\n",
    "from tqdm import tqdm\n",
    "import torch\n",
    "import torch.nn as nn"
   ]
  },
  {
   "cell_type": "code",
   "execution_count": 2,
   "metadata": {},
   "outputs": [],
   "source": [
    "VECT_SIZE = 100"
   ]
  },
  {
   "cell_type": "code",
   "execution_count": 3,
   "metadata": {},
   "outputs": [],
   "source": [
    "t_pos = pd.read_table(\"data/train_pos.txt\", header=None, names=['tweet'], dtype=str,on_bad_lines='skip')\n",
    "t_pos['label'] = 1\n",
    "t_neg = pd.read_table(\"data/train_neg.txt\", header=None, names=['tweet'], dtype=str,on_bad_lines='skip')\n",
    "t_neg['label'] = 0\n",
    "df = pd.concat((t_pos,t_neg))"
   ]
  },
  {
   "cell_type": "code",
   "execution_count": 4,
   "metadata": {},
   "outputs": [],
   "source": [
    "df['tweet'] = df['tweet'].apply(lambda x: hlp.remove_stopwords(x))\n",
    "df['tweet'] = df['tweet'].apply(lambda x: hlp.remove_punct(x))\n",
    "df['tweet'] = df['tweet'].apply(lambda x: hlp.add_space(x))\n",
    "df['tweet'] = df['tweet'].apply(lambda x: hlp.remove_white_space(x))\n",
    "df['tweet'] = df['tweet'].apply(lambda x: hlp.remove_words_digits(x))\n",
    "df['tweet'] = df['tweet'].apply(lambda x: hlp.to_lower(x))\n",
    "df['tweet'] = df['tweet'].apply(lambda x: hlp.remove_specific_words(x))\n",
    "df['tweet'] = df['tweet'].apply(lambda x: hlp.remove_repeating_char(x))\n",
    "df['tweet'] = df['tweet'].apply(lambda x: hlp.remove_single_char(x))\n",
    "df['tweet'] = df['tweet'].apply(lambda x: hlp.lemmatize(x))\n",
    "df['tweet'] = df['tweet'].apply(lambda s: tweet_tokenizer.tokenize(s))"
   ]
  },
  {
   "cell_type": "code",
   "execution_count": 5,
   "metadata": {},
   "outputs": [],
   "source": [
    "X_train, X_test, y_train, y_test = train_test_split (df['tweet'], df['label'] , test_size=0.2)"
   ]
  },
  {
   "cell_type": "code",
   "execution_count": 6,
   "metadata": {},
   "outputs": [],
   "source": [
    "w2c_model = word2vec.Word2Vec(sentences=X_train, vector_size=VECT_SIZE, window=5, min_count=1, workers=4)"
   ]
  },
  {
   "cell_type": "code",
   "execution_count": 7,
   "metadata": {},
   "outputs": [],
   "source": [
    "def vectorize(model_train, dataset):\n",
    "    words = set(model_train.wv.index_to_key)\n",
    "    X_train_vect = np.array([np.array([model_train.wv[i] for i in ls if i in words])for ls in dataset])\n",
    "    X_train_vect_avg = []\n",
    "    for v in X_train_vect:\n",
    "        if v.size:\n",
    "            X_train_vect_avg.append(np.append(v.mean(axis=0),1))\n",
    "        else:\n",
    "            X_train_vect_avg.append(np.zeros(VECT_SIZE+1, dtype=float))\n",
    "    return X_train_vect_avg\n"
   ]
  },
  {
   "cell_type": "code",
   "execution_count": 8,
   "metadata": {},
   "outputs": [
    {
     "name": "stderr",
     "output_type": "stream",
     "text": [
      "C:\\Users\\danie\\AppData\\Local\\Temp\\ipykernel_22364\\3706557185.py:3: VisibleDeprecationWarning: Creating an ndarray from ragged nested sequences (which is a list-or-tuple of lists-or-tuples-or ndarrays with different lengths or shapes) is deprecated. If you meant to do this, you must specify 'dtype=object' when creating the ndarray.\n",
      "  X_train_vect = np.array([np.array([model_train.wv[i] for i in ls if i in words])for ls in dataset])\n"
     ]
    }
   ],
   "source": [
    "w2c_X_train_vect = vectorize(w2c_model, X_train)\n",
    "w2c_X_test_vect = vectorize(w2c_model, X_test)"
   ]
  },
  {
   "cell_type": "code",
   "execution_count": 15,
   "metadata": {},
   "outputs": [
    {
     "name": "stdout",
     "output_type": "stream",
     "text": [
      "[LibLinear]"
     ]
    },
    {
     "name": "stderr",
     "output_type": "stream",
     "text": [
      "c:\\Users\\danie\\anaconda3\\lib\\site-packages\\sklearn\\svm\\_base.py:1206: ConvergenceWarning: Liblinear failed to converge, increase the number of iterations.\n",
      "  warnings.warn(\n"
     ]
    },
    {
     "data": {
      "text/plain": [
       "LinearSVC(max_iter=2000, verbose=1)"
      ]
     },
     "execution_count": 15,
     "metadata": {},
     "output_type": "execute_result"
    }
   ],
   "source": [
    "LSVC = LinearSVC(verbose=1, max_iter=2000)\n",
    "LSVC.fit(w2c_X_train_vect, y_train)"
   ]
  },
  {
   "cell_type": "code",
   "execution_count": 16,
   "metadata": {},
   "outputs": [
    {
     "name": "stdout",
     "output_type": "stream",
     "text": [
      "              precision    recall  f1-score   support\n",
      "\n",
      "           0       0.74      0.72      0.73     19773\n",
      "           1       0.72      0.74      0.73     19621\n",
      "\n",
      "    accuracy                           0.73     39394\n",
      "   macro avg       0.73      0.73      0.73     39394\n",
      "weighted avg       0.73      0.73      0.73     39394\n",
      "\n"
     ]
    }
   ],
   "source": [
    "y_pred = LSVC.predict(w2c_X_test_vect)\n",
    "print(classification_report(y_test, y_pred))"
   ]
  },
  {
   "cell_type": "code",
   "execution_count": 17,
   "metadata": {},
   "outputs": [],
   "source": [
    "class TrainDataset(Dataset):\n",
    "    def __init__(self, X_data, y_data):\n",
    "        self.X_data = X_data\n",
    "        self.y_data = y_data\n",
    "    \n",
    "    def __getitem__(self, index):\n",
    "        return self.y_data[index], self.X_data[index] \n",
    "\n",
    "    def __len__(self):\n",
    "        return len(self.X_data)"
   ]
  },
  {
   "cell_type": "code",
   "execution_count": 18,
   "metadata": {},
   "outputs": [],
   "source": [
    "class TestDataset(Dataset):\n",
    "    def __init__(self, X_data):\n",
    "        self.X_data = X_data\n",
    "    \n",
    "    def __getitem__(self, index):\n",
    "        return self.X_data[index]\n",
    "\n",
    "    def __len__(self):\n",
    "        return len(self.X_data)"
   ]
  },
  {
   "cell_type": "code",
   "execution_count": 19,
   "metadata": {},
   "outputs": [
    {
     "name": "stderr",
     "output_type": "stream",
     "text": [
      "C:\\Users\\danie\\AppData\\Local\\Temp\\ipykernel_22364\\1166895078.py:1: UserWarning: Creating a tensor from a list of numpy.ndarrays is extremely slow. Please consider converting the list to a single numpy.ndarray with numpy.array() before converting to a tensor. (Triggered internally at C:\\cb\\pytorch_1000000000000\\work\\torch\\csrc\\utils\\tensor_new.cpp:233.)\n",
      "  train_data = TrainDataset(torch.FloatTensor(w2c_X_train_vect), torch.LongTensor(y_train.values))\n"
     ]
    }
   ],
   "source": [
    "train_data = TrainDataset(torch.FloatTensor(w2c_X_train_vect), torch.LongTensor(y_train.values))\n",
    "test_data = TrainDataset(torch.FloatTensor(w2c_X_test_vect), torch.LongTensor(y_test.values))"
   ]
  },
  {
   "cell_type": "code",
   "execution_count": 20,
   "metadata": {},
   "outputs": [],
   "source": [
    "train_loader = DataLoader(dataset=train_data, batch_size=64, shuffle=True)\n",
    "test_loader = DataLoader(dataset=test_data, batch_size=1)"
   ]
  },
  {
   "cell_type": "code",
   "execution_count": 21,
   "metadata": {},
   "outputs": [],
   "source": [
    "def train_loop(dataloader, model, loss_fn, optimizer):\n",
    "        train_loss, correct = 0,0\n",
    "        for y_batch, X_batch in tqdm(dataloader):\n",
    "\n",
    "                pred = model(X_batch)\n",
    "                loss = loss_fn(pred, y_batch)\n",
    "\n",
    "                train_loss += loss.item()\n",
    "                correct += (pred.argmax(1) == y_batch).type(torch.float).sum().item()\n",
    "\n",
    "                optimizer.zero_grad()\n",
    "                loss.backward()\n",
    "                optimizer.step()\n",
    "        train_loss /= len(dataloader)\n",
    "        correct /= len(dataloader.dataset)\n",
    "        print(f\"Train Error: \\n Accuracy: {(100*correct):>0.1f}%, Avg loss: {train_loss:>8f} \\n\")\n",
    "        return train_loss, correct"
   ]
  },
  {
   "cell_type": "code",
   "execution_count": 22,
   "metadata": {},
   "outputs": [],
   "source": [
    "def test_loop(dataloader, model, loss_fn):\n",
    "    test_loss, correct = 0,0\n",
    "    with torch.no_grad():\n",
    "        for y, X in dataloader:\n",
    "\n",
    "            pred = model(X)\n",
    "            test_loss += loss_fn(pred, y).item()\n",
    "            correct += (pred.argmax(1) == y).type(torch.float).sum().item()\n",
    "    test_loss /= len(dataloader)\n",
    "    correct /= len(dataloader.dataset)\n",
    "    print(f\"Test Error: \\n Accuracy: {(100*correct):>0.1f}%, Avg loss: {test_loss:>8f} \\n\")\n",
    "    return test_loss, correct\n",
    "\n"
   ]
  },
  {
   "cell_type": "code",
   "execution_count": 23,
   "metadata": {},
   "outputs": [],
   "source": [
    "def train(model, train_loader, valid_loader, num_epochs, learning_rate):\n",
    "    loss_fn = nn.CrossEntropyLoss()\n",
    "    optimizer = torch.optim.Adam(model.parameters(), lr=learning_rate)\n",
    "    losses, train_accs, test_accs = [], [], []\n",
    "    for epoch in range(num_epochs):\n",
    "        print(f\"Epoch : {epoch+1}\\n\")\n",
    "        train_loss, train_acc = train_loop(train_loader, model, loss_fn, optimizer)\n",
    "        test_loss, test_acc = test_loop(test_loader, model, loss_fn)\n",
    "        losses.append(float(train_loss))\n",
    "        train_accs.append(train_acc)\n",
    "        test_accs.append(test_acc)\n",
    "    \n",
    "    plt.title(\"Training\")\n",
    "    plt.plot(losses, label=\"Train\")\n",
    "    plt.xlabel(\"Epoch\")\n",
    "    plt.ylabel(\"Loss\")\n",
    "    plt.show()\n",
    "\n",
    "    plt.title(\"Training Curve\")\n",
    "    plt.plot(train_accs, label=\"Train\")\n",
    "    plt.plot(test_accs, label=\"Validation\")\n",
    "    plt.xlabel(\"Epoch\")\n",
    "    plt.ylabel(\"Accuracy\")\n",
    "    plt.legend(loc='best')\n",
    "    plt.show()\n",
    "\n"
   ]
  },
  {
   "cell_type": "code",
   "execution_count": 24,
   "metadata": {},
   "outputs": [],
   "source": [
    "model = nn.Sequential(nn.Linear(VECT_SIZE+1, 100),\n",
    "                        nn.ReLU(),\n",
    "                        nn.Dropout(p=0.5),\n",
    "                        nn.Linear(100, 2),\n",
    "                        nn.Softmax(1))"
   ]
  },
  {
   "cell_type": "code",
   "execution_count": 25,
   "metadata": {},
   "outputs": [
    {
     "name": "stdout",
     "output_type": "stream",
     "text": [
      "Epoch : 1\n",
      "\n"
     ]
    },
    {
     "name": "stderr",
     "output_type": "stream",
     "text": [
      "100%|██████████| 2463/2463 [00:04<00:00, 511.65it/s]\n"
     ]
    },
    {
     "name": "stdout",
     "output_type": "stream",
     "text": [
      "Train Error: \n",
      " Accuracy: 71.4%, Avg loss: 0.573167 \n",
      "\n",
      "Test Error: \n",
      " Accuracy: 72.2%, Avg loss: 0.565800 \n",
      "\n",
      "Epoch : 2\n",
      "\n"
     ]
    },
    {
     "name": "stderr",
     "output_type": "stream",
     "text": [
      "100%|██████████| 2463/2463 [00:03<00:00, 660.65it/s]\n"
     ]
    },
    {
     "name": "stdout",
     "output_type": "stream",
     "text": [
      "Train Error: \n",
      " Accuracy: 72.2%, Avg loss: 0.566962 \n",
      "\n",
      "Test Error: \n",
      " Accuracy: 72.8%, Avg loss: 0.562626 \n",
      "\n",
      "Epoch : 3\n",
      "\n"
     ]
    },
    {
     "name": "stderr",
     "output_type": "stream",
     "text": [
      "100%|██████████| 2463/2463 [00:05<00:00, 483.46it/s]\n"
     ]
    },
    {
     "name": "stdout",
     "output_type": "stream",
     "text": [
      "Train Error: \n",
      " Accuracy: 72.6%, Avg loss: 0.564009 \n",
      "\n",
      "Test Error: \n",
      " Accuracy: 72.9%, Avg loss: 0.561504 \n",
      "\n",
      "Epoch : 4\n",
      "\n"
     ]
    },
    {
     "name": "stderr",
     "output_type": "stream",
     "text": [
      "100%|██████████| 2463/2463 [00:05<00:00, 428.50it/s]\n"
     ]
    },
    {
     "name": "stdout",
     "output_type": "stream",
     "text": [
      "Train Error: \n",
      " Accuracy: 72.9%, Avg loss: 0.562714 \n",
      "\n",
      "Test Error: \n",
      " Accuracy: 72.9%, Avg loss: 0.564500 \n",
      "\n",
      "Epoch : 5\n",
      "\n"
     ]
    },
    {
     "name": "stderr",
     "output_type": "stream",
     "text": [
      "100%|██████████| 2463/2463 [00:05<00:00, 436.89it/s]\n"
     ]
    },
    {
     "name": "stdout",
     "output_type": "stream",
     "text": [
      "Train Error: \n",
      " Accuracy: 72.9%, Avg loss: 0.561426 \n",
      "\n",
      "Test Error: \n",
      " Accuracy: 73.0%, Avg loss: 0.558866 \n",
      "\n",
      "Epoch : 6\n",
      "\n"
     ]
    },
    {
     "name": "stderr",
     "output_type": "stream",
     "text": [
      "100%|██████████| 2463/2463 [00:05<00:00, 481.20it/s]\n"
     ]
    },
    {
     "name": "stdout",
     "output_type": "stream",
     "text": [
      "Train Error: \n",
      " Accuracy: 73.0%, Avg loss: 0.560754 \n",
      "\n",
      "Test Error: \n",
      " Accuracy: 73.4%, Avg loss: 0.558794 \n",
      "\n",
      "Epoch : 7\n",
      "\n"
     ]
    },
    {
     "name": "stderr",
     "output_type": "stream",
     "text": [
      "100%|██████████| 2463/2463 [00:05<00:00, 486.24it/s]\n"
     ]
    },
    {
     "name": "stdout",
     "output_type": "stream",
     "text": [
      "Train Error: \n",
      " Accuracy: 73.1%, Avg loss: 0.560020 \n",
      "\n",
      "Test Error: \n",
      " Accuracy: 72.9%, Avg loss: 0.564783 \n",
      "\n",
      "Epoch : 8\n",
      "\n"
     ]
    },
    {
     "name": "stderr",
     "output_type": "stream",
     "text": [
      "100%|██████████| 2463/2463 [00:05<00:00, 446.47it/s]\n"
     ]
    },
    {
     "name": "stdout",
     "output_type": "stream",
     "text": [
      "Train Error: \n",
      " Accuracy: 73.1%, Avg loss: 0.560032 \n",
      "\n",
      "Test Error: \n",
      " Accuracy: 73.2%, Avg loss: 0.557041 \n",
      "\n",
      "Epoch : 9\n",
      "\n"
     ]
    },
    {
     "name": "stderr",
     "output_type": "stream",
     "text": [
      "100%|██████████| 2463/2463 [00:05<00:00, 431.75it/s]\n"
     ]
    },
    {
     "name": "stdout",
     "output_type": "stream",
     "text": [
      "Train Error: \n",
      " Accuracy: 73.2%, Avg loss: 0.559366 \n",
      "\n",
      "Test Error: \n",
      " Accuracy: 72.9%, Avg loss: 0.560728 \n",
      "\n",
      "Epoch : 10\n",
      "\n"
     ]
    },
    {
     "name": "stderr",
     "output_type": "stream",
     "text": [
      "100%|██████████| 2463/2463 [00:05<00:00, 433.78it/s]\n"
     ]
    },
    {
     "name": "stdout",
     "output_type": "stream",
     "text": [
      "Train Error: \n",
      " Accuracy: 73.3%, Avg loss: 0.558833 \n",
      "\n",
      "Test Error: \n",
      " Accuracy: 72.7%, Avg loss: 0.560230 \n",
      "\n"
     ]
    },
    {
     "data": {
      "image/png": "[encoded data removed]",
      "text/plain": [
       "<Figure size 432x288 with 1 Axes>"
      ]
     },
     "metadata": {
      "needs_background": "light"
     },
     "output_type": "display_data"
    },
    {
     "data": {
      "image/png": "[encoded data removed]",
      "text/plain": [
       "<Figure size 432x288 with 1 Axes>"
      ]
     },
     "metadata": {
      "needs_background": "light"
     },
     "output_type": "display_data"
    }
   ],
   "source": [
    "train(model, train_loader, test_loader, num_epochs=10, learning_rate=1e-2)"
   ]
  },
  {
   "cell_type": "code",
   "execution_count": null,
   "metadata": {},
   "outputs": [],
   "source": []
  }
 ],
 "metadata": {
  "kernelspec": {
   "display_name": "base",
   "language": "python",
   "name": "python3"
  },
  "language_info": {
   "codemirror_mode": {
    "name": "ipython",
    "version": 3
   },
   "file_extension": ".py",
   "mimetype": "text/x-python",
   "name": "python",
   "nbconvert_exporter": "python",
   "pygments_lexer": "ipython3",
   "version": "3.9.15 (main, Nov  4 2022, 11:11:31) \n[Clang 12.0.0 ]"
  },
  "orig_nbformat": 4,
  "vscode": {
   "interpreter": {
    "hash": "8c2cef518e44103d2e87bbc7bdbad3c849c59c4ad82abf34e0b5c0b1400204ca"
   }
  }
 },
 "nbformat": 4,
 "nbformat_minor": 2
}
