{
  "cells": [
    {
      "cell_type": "code",
      "execution_count": 1,
      "id": "a9168f38",
      "metadata": {
        "execution": {
          "iopub.execute_input": "2022-12-19T21:21:19.092596Z",
          "iopub.status.busy": "2022-12-19T21:21:19.090197Z",
          "iopub.status.idle": "2022-12-19T21:21:39.605655Z",
          "shell.execute_reply": "2022-12-19T21:21:39.604465Z"
        },
        "papermill": {
          "duration": 20.525962,
          "end_time": "2022-12-19T21:21:39.608302",
          "exception": false,
          "start_time": "2022-12-19T21:21:19.082340",
          "status": "completed"
        },
        "tags": []
      },
      "outputs": [
        {
          "ename": "ModuleNotFoundError",
          "evalue": "No module named 'transformers'",
          "output_type": "error",
          "traceback": [
            "\u001b[1;31m---------------------------------------------------------------------------\u001b[0m",
            "\u001b[1;31mModuleNotFoundError\u001b[0m                       Traceback (most recent call last)",
            "\u001b[1;32mc:\\Users\\danie\\Documents\\Drive_EPFL\\MA1\\Machine_Learning\\projet_2\\CS433_Project2\\notebooks\\XLNet.ipynb Cell 1\u001b[0m in \u001b[0;36m<cell line: 19>\u001b[1;34m()\u001b[0m\n\u001b[0;32m     <a href='vscode-notebook-cell:/c%3A/Users/danie/Documents/Drive_EPFL/MA1/Machine_Learning/projet_2/CS433_Project2/notebooks/XLNet.ipynb#W0sZmlsZQ%3D%3D?line=14'>15</a>\u001b[0m \u001b[39mfrom\u001b[39;00m \u001b[39mtorch\u001b[39;00m\u001b[39m.\u001b[39;00m\u001b[39mutils\u001b[39;00m\u001b[39m.\u001b[39;00m\u001b[39mdata\u001b[39;00m \u001b[39mimport\u001b[39;00m Dataset, DataLoader\n\u001b[0;32m     <a href='vscode-notebook-cell:/c%3A/Users/danie/Documents/Drive_EPFL/MA1/Machine_Learning/projet_2/CS433_Project2/notebooks/XLNet.ipynb#W0sZmlsZQ%3D%3D?line=15'>16</a>\u001b[0m \u001b[39mimport\u001b[39;00m \u001b[39mtorch\u001b[39;00m\u001b[39m.\u001b[39;00m\u001b[39mnn\u001b[39;00m\u001b[39m.\u001b[39;00m\u001b[39mfunctional\u001b[39;00m \u001b[39mas\u001b[39;00m \u001b[39mF\u001b[39;00m\n\u001b[1;32m---> <a href='vscode-notebook-cell:/c%3A/Users/danie/Documents/Drive_EPFL/MA1/Machine_Learning/projet_2/CS433_Project2/notebooks/XLNet.ipynb#W0sZmlsZQ%3D%3D?line=18'>19</a>\u001b[0m \u001b[39mimport\u001b[39;00m \u001b[39mtransformers\u001b[39;00m\n\u001b[0;32m     <a href='vscode-notebook-cell:/c%3A/Users/danie/Documents/Drive_EPFL/MA1/Machine_Learning/projet_2/CS433_Project2/notebooks/XLNet.ipynb#W0sZmlsZQ%3D%3D?line=19'>20</a>\u001b[0m \u001b[39mfrom\u001b[39;00m \u001b[39mtransformers\u001b[39;00m \u001b[39mimport\u001b[39;00m XLNetTokenizer, XLNetModel, AdamW, get_linear_schedule_with_warmup\n\u001b[0;32m     <a href='vscode-notebook-cell:/c%3A/Users/danie/Documents/Drive_EPFL/MA1/Machine_Learning/projet_2/CS433_Project2/notebooks/XLNet.ipynb#W0sZmlsZQ%3D%3D?line=20'>21</a>\u001b[0m \u001b[39mimport\u001b[39;00m \u001b[39mtorch\u001b[39;00m\n",
            "\u001b[1;31mModuleNotFoundError\u001b[0m: No module named 'transformers'"
          ]
        }
      ],
      "source": [
        "import numpy as np\n",
        "import pandas as pd\n",
        "import src.helpers as hlp\n",
        "from sklearn.model_selection import train_test_split\n",
        "from sklearn.metrics import confusion_matrix, classification_report, accuracy_score\n",
        "from collections import defaultdict\n",
        "\n",
        "from torch import nn, optim\n",
        "from keras_preprocessing.sequence import pad_sequences\n",
        "from torch.utils.data import Dataset, DataLoader\n",
        "\n",
        "import transformers\n",
        "from transformers import XLNetTokenizer, XLNetModel, AdamW, XLNetForSequenceClassification\n",
        "import torch\n",
        "import contractions\n"
      ]
    },
    {
      "cell_type": "code",
      "execution_count": 5,
      "id": "d3cb9dd2",
      "metadata": {
        "execution": {
          "iopub.execute_input": "2022-12-19T21:21:40.613240Z",
          "iopub.status.busy": "2022-12-19T21:21:40.612384Z",
          "iopub.status.idle": "2022-12-19T21:21:46.213262Z",
          "shell.execute_reply": "2022-12-19T21:21:46.211710Z"
        },
        "papermill": {
          "duration": 5.610365,
          "end_time": "2022-12-19T21:21:46.216274",
          "exception": false,
          "start_time": "2022-12-19T21:21:40.605909",
          "status": "completed"
        },
        "tags": []
      },
      "outputs": [],
      "source": [
        "t_pos = pd.read_table('/kaggle/input/twitter-full/train_pos_full.txt', header=None, names=['tweet'], dtype=str,on_bad_lines='skip')\n",
        "t_pos['label'] = 1\n",
        "t_neg = pd.read_table('/kaggle/input/twitter-full/train_neg_full.txt', header=None, names=['tweet'], dtype=str,on_bad_lines='skip')\n",
        "t_neg['label'] = 0\n",
        "df = pd.concat((t_pos,t_neg))"
      ]
    },
    {
      "cell_type": "code",
      "execution_count": 6,
      "id": "9743e9c9",
      "metadata": {
        "execution": {
          "iopub.execute_input": "2022-12-19T21:21:46.245361Z",
          "iopub.status.busy": "2022-12-19T21:21:46.244734Z",
          "iopub.status.idle": "2022-12-19T21:25:44.993353Z",
          "shell.execute_reply": "2022-12-19T21:25:44.992351Z"
        },
        "papermill": {
          "duration": 238.765201,
          "end_time": "2022-12-19T21:25:44.995826",
          "exception": false,
          "start_time": "2022-12-19T21:21:46.230625",
          "status": "completed"
        },
        "tags": []
      },
      "outputs": [],
      "source": [
        "#df['tweet'] = df['tweet'].apply(lambda x: hlp.remove_stopwords(x))\n",
        "df['tweet'] = df['tweet'].apply(lambda x: hlp.remove_punct(x))\n",
        "df['tweet'] = df['tweet'].apply(lambda x: hlp.add_space(x))\n",
        "df['tweet'] = df['tweet'].apply(lambda x: hlp.remove_white_space(x))\n",
        "#df['tweet'] = df['tweet'].apply(lambda x: hlp.remove_words_digits(x))\n",
        "df['tweet'] = df['tweet'].apply(lambda x: hlp.to_lower(x))\n",
        "df['tweet'] = df['tweet'].apply(lambda x: hlp.unslang(x))\n",
        "df['tweet'] = df['tweet'].apply(lambda x: contractions.fix(x))\n",
        "#df['tweet'] = df['tweet'].apply(lambda x: hlp.remove_specific_words(x))\n",
        "#df['tweet'] = df['tweet'].apply(lambda x: hlp.remove_single_char(x))\n",
        "df['tweet'] = df['tweet'].apply(lambda x: hlp.lemmatize(x))\n",
        "df = df[df['tweet'] != '']\n",
        "df = df.drop_duplicates()\n",
        "df.reset_index(inplace=True)"
      ]
    },
    {
      "cell_type": "code",
      "execution_count": 7,
      "id": "9b207ddd",
      "metadata": {
        "execution": {
          "iopub.execute_input": "2022-12-19T21:25:45.009872Z",
          "iopub.status.busy": "2022-12-19T21:25:45.008893Z",
          "iopub.status.idle": "2022-12-19T21:25:45.014529Z",
          "shell.execute_reply": "2022-12-19T21:25:45.013634Z"
        },
        "papermill": {
          "duration": 0.01511,
          "end_time": "2022-12-19T21:25:45.016730",
          "exception": false,
          "start_time": "2022-12-19T21:25:45.001620",
          "status": "completed"
        },
        "tags": []
      },
      "outputs": [],
      "source": [
        "MAX_LEN = 256"
      ]
    },
    {
      "cell_type": "code",
      "execution_count": 8,
      "id": "596aa45b",
      "metadata": {
        "execution": {
          "iopub.execute_input": "2022-12-19T21:25:45.030277Z",
          "iopub.status.busy": "2022-12-19T21:25:45.029961Z",
          "iopub.status.idle": "2022-12-19T21:25:45.040182Z",
          "shell.execute_reply": "2022-12-19T21:25:45.039333Z"
        },
        "papermill": {
          "duration": 0.019782,
          "end_time": "2022-12-19T21:25:45.042128",
          "exception": false,
          "start_time": "2022-12-19T21:25:45.022346",
          "status": "completed"
        },
        "tags": []
      },
      "outputs": [],
      "source": [
        "class CustomDataset(Dataset):\n",
        "\n",
        "    def __init__(self, tweets, labels, tokenizer, max_len):\n",
        "        self.tweets = tweets\n",
        "        self.labels = labels\n",
        "        self.tokenizer = tokenizer\n",
        "        self.max_len = max_len\n",
        "    \n",
        "    def __len__(self):\n",
        "        return len(self.tweets)\n",
        "    \n",
        "    def __getitem__(self, index):\n",
        "        tweet = str(self.tweets[index])\n",
        "        label = self.labels[index]\n",
        "\n",
        "        encoding = self.tokenizer.encode_plus(\n",
        "        tweet,\n",
        "        add_special_tokens=True,\n",
        "        max_length=self.max_len,\n",
        "        return_token_type_ids=False,\n",
        "        pad_to_max_length=False,\n",
        "        return_attention_mask=True,\n",
        "        return_tensors='pt',\n",
        "        )\n",
        "\n",
        "        input_ids = pad_sequences(encoding['input_ids'], maxlen=MAX_LEN, dtype=torch.Tensor ,truncating=\"post\",padding=\"post\")\n",
        "        input_ids = input_ids.astype(dtype = 'int64')\n",
        "        input_ids = torch.tensor(input_ids) \n",
        "\n",
        "        attention_mask = pad_sequences(encoding['attention_mask'], maxlen=MAX_LEN, dtype=torch.Tensor ,truncating=\"post\",padding=\"post\")\n",
        "        attention_mask = attention_mask.astype(dtype = 'int64')\n",
        "        attention_mask = torch.tensor(attention_mask)       \n",
        "\n",
        "        return {\n",
        "        'review_text': tweet,\n",
        "        'input_ids': input_ids,\n",
        "        'attention_mask': attention_mask.flatten(),\n",
        "        'targets': torch.tensor(label, dtype=torch.long)\n",
        "        }"
      ]
    },
    {
      "cell_type": "code",
      "execution_count": 9,
      "id": "653a7471",
      "metadata": {
        "execution": {
          "iopub.execute_input": "2022-12-19T21:25:45.054481Z",
          "iopub.status.busy": "2022-12-19T21:25:45.053823Z",
          "iopub.status.idle": "2022-12-19T21:25:45.540599Z",
          "shell.execute_reply": "2022-12-19T21:25:45.539237Z"
        },
        "papermill": {
          "duration": 0.495804,
          "end_time": "2022-12-19T21:25:45.543323",
          "exception": false,
          "start_time": "2022-12-19T21:25:45.047519",
          "status": "completed"
        },
        "tags": []
      },
      "outputs": [],
      "source": [
        "X_train, X_test, y_train, y_test = train_test_split (df['tweet'], df['label'] , test_size=0.2)"
      ]
    },
    {
      "cell_type": "code",
      "execution_count": 10,
      "id": "106c370a",
      "metadata": {
        "execution": {
          "iopub.execute_input": "2022-12-19T21:25:45.557486Z",
          "iopub.status.busy": "2022-12-19T21:25:45.556496Z",
          "iopub.status.idle": "2022-12-19T21:25:46.987832Z",
          "shell.execute_reply": "2022-12-19T21:25:46.986869Z"
        },
        "papermill": {
          "duration": 1.440911,
          "end_time": "2022-12-19T21:25:46.990297",
          "exception": false,
          "start_time": "2022-12-19T21:25:45.549386",
          "status": "completed"
        },
        "tags": []
      },
      "outputs": [
        {
          "data": {
            "application/vnd.jupyter.widget-view+json": {
              "model_id": "a687ce0ebdbe43be80e88c0c339ba25f",
              "version_major": 2,
              "version_minor": 0
            },
            "text/plain": [
              "Downloading:   0%|          | 0.00/779k [00:00<?, ?B/s]"
            ]
          },
          "metadata": {},
          "output_type": "display_data"
        },
        {
          "data": {
            "application/vnd.jupyter.widget-view+json": {
              "model_id": "6c2dd170f3bb4855bdd8becd224741a2",
              "version_major": 2,
              "version_minor": 0
            },
            "text/plain": [
              "Downloading:   0%|          | 0.00/760 [00:00<?, ?B/s]"
            ]
          },
          "metadata": {},
          "output_type": "display_data"
        }
      ],
      "source": [
        "xlnet_tokenizer = XLNetTokenizer.from_pretrained('xlnet-base-cased')"
      ]
    },
    {
      "cell_type": "code",
      "execution_count": 11,
      "id": "08a0a641",
      "metadata": {
        "execution": {
          "iopub.execute_input": "2022-12-19T21:25:47.003356Z",
          "iopub.status.busy": "2022-12-19T21:25:47.003005Z",
          "iopub.status.idle": "2022-12-19T21:25:47.008058Z",
          "shell.execute_reply": "2022-12-19T21:25:47.007102Z"
        },
        "papermill": {
          "duration": 0.013764,
          "end_time": "2022-12-19T21:25:47.010006",
          "exception": false,
          "start_time": "2022-12-19T21:25:46.996242",
          "status": "completed"
        },
        "tags": []
      },
      "outputs": [],
      "source": [
        "tweet_train_dataset = CustomDataset(tweets=X_train.to_numpy(), labels=y_train.to_numpy(), tokenizer=xlnet_tokenizer, max_len=MAX_LEN)\n",
        "tweet_test_dataset = CustomDataset(tweets=X_test.to_numpy(), labels=y_test.to_numpy(), tokenizer=xlnet_tokenizer, max_len=MAX_LEN)\n"
      ]
    },
    {
      "cell_type": "code",
      "execution_count": 12,
      "id": "3cc0be5c",
      "metadata": {
        "execution": {
          "iopub.execute_input": "2022-12-19T21:25:47.035274Z",
          "iopub.status.busy": "2022-12-19T21:25:47.034534Z",
          "iopub.status.idle": "2022-12-19T21:25:47.041593Z",
          "shell.execute_reply": "2022-12-19T21:25:47.040506Z"
        },
        "papermill": {
          "duration": 0.023709,
          "end_time": "2022-12-19T21:25:47.044140",
          "exception": false,
          "start_time": "2022-12-19T21:25:47.020431",
          "status": "completed"
        },
        "tags": []
      },
      "outputs": [],
      "source": [
        "BATCH_SIZE = 32"
      ]
    },
    {
      "cell_type": "code",
      "execution_count": 13,
      "id": "ec5002ec",
      "metadata": {
        "execution": {
          "iopub.execute_input": "2022-12-19T21:25:47.058808Z",
          "iopub.status.busy": "2022-12-19T21:25:47.058461Z",
          "iopub.status.idle": "2022-12-19T21:25:47.063586Z",
          "shell.execute_reply": "2022-12-19T21:25:47.062503Z"
        },
        "papermill": {
          "duration": 0.014846,
          "end_time": "2022-12-19T21:25:47.065832",
          "exception": false,
          "start_time": "2022-12-19T21:25:47.050986",
          "status": "completed"
        },
        "tags": []
      },
      "outputs": [],
      "source": [
        "tweet_train_loader = DataLoader(tweet_train_dataset, batch_size=BATCH_SIZE)\n",
        "tweet_test_loader = DataLoader(tweet_test_dataset, batch_size=BATCH_SIZE)\n"
      ]
    },
    {
      "cell_type": "code",
      "execution_count": 14,
      "id": "5967255b",
      "metadata": {
        "execution": {
          "iopub.execute_input": "2022-12-19T21:25:47.079598Z",
          "iopub.status.busy": "2022-12-19T21:25:47.079210Z",
          "iopub.status.idle": "2022-12-19T21:26:04.482121Z",
          "shell.execute_reply": "2022-12-19T21:26:04.481084Z"
        },
        "papermill": {
          "duration": 17.412736,
          "end_time": "2022-12-19T21:26:04.484919",
          "exception": false,
          "start_time": "2022-12-19T21:25:47.072183",
          "status": "completed"
        },
        "tags": []
      },
      "outputs": [
        {
          "data": {
            "application/vnd.jupyter.widget-view+json": {
              "model_id": "d8070d6b83c142cbad65363c873cbb0f",
              "version_major": 2,
              "version_minor": 0
            },
            "text/plain": [
              "Downloading:   0%|          | 0.00/445M [00:00<?, ?B/s]"
            ]
          },
          "metadata": {},
          "output_type": "display_data"
        },
        {
          "name": "stderr",
          "output_type": "stream",
          "text": [
            "Some weights of the model checkpoint at xlnet-base-cased were not used when initializing XLNetForSequenceClassification: ['lm_loss.bias', 'lm_loss.weight']\n",
            "- This IS expected if you are initializing XLNetForSequenceClassification from the checkpoint of a model trained on another task or with another architecture (e.g. initializing a BertForSequenceClassification model from a BertForPreTraining model).\n",
            "- This IS NOT expected if you are initializing XLNetForSequenceClassification from the checkpoint of a model that you expect to be exactly identical (initializing a BertForSequenceClassification model from a BertForSequenceClassification model).\n"
          ]
        },
        {
          "name": "stderr",
          "output_type": "stream",
          "text": [
            "Some weights of XLNetForSequenceClassification were not initialized from the model checkpoint at xlnet-base-cased and are newly initialized: ['sequence_summary.summary.weight', 'logits_proj.weight', 'logits_proj.bias', 'sequence_summary.summary.bias']\n",
            "You should probably TRAIN this model on a down-stream task to be able to use it for predictions and inference.\n"
          ]
        }
      ],
      "source": [
        "EPOCHS = 3\n",
        "\n",
        "model = XLNetForSequenceClassification.from_pretrained('xlnet-base-cased', num_labels = 2)\n",
        "device = torch.device('cuda' if torch.cuda.is_available() else 'cpu')\n",
        "model = model.to(device)\n"
      ]
    },
    {
      "cell_type": "code",
      "execution_count": 15,
      "id": "9218a199",
      "metadata": {
        "execution": {
          "iopub.execute_input": "2022-12-19T21:26:04.498720Z",
          "iopub.status.busy": "2022-12-19T21:26:04.498423Z",
          "iopub.status.idle": "2022-12-19T21:26:04.503913Z",
          "shell.execute_reply": "2022-12-19T21:26:04.502828Z"
        },
        "papermill": {
          "duration": 0.015027,
          "end_time": "2022-12-19T21:26:04.506417",
          "exception": false,
          "start_time": "2022-12-19T21:26:04.491390",
          "status": "completed"
        },
        "tags": []
      },
      "outputs": [],
      "source": [
        "optimizer = torch.optim.AdamW(model.parameters(), lr=3e-5)"
      ]
    },
    {
      "cell_type": "code",
      "execution_count": 16,
      "id": "43deaff7",
      "metadata": {
        "execution": {
          "iopub.execute_input": "2022-12-19T21:26:04.519304Z",
          "iopub.status.busy": "2022-12-19T21:26:04.519018Z",
          "iopub.status.idle": "2022-12-19T21:26:04.536535Z",
          "shell.execute_reply": "2022-12-19T21:26:04.535618Z"
        },
        "papermill": {
          "duration": 0.026255,
          "end_time": "2022-12-19T21:26:04.538752",
          "exception": false,
          "start_time": "2022-12-19T21:26:04.512497",
          "status": "completed"
        },
        "tags": []
      },
      "outputs": [],
      "source": [
        "from sklearn import metrics\n",
        "def train_epoch(model, data_loader, optimizer, device, n_examples):\n",
        "    model = model.train()\n",
        "    losses = []\n",
        "    acc = 0\n",
        "    counter = 0\n",
        "  \n",
        "    for d in data_loader:\n",
        "        input_ids_shape = d[\"input_ids\"].shape\n",
        "        input_ids = d[\"input_ids\"].reshape(input_ids_shape[0],input_ids_shape[2]).to(device)\n",
        "        attention_mask = d[\"attention_mask\"].to(device)\n",
        "        targets = d[\"targets\"].to(device)\n",
        "        \n",
        "        outputs = model(input_ids=input_ids, token_type_ids=None, attention_mask=attention_mask, labels = targets)\n",
        "        loss = outputs[0]\n",
        "        logits = outputs[1]\n",
        "\n",
        "        _, prediction = torch.max(outputs[1], dim=1)\n",
        "        targets = targets.cpu().detach().numpy()\n",
        "        prediction = prediction.cpu().detach().numpy()\n",
        "        accuracy = metrics.accuracy_score(targets, prediction)\n",
        "\n",
        "        acc += accuracy\n",
        "        losses.append(loss.item())\n",
        "        \n",
        "        loss.backward()\n",
        "\n",
        "        optimizer.step()\n",
        "        optimizer.zero_grad()\n",
        "        if counter % 1000 == 0:\n",
        "            save_str = '/kaggle/working/xlnet_model_'+str(counter)+'.bin'\n",
        "            torch.save(model.state_dict(), save_str)\n",
        "        if counter%100 == 0:\n",
        "                print(\"{}th iteration over {} = {}%\".format(counter, len(data_loader), 100.0*counter/len(data_loader)))\n",
        "                print(\"running mean_acc : \", acc/counter if counter != 0 else acc)\n",
        "                print(\"running mean_loss : \", np.mean(losses))\n",
        "        counter = counter + 1\n",
        "        \n",
        "        \n",
        "\n",
        "    return acc / counter, np.mean(losses)"
      ]
    },
    {
      "cell_type": "code",
      "execution_count": 17,
      "id": "398f82cb",
      "metadata": {
        "execution": {
          "iopub.execute_input": "2022-12-19T21:26:04.552052Z",
          "iopub.status.busy": "2022-12-19T21:26:04.551750Z",
          "iopub.status.idle": "2022-12-19T21:26:04.562076Z",
          "shell.execute_reply": "2022-12-19T21:26:04.561139Z"
        },
        "papermill": {
          "duration": 0.019619,
          "end_time": "2022-12-19T21:26:04.564326",
          "exception": false,
          "start_time": "2022-12-19T21:26:04.544707",
          "status": "completed"
        },
        "tags": []
      },
      "outputs": [],
      "source": [
        "def eval_model(model, data_loader, device, n_examples):\n",
        "    model = model.eval()\n",
        "    losses = []\n",
        "    acc = 0\n",
        "    counter = 0\n",
        "  \n",
        "    with torch.no_grad():\n",
        "        for d in data_loader:\n",
        "            input_ids_shape = d[\"input_ids\"].shape\n",
        "            input_ids = d[\"input_ids\"].reshape(input_ids_shape[0],input_ids_shape[2]).to(device)\n",
        "            attention_mask = d[\"attention_mask\"].to(device)\n",
        "            targets = d[\"targets\"].to(device)\n",
        "            \n",
        "            outputs = model(input_ids=input_ids, token_type_ids=None, attention_mask=attention_mask, labels = targets)\n",
        "\n",
        "            loss = outputs[0]\n",
        "            logits = outputs[1]\n",
        "\n",
        "            _, prediction = torch.max(outputs[1], dim=1)\n",
        "            targets = targets.cpu().detach().numpy()\n",
        "            prediction = prediction.cpu().detach().numpy()\n",
        "            accuracy = metrics.accuracy_score(targets, prediction)\n",
        "\n",
        "            acc += accuracy\n",
        "            losses.append(loss.item())\n",
        "            if counter%100 == 0:\n",
        "                print(\"{}th iteration over {} = {}%\".format(counter, len(data_loader), 100.0*counter/len(data_loader)))\n",
        "                print(\"running mean_acc : \", acc/counter if counter != 0 else acc)\n",
        "                print(\"running mean_loss : \", np.mean(losses))\n",
        "            counter += 1\n",
        "            \n",
        "\n",
        "    return acc / counter, np.mean(losses)"
      ]
    },
    {
      "cell_type": "code",
      "execution_count": 18,
      "id": "6276a09c",
      "metadata": {
        "execution": {
          "iopub.execute_input": "2022-12-19T21:26:04.578201Z",
          "iopub.status.busy": "2022-12-19T21:26:04.577269Z"
        },
        "papermill": {
          "duration": null,
          "end_time": null,
          "exception": false,
          "start_time": "2022-12-19T21:26:04.570376",
          "status": "running"
        },
        "tags": []
      },
      "outputs": [
        {
          "name": "stderr",
          "output_type": "stream",
          "text": [
            "Truncation was not explicitly activated but `max_length` is provided a specific value, please use `truncation=True` to explicitly truncate examples to max length. Defaulting to 'longest_first' truncation strategy. If you encode pairs of sequences (GLUE-style) with the tokenizer you can select this strategy more precisely by providing a specific strategy to `truncation`.\n"
          ]
        },
        {
          "name": "stdout",
          "output_type": "stream",
          "text": [
            "Epoch 1/3\n",
            "----------\n"
          ]
        },
        {
          "name": "stdout",
          "output_type": "stream",
          "text": [
            "0th iteration over 55193 = 0.0%\n",
            "running mean_acc :  0.46875\n",
            "running mean_loss :  0.7471943497657776\n"
          ]
        },
        {
          "name": "stdout",
          "output_type": "stream",
          "text": [
            "100th iteration over 55193 = 0.1811823963183737%\n",
            "running mean_acc :  0.619375\n",
            "running mean_loss :  0.638375850302158\n"
          ]
        },
        {
          "name": "stdout",
          "output_type": "stream",
          "text": [
            "200th iteration over 55193 = 0.3623647926367474%\n",
            "running mean_acc :  0.68953125\n",
            "running mean_loss :  0.5699611077112938\n"
          ]
        },
        {
          "name": "stdout",
          "output_type": "stream",
          "text": [
            "300th iteration over 55193 = 0.5435471889551211%\n",
            "running mean_acc :  0.7217708333333334\n",
            "running mean_loss :  0.530358553675322\n"
          ]
        },
        {
          "name": "stdout",
          "output_type": "stream",
          "text": [
            "400th iteration over 55193 = 0.7247295852734948%\n",
            "running mean_acc :  0.74\n",
            "running mean_loss :  0.508541116244775\n"
          ]
        },
        {
          "name": "stdout",
          "output_type": "stream",
          "text": [
            "500th iteration over 55193 = 0.9059119815918686%\n",
            "running mean_acc :  0.7515625\n",
            "running mean_loss :  0.49362174907844225\n"
          ]
        },
        {
          "name": "stdout",
          "output_type": "stream",
          "text": [
            "600th iteration over 55193 = 1.0870943779102422%\n",
            "running mean_acc :  0.75921875\n",
            "running mean_loss :  0.48311764019202075\n"
          ]
        },
        {
          "name": "stdout",
          "output_type": "stream",
          "text": [
            "700th iteration over 55193 = 1.2682767742286158%\n",
            "running mean_acc :  0.7655803571428571\n",
            "running mean_loss :  0.47365577678367515\n"
          ]
        },
        {
          "name": "stdout",
          "output_type": "stream",
          "text": [
            "800th iteration over 55193 = 1.4494591705469897%\n",
            "running mean_acc :  0.7713671875\n",
            "running mean_loss :  0.4655222584320216\n"
          ]
        },
        {
          "name": "stdout",
          "output_type": "stream",
          "text": [
            "900th iteration over 55193 = 1.6306415668653633%\n",
            "running mean_acc :  0.7769097222222222\n",
            "running mean_loss :  0.4566446653547615\n"
          ]
        },
        {
          "name": "stdout",
          "output_type": "stream",
          "text": [
            "1000th iteration over 55193 = 1.8118239631837372%\n",
            "running mean_acc :  0.780875\n",
            "running mean_loss :  0.45107135856961394\n"
          ]
        },
        {
          "name": "stdout",
          "output_type": "stream",
          "text": [
            "1100th iteration over 55193 = 1.9930063595021108%\n",
            "running mean_acc :  0.7841761363636364\n",
            "running mean_loss :  0.44651316210532815\n"
          ]
        },
        {
          "name": "stdout",
          "output_type": "stream",
          "text": [
            "1200th iteration over 55193 = 2.1741887558204844%\n",
            "running mean_acc :  0.7860677083333333\n",
            "running mean_loss :  0.44296388851663254\n"
          ]
        },
        {
          "name": "stdout",
          "output_type": "stream",
          "text": [
            "1300th iteration over 55193 = 2.3553711521388583%\n",
            "running mean_acc :  0.7881009615384615\n",
            "running mean_loss :  0.4402327844608206\n"
          ]
        },
        {
          "name": "stdout",
          "output_type": "stream",
          "text": [
            "1400th iteration over 55193 = 2.5365535484572317%\n",
            "running mean_acc :  0.78984375\n",
            "running mean_loss :  0.43778424591442927\n"
          ]
        },
        {
          "name": "stdout",
          "output_type": "stream",
          "text": [
            "1500th iteration over 55193 = 2.7177359447756055%\n",
            "running mean_acc :  0.7921458333333333\n",
            "running mean_loss :  0.43421804445295\n"
          ]
        },
        {
          "name": "stdout",
          "output_type": "stream",
          "text": [
            "1600th iteration over 55193 = 2.8989183410939794%\n",
            "running mean_acc :  0.794140625\n",
            "running mean_loss :  0.4301996943561231\n"
          ]
        },
        {
          "name": "stdout",
          "output_type": "stream",
          "text": [
            "1700th iteration over 55193 = 3.080100737412353%\n",
            "running mean_acc :  0.795\n",
            "running mean_loss :  0.42895475365462404\n"
          ]
        },
        {
          "name": "stdout",
          "output_type": "stream",
          "text": [
            "1800th iteration over 55193 = 3.2612831337307266%\n",
            "running mean_acc :  0.7968055555555555\n",
            "running mean_loss :  0.4259242844757009\n"
          ]
        },
        {
          "name": "stdout",
          "output_type": "stream",
          "text": [
            "1900th iteration over 55193 = 3.4424655300491005%\n",
            "running mean_acc :  0.7982072368421053\n",
            "running mean_loss :  0.4233147289284526\n"
          ]
        },
        {
          "name": "stdout",
          "output_type": "stream",
          "text": [
            "2000th iteration over 55193 = 3.6236479263674743%\n",
            "running mean_acc :  0.79978125\n",
            "running mean_loss :  0.42125358995886103\n"
          ]
        },
        {
          "name": "stdout",
          "output_type": "stream",
          "text": [
            "2100th iteration over 55193 = 3.8048303226858478%\n",
            "running mean_acc :  0.8010416666666667\n",
            "running mean_loss :  0.41942068652162545\n"
          ]
        },
        {
          "name": "stdout",
          "output_type": "stream",
          "text": [
            "2200th iteration over 55193 = 3.9860127190042216%\n",
            "running mean_acc :  0.8025142045454545\n",
            "running mean_loss :  0.41755838859411654\n"
          ]
        },
        {
          "name": "stdout",
          "output_type": "stream",
          "text": [
            "2300th iteration over 55193 = 4.1671951153225955%\n",
            "running mean_acc :  0.8036820652173913\n",
            "running mean_loss :  0.4156302169761881\n"
          ]
        },
        {
          "name": "stdout",
          "output_type": "stream",
          "text": [
            "2400th iteration over 55193 = 4.348377511640969%\n",
            "running mean_acc :  0.8045963541666666\n",
            "running mean_loss :  0.4148089951435659\n"
          ]
        },
        {
          "name": "stdout",
          "output_type": "stream",
          "text": [
            "2500th iteration over 55193 = 4.529559907959342%\n",
            "running mean_acc :  0.8051\n",
            "running mean_loss :  0.4135997541984621\n"
          ]
        },
        {
          "name": "stdout",
          "output_type": "stream",
          "text": [
            "2600th iteration over 55193 = 4.710742304277717%\n",
            "running mean_acc :  0.8060697115384615\n",
            "running mean_loss :  0.41202859847488793\n"
          ]
        },
        {
          "name": "stdout",
          "output_type": "stream",
          "text": [
            "2700th iteration over 55193 = 4.89192470059609%\n",
            "running mean_acc :  0.8069560185185185\n",
            "running mean_loss :  0.4107181016701939\n"
          ]
        },
        {
          "name": "stdout",
          "output_type": "stream",
          "text": [
            "2800th iteration over 55193 = 5.073107096914463%\n",
            "running mean_acc :  0.8077790178571429\n",
            "running mean_loss :  0.409741498442132\n"
          ]
        },
        {
          "name": "stdout",
          "output_type": "stream",
          "text": [
            "2900th iteration over 55193 = 5.254289493232838%\n",
            "running mean_acc :  0.8083943965517242\n",
            "running mean_loss :  0.40918636348731596\n"
          ]
        },
        {
          "name": "stdout",
          "output_type": "stream",
          "text": [
            "3000th iteration over 55193 = 5.435471889551211%\n",
            "running mean_acc :  0.8089583333333333\n",
            "running mean_loss :  0.40831339727219484\n"
          ]
        },
        {
          "name": "stdout",
          "output_type": "stream",
          "text": [
            "3100th iteration over 55193 = 5.6166542858695845%\n",
            "running mean_acc :  0.8096975806451613\n",
            "running mean_loss :  0.4070071203166229\n"
          ]
        },
        {
          "name": "stdout",
          "output_type": "stream",
          "text": [
            "3200th iteration over 55193 = 5.797836682187959%\n",
            "running mean_acc :  0.81064453125\n",
            "running mean_loss :  0.405379421634251\n"
          ]
        },
        {
          "name": "stdout",
          "output_type": "stream",
          "text": [
            "3300th iteration over 55193 = 5.979019078506332%\n",
            "running mean_acc :  0.8116477272727273\n",
            "running mean_loss :  0.4038490427376393\n"
          ]
        },
        {
          "name": "stdout",
          "output_type": "stream",
          "text": [
            "3400th iteration over 55193 = 6.160201474824706%\n",
            "running mean_acc :  0.8124356617647058\n",
            "running mean_loss :  0.4029259335833485\n"
          ]
        },
        {
          "name": "stdout",
          "output_type": "stream",
          "text": [
            "3500th iteration over 55193 = 6.34138387114308%\n",
            "running mean_acc :  0.8130803571428571\n",
            "running mean_loss :  0.40213026790338324\n"
          ]
        },
        {
          "name": "stdout",
          "output_type": "stream",
          "text": [
            "3600th iteration over 55193 = 6.522566267461453%\n",
            "running mean_acc :  0.8136111111111111\n",
            "running mean_loss :  0.4012454929111137\n"
          ]
        },
        {
          "name": "stdout",
          "output_type": "stream",
          "text": [
            "3700th iteration over 55193 = 6.703748663779828%\n",
            "running mean_acc :  0.8141807432432432\n",
            "running mean_loss :  0.400053723621887\n"
          ]
        },
        {
          "name": "stdout",
          "output_type": "stream",
          "text": [
            "3800th iteration over 55193 = 6.884931060098201%\n",
            "running mean_acc :  0.8147121710526316\n",
            "running mean_loss :  0.39897355780111304\n"
          ]
        },
        {
          "name": "stdout",
          "output_type": "stream",
          "text": [
            "3900th iteration over 55193 = 7.066113456416574%\n",
            "running mean_acc :  0.8151842948717949\n",
            "running mean_loss :  0.39809697518644194\n"
          ]
        },
        {
          "name": "stdout",
          "output_type": "stream",
          "text": [
            "4000th iteration over 55193 = 7.247295852734949%\n",
            "running mean_acc :  0.8155859375\n",
            "running mean_loss :  0.3973853713522044\n"
          ]
        },
        {
          "name": "stdout",
          "output_type": "stream",
          "text": [
            "4100th iteration over 55193 = 7.428478249053322%\n",
            "running mean_acc :  0.8162195121951219\n",
            "running mean_loss :  0.3965108724348692\n"
          ]
        },
        {
          "name": "stdout",
          "output_type": "stream",
          "text": [
            "4200th iteration over 55193 = 7.6096606453716955%\n",
            "running mean_acc :  0.8168377976190476\n",
            "running mean_loss :  0.3955818380441333\n"
          ]
        },
        {
          "name": "stdout",
          "output_type": "stream",
          "text": [
            "4300th iteration over 55193 = 7.79084304169007%\n",
            "running mean_acc :  0.817405523255814\n",
            "running mean_loss :  0.3948194791437914\n"
          ]
        },
        {
          "name": "stdout",
          "output_type": "stream",
          "text": [
            "4400th iteration over 55193 = 7.972025438008443%\n",
            "running mean_acc :  0.81796875\n",
            "running mean_loss :  0.39411777093535905\n"
          ]
        },
        {
          "name": "stdout",
          "output_type": "stream",
          "text": [
            "4500th iteration over 55193 = 8.153207834326818%\n",
            "running mean_acc :  0.8179305555555556\n",
            "running mean_loss :  0.39371369342602935\n"
          ]
        },
        {
          "name": "stdout",
          "output_type": "stream",
          "text": [
            "4600th iteration over 55193 = 8.334390230645191%\n",
            "running mean_acc :  0.818335597826087\n",
            "running mean_loss :  0.3929224139440969\n"
          ]
        },
        {
          "name": "stdout",
          "output_type": "stream",
          "text": [
            "4700th iteration over 55193 = 8.515572626963564%\n",
            "running mean_acc :  0.818936170212766\n",
            "running mean_loss :  0.3919083588546424\n"
          ]
        },
        {
          "name": "stdout",
          "output_type": "stream",
          "text": [
            "4800th iteration over 55193 = 8.696755023281938%\n",
            "running mean_acc :  0.8193294270833333\n",
            "running mean_loss :  0.3914357055908962\n"
          ]
        },
        {
          "name": "stdout",
          "output_type": "stream",
          "text": [
            "4900th iteration over 55193 = 8.877937419600311%\n",
            "running mean_acc :  0.8196364795918367\n",
            "running mean_loss :  0.39074953206733304\n"
          ]
        },
        {
          "name": "stdout",
          "output_type": "stream",
          "text": [
            "5000th iteration over 55193 = 9.059119815918685%\n",
            "running mean_acc :  0.8199375\n",
            "running mean_loss :  0.3901404729040354\n"
          ]
        },
        {
          "name": "stdout",
          "output_type": "stream",
          "text": [
            "5100th iteration over 55193 = 9.24030221223706%\n",
            "running mean_acc :  0.8202573529411765\n",
            "running mean_loss :  0.38939380950727687\n"
          ]
        },
        {
          "name": "stdout",
          "output_type": "stream",
          "text": [
            "5200th iteration over 55193 = 9.421484608555433%\n",
            "running mean_acc :  0.8205769230769231\n",
            "running mean_loss :  0.3885450403241326\n"
          ]
        },
        {
          "name": "stdout",
          "output_type": "stream",
          "text": [
            "5300th iteration over 55193 = 9.602667004873807%\n",
            "running mean_acc :  0.820566037735849\n",
            "running mean_loss :  0.3883090977667863\n"
          ]
        },
        {
          "name": "stdout",
          "output_type": "stream",
          "text": [
            "5400th iteration over 55193 = 9.78384940119218%\n",
            "running mean_acc :  0.820943287037037\n",
            "running mean_loss :  0.38775611756560185\n"
          ]
        },
        {
          "name": "stdout",
          "output_type": "stream",
          "text": [
            "5500th iteration over 55193 = 9.965031797510553%\n",
            "running mean_acc :  0.8213238636363637\n",
            "running mean_loss :  0.3870404879207872\n"
          ]
        },
        {
          "name": "stdout",
          "output_type": "stream",
          "text": [
            "5600th iteration over 55193 = 10.146214193828927%\n",
            "running mean_acc :  0.8216964285714285\n",
            "running mean_loss :  0.3863838863314805\n"
          ]
        },
        {
          "name": "stdout",
          "output_type": "stream",
          "text": [
            "5700th iteration over 55193 = 10.327396590147302%\n",
            "running mean_acc :  0.8219243421052631\n",
            "running mean_loss :  0.38599100687920557\n"
          ]
        },
        {
          "name": "stdout",
          "output_type": "stream",
          "text": [
            "5800th iteration over 55193 = 10.508578986465675%\n",
            "running mean_acc :  0.8221497844827587\n",
            "running mean_loss :  0.38559547180097653\n"
          ]
        },
        {
          "name": "stdout",
          "output_type": "stream",
          "text": [
            "5900th iteration over 55193 = 10.689761382784049%\n",
            "running mean_acc :  0.8225529661016949\n",
            "running mean_loss :  0.38496715302988344\n"
          ]
        },
        {
          "name": "stdout",
          "output_type": "stream",
          "text": [
            "6000th iteration over 55193 = 10.870943779102422%\n",
            "running mean_acc :  0.8227135416666667\n",
            "running mean_loss :  0.3847162361937927\n"
          ]
        },
        {
          "name": "stdout",
          "output_type": "stream",
          "text": [
            "6100th iteration over 55193 = 11.052126175420796%\n",
            "running mean_acc :  0.8227612704918033\n",
            "running mean_loss :  0.3845397580284952\n"
          ]
        },
        {
          "name": "stdout",
          "output_type": "stream",
          "text": [
            "6200th iteration over 55193 = 11.233308571739169%\n",
            "running mean_acc :  0.8229082661290322\n",
            "running mean_loss :  0.3841399567847847\n"
          ]
        },
        {
          "name": "stdout",
          "output_type": "stream",
          "text": [
            "6300th iteration over 55193 = 11.414490968057544%\n",
            "running mean_acc :  0.8230605158730159\n",
            "running mean_loss :  0.38375051106404473\n"
          ]
        },
        {
          "name": "stdout",
          "output_type": "stream",
          "text": [
            "6400th iteration over 55193 = 11.595673364375918%\n",
            "running mean_acc :  0.8232421875\n",
            "running mean_loss :  0.3833018121736028\n"
          ]
        },
        {
          "name": "stdout",
          "output_type": "stream",
          "text": [
            "6500th iteration over 55193 = 11.776855760694291%\n",
            "running mean_acc :  0.8234951923076923\n",
            "running mean_loss :  0.3828727662198875\n"
          ]
        },
        {
          "name": "stdout",
          "output_type": "stream",
          "text": [
            "6600th iteration over 55193 = 11.958038157012664%\n",
            "running mean_acc :  0.8238825757575757\n",
            "running mean_loss :  0.38216078731191466\n"
          ]
        },
        {
          "name": "stdout",
          "output_type": "stream",
          "text": [
            "6700th iteration over 55193 = 12.139220553331038%\n",
            "running mean_acc :  0.8241884328358209\n",
            "running mean_loss :  0.3815390388312455\n"
          ]
        },
        {
          "name": "stdout",
          "output_type": "stream",
          "text": [
            "6800th iteration over 55193 = 12.320402949649411%\n",
            "running mean_acc :  0.8244255514705883\n",
            "running mean_loss :  0.38125471483410467\n"
          ]
        },
        {
          "name": "stdout",
          "output_type": "stream",
          "text": [
            "6900th iteration over 55193 = 12.501585345967786%\n",
            "running mean_acc :  0.8246467391304347\n",
            "running mean_loss :  0.38103769744324384\n"
          ]
        },
        {
          "name": "stdout",
          "output_type": "stream",
          "text": [
            "7000th iteration over 55193 = 12.68276774228616%\n",
            "running mean_acc :  0.8248616071428572\n",
            "running mean_loss :  0.3805563756194375\n"
          ]
        },
        {
          "name": "stdout",
          "output_type": "stream",
          "text": [
            "7100th iteration over 55193 = 12.863950138604533%\n",
            "running mean_acc :  0.8250704225352112\n",
            "running mean_loss :  0.3801620320396396\n"
          ]
        },
        {
          "name": "stdout",
          "output_type": "stream",
          "text": [
            "7200th iteration over 55193 = 13.045132534922907%\n",
            "running mean_acc :  0.8253342013888889\n",
            "running mean_loss :  0.3798645873689979\n"
          ]
        },
        {
          "name": "stdout",
          "output_type": "stream",
          "text": [
            "7300th iteration over 55193 = 13.22631493124128%\n",
            "running mean_acc :  0.8255821917808219\n",
            "running mean_loss :  0.37950125234700316\n"
          ]
        },
        {
          "name": "stdout",
          "output_type": "stream",
          "text": [
            "7400th iteration over 55193 = 13.407497327559655%\n",
            "running mean_acc :  0.8256967905405406\n",
            "running mean_loss :  0.3793625887324803\n"
          ]
        },
        {
          "name": "stdout",
          "output_type": "stream",
          "text": [
            "7500th iteration over 55193 = 13.588679723878029%\n",
            "running mean_acc :  0.8258958333333334\n",
            "running mean_loss :  0.3790773833492107\n"
          ]
        },
        {
          "name": "stdout",
          "output_type": "stream",
          "text": [
            "7600th iteration over 55193 = 13.769862120196402%\n",
            "running mean_acc :  0.8261759868421052\n",
            "running mean_loss :  0.3787530777715426\n"
          ]
        },
        {
          "name": "stdout",
          "output_type": "stream",
          "text": [
            "7700th iteration over 55193 = 13.951044516514775%\n",
            "running mean_acc :  0.8263474025974026\n",
            "running mean_loss :  0.37854182513820367\n"
          ]
        },
        {
          "name": "stdout",
          "output_type": "stream",
          "text": [
            "7800th iteration over 55193 = 14.132226912833149%\n",
            "running mean_acc :  0.826738782051282\n",
            "running mean_loss :  0.3780376171654286\n"
          ]
        },
        {
          "name": "stdout",
          "output_type": "stream",
          "text": [
            "7900th iteration over 55193 = 14.313409309151522%\n",
            "running mean_acc :  0.8271518987341772\n",
            "running mean_loss :  0.37743949816677635\n"
          ]
        },
        {
          "name": "stdout",
          "output_type": "stream",
          "text": [
            "8000th iteration over 55193 = 14.494591705469897%\n",
            "running mean_acc :  0.82726171875\n",
            "running mean_loss :  0.3772196803898934\n"
          ]
        },
        {
          "name": "stdout",
          "output_type": "stream",
          "text": [
            "8100th iteration over 55193 = 14.67577410178827%\n",
            "running mean_acc :  0.8274498456790124\n",
            "running mean_loss :  0.3767781152350051\n"
          ]
        },
        {
          "name": "stdout",
          "output_type": "stream",
          "text": [
            "8200th iteration over 55193 = 14.856956498106644%\n",
            "running mean_acc :  0.8276219512195122\n",
            "running mean_loss :  0.3763943962392146\n"
          ]
        },
        {
          "name": "stdout",
          "output_type": "stream",
          "text": [
            "8300th iteration over 55193 = 15.038138894425018%\n",
            "running mean_acc :  0.8278237951807229\n",
            "running mean_loss :  0.3760194631450263\n"
          ]
        },
        {
          "name": "stdout",
          "output_type": "stream",
          "text": [
            "8400th iteration over 55193 = 15.219321290743391%\n",
            "running mean_acc :  0.8279203869047619\n",
            "running mean_loss :  0.37586407790087106\n"
          ]
        },
        {
          "name": "stdout",
          "output_type": "stream",
          "text": [
            "8500th iteration over 55193 = 15.400503687061764%\n",
            "running mean_acc :  0.8281176470588235\n",
            "running mean_loss :  0.3756506381068436\n"
          ]
        },
        {
          "name": "stdout",
          "output_type": "stream",
          "text": [
            "8600th iteration over 55193 = 15.58168608338014%\n",
            "running mean_acc :  0.8282558139534884\n",
            "running mean_loss :  0.37540212946757373\n"
          ]
        },
        {
          "name": "stdout",
          "output_type": "stream",
          "text": [
            "8700th iteration over 55193 = 15.762868479698513%\n",
            "running mean_acc :  0.8284985632183908\n",
            "running mean_loss :  0.37503112650232034\n"
          ]
        },
        {
          "name": "stdout",
          "output_type": "stream",
          "text": [
            "8800th iteration over 55193 = 15.944050876016886%\n",
            "running mean_acc :  0.8287819602272727\n",
            "running mean_loss :  0.37462318368461806\n"
          ]
        },
        {
          "name": "stdout",
          "output_type": "stream",
          "text": [
            "8900th iteration over 55193 = 16.12523327233526%\n",
            "running mean_acc :  0.8290379213483146\n",
            "running mean_loss :  0.37421239042396615\n"
          ]
        },
        {
          "name": "stdout",
          "output_type": "stream",
          "text": [
            "9000th iteration over 55193 = 16.306415668653635%\n",
            "running mean_acc :  0.8291875\n",
            "running mean_loss :  0.3739372930105508\n"
          ]
        },
        {
          "name": "stdout",
          "output_type": "stream",
          "text": [
            "9100th iteration over 55193 = 16.48759806497201%\n",
            "running mean_acc :  0.8292548076923076\n",
            "running mean_loss :  0.37372909144669\n"
          ]
        },
        {
          "name": "stdout",
          "output_type": "stream",
          "text": [
            "9200th iteration over 55193 = 16.668780461290382%\n",
            "running mean_acc :  0.8293138586956522\n",
            "running mean_loss :  0.37355730978173024\n"
          ]
        },
        {
          "name": "stdout",
          "output_type": "stream",
          "text": [
            "9300th iteration over 55193 = 16.849962857608755%\n",
            "running mean_acc :  0.8295094086021505\n",
            "running mean_loss :  0.37327828600805635\n"
          ]
        },
        {
          "name": "stdout",
          "output_type": "stream",
          "text": [
            "9400th iteration over 55193 = 17.03114525392713%\n",
            "running mean_acc :  0.8296476063829787\n",
            "running mean_loss :  0.37295652342427854\n"
          ]
        },
        {
          "name": "stdout",
          "output_type": "stream",
          "text": [
            "9500th iteration over 55193 = 17.212327650245502%\n",
            "running mean_acc :  0.8297236842105263\n",
            "running mean_loss :  0.3728142104374021\n"
          ]
        },
        {
          "name": "stdout",
          "output_type": "stream",
          "text": [
            "9600th iteration over 55193 = 17.393510046563875%\n",
            "running mean_acc :  0.8298860677083333\n",
            "running mean_loss :  0.3724864216907647\n"
          ]
        },
        {
          "name": "stdout",
          "output_type": "stream",
          "text": [
            "9700th iteration over 55193 = 17.57469244288225%\n",
            "running mean_acc :  0.8300289948453609\n",
            "running mean_loss :  0.37227123833746534\n"
          ]
        },
        {
          "name": "stdout",
          "output_type": "stream",
          "text": [
            "9800th iteration over 55193 = 17.755874839200622%\n",
            "running mean_acc :  0.8302391581632653\n",
            "running mean_loss :  0.3719628529676174\n"
          ]
        },
        {
          "name": "stdout",
          "output_type": "stream",
          "text": [
            "9900th iteration over 55193 = 17.937057235518996%\n",
            "running mean_acc :  0.8304545454545454\n",
            "running mean_loss :  0.3716269278594634\n"
          ]
        },
        {
          "name": "stdout",
          "output_type": "stream",
          "text": [
            "10000th iteration over 55193 = 18.11823963183737%\n",
            "running mean_acc :  0.830584375\n",
            "running mean_loss :  0.37136222475314784\n"
          ]
        },
        {
          "name": "stdout",
          "output_type": "stream",
          "text": [
            "10100th iteration over 55193 = 18.299422028155746%\n",
            "running mean_acc :  0.8307394801980198\n",
            "running mean_loss :  0.3710937310508449\n"
          ]
        },
        {
          "name": "stdout",
          "output_type": "stream",
          "text": [
            "10200th iteration over 55193 = 18.48060442447412%\n",
            "running mean_acc :  0.8310079656862746\n",
            "running mean_loss :  0.3706381165514435\n"
          ]
        },
        {
          "name": "stdout",
          "output_type": "stream",
          "text": [
            "10300th iteration over 55193 = 18.661786820792493%\n",
            "running mean_acc :  0.8311529126213593\n",
            "running mean_loss :  0.37037723188509747\n"
          ]
        },
        {
          "name": "stdout",
          "output_type": "stream",
          "text": [
            "10400th iteration over 55193 = 18.842969217110866%\n",
            "running mean_acc :  0.8313852163461538\n",
            "running mean_loss :  0.3699384372562826\n"
          ]
        },
        {
          "name": "stdout",
          "output_type": "stream",
          "text": [
            "10500th iteration over 55193 = 19.02415161342924%\n",
            "running mean_acc :  0.831577380952381\n",
            "running mean_loss :  0.36967037373946376\n"
          ]
        },
        {
          "name": "stdout",
          "output_type": "stream",
          "text": [
            "10600th iteration over 55193 = 19.205334009747613%\n",
            "running mean_acc :  0.831777712264151\n",
            "running mean_loss :  0.3694371431897287\n"
          ]
        },
        {
          "name": "stdout",
          "output_type": "stream",
          "text": [
            "10700th iteration over 55193 = 19.386516406065986%\n",
            "running mean_acc :  0.8320210280373832\n",
            "running mean_loss :  0.3690482467592581\n"
          ]
        },
        {
          "name": "stdout",
          "output_type": "stream",
          "text": [
            "10800th iteration over 55193 = 19.56769880238436%\n",
            "running mean_acc :  0.8322135416666666\n",
            "running mean_loss :  0.3688383135065449\n"
          ]
        },
        {
          "name": "stdout",
          "output_type": "stream",
          "text": [
            "10900th iteration over 55193 = 19.748881198702733%\n",
            "running mean_acc :  0.8323767201834862\n",
            "running mean_loss :  0.3684780834477305\n"
          ]
        },
        {
          "name": "stdout",
          "output_type": "stream",
          "text": [
            "11000th iteration over 55193 = 19.930063595021107%\n",
            "running mean_acc :  0.8323863636363636\n",
            "running mean_loss :  0.3683724893828802\n"
          ]
        },
        {
          "name": "stdout",
          "output_type": "stream",
          "text": [
            "11100th iteration over 55193 = 20.11124599133948%\n",
            "running mean_acc :  0.8325647522522522\n",
            "running mean_loss :  0.36810186229738157\n"
          ]
        },
        {
          "name": "stdout",
          "output_type": "stream",
          "text": [
            "11200th iteration over 55193 = 20.292428387657854%\n",
            "running mean_acc :  0.8327483258928572\n",
            "running mean_loss :  0.367718663112855\n"
          ]
        },
        {
          "name": "stdout",
          "output_type": "stream",
          "text": [
            "11300th iteration over 55193 = 20.47361078397623%\n",
            "running mean_acc :  0.8329258849557523\n",
            "running mean_loss :  0.3674687253516149\n"
          ]
        },
        {
          "name": "stdout",
          "output_type": "stream",
          "text": [
            "11400th iteration over 55193 = 20.654793180294604%\n",
            "running mean_acc :  0.8329824561403508\n",
            "running mean_loss :  0.36728449721886247\n"
          ]
        },
        {
          "name": "stdout",
          "output_type": "stream",
          "text": [
            "11500th iteration over 55193 = 20.835975576612977%\n",
            "running mean_acc :  0.8331304347826087\n",
            "running mean_loss :  0.3670682957187475\n"
          ]
        },
        {
          "name": "stdout",
          "output_type": "stream",
          "text": [
            "11600th iteration over 55193 = 21.01715797293135%\n",
            "running mean_acc :  0.8332866379310345\n",
            "running mean_loss :  0.36677502532419837\n"
          ]
        },
        {
          "name": "stdout",
          "output_type": "stream",
          "text": [
            "11700th iteration over 55193 = 21.198340369249724%\n",
            "running mean_acc :  0.8334455128205128\n",
            "running mean_loss :  0.36655066866654024\n"
          ]
        },
        {
          "name": "stdout",
          "output_type": "stream",
          "text": [
            "11800th iteration over 55193 = 21.379522765568097%\n",
            "running mean_acc :  0.833583156779661\n",
            "running mean_loss :  0.36635172177816727\n"
          ]
        },
        {
          "name": "stdout",
          "output_type": "stream",
          "text": [
            "11900th iteration over 55193 = 21.56070516188647%\n",
            "running mean_acc :  0.8337211134453781\n",
            "running mean_loss :  0.36605713122127015\n"
          ]
        },
        {
          "name": "stdout",
          "output_type": "stream",
          "text": [
            "12000th iteration over 55193 = 21.741887558204844%\n",
            "running mean_acc :  0.8338541666666667\n",
            "running mean_loss :  0.3657562892454712\n"
          ]
        },
        {
          "name": "stdout",
          "output_type": "stream",
          "text": [
            "12100th iteration over 55193 = 21.923069954523218%\n",
            "running mean_acc :  0.8338972107438016\n",
            "running mean_loss :  0.36570013218928976\n"
          ]
        },
        {
          "name": "stdout",
          "output_type": "stream",
          "text": [
            "12200th iteration over 55193 = 22.10425235084159%\n",
            "running mean_acc :  0.8340855532786885\n",
            "running mean_loss :  0.36537861288309526\n"
          ]
        },
        {
          "name": "stdout",
          "output_type": "stream",
          "text": [
            "12300th iteration over 55193 = 22.285434747159965%\n",
            "running mean_acc :  0.8341996951219512\n",
            "running mean_loss :  0.36520749957953885\n"
          ]
        },
        {
          "name": "stdout",
          "output_type": "stream",
          "text": [
            "12400th iteration over 55193 = 22.466617143478338%\n",
            "running mean_acc :  0.8343220766129033\n",
            "running mean_loss :  0.3649216666949842\n"
          ]
        },
        {
          "name": "stdout",
          "output_type": "stream",
          "text": [
            "12500th iteration over 55193 = 22.647799539796715%\n",
            "running mean_acc :  0.8344325\n",
            "running mean_loss :  0.3646980910151112\n"
          ]
        },
        {
          "name": "stdout",
          "output_type": "stream",
          "text": [
            "12600th iteration over 55193 = 22.82898193611509%\n",
            "running mean_acc :  0.834469246031746\n",
            "running mean_loss :  0.3646422273734904\n"
          ]
        },
        {
          "name": "stdout",
          "output_type": "stream",
          "text": [
            "12700th iteration over 55193 = 23.01016433243346%\n",
            "running mean_acc :  0.8345767716535433\n",
            "running mean_loss :  0.364505645545573\n"
          ]
        },
        {
          "name": "stdout",
          "output_type": "stream",
          "text": [
            "12800th iteration over 55193 = 23.191346728751835%\n",
            "running mean_acc :  0.83478271484375\n",
            "running mean_loss :  0.3642575886840001\n"
          ]
        },
        {
          "name": "stdout",
          "output_type": "stream",
          "text": [
            "12900th iteration over 55193 = 23.37252912507021%\n",
            "running mean_acc :  0.8348885658914729\n",
            "running mean_loss :  0.3640978643164627\n"
          ]
        },
        {
          "name": "stdout",
          "output_type": "stream",
          "text": [
            "13000th iteration over 55193 = 23.553711521388582%\n",
            "running mean_acc :  0.8349543269230769\n",
            "running mean_loss :  0.36400271393974765\n"
          ]
        },
        {
          "name": "stdout",
          "output_type": "stream",
          "text": [
            "13100th iteration over 55193 = 23.734893917706955%\n",
            "running mean_acc :  0.835\n",
            "running mean_loss :  0.36383731808360137\n"
          ]
        },
        {
          "name": "stdout",
          "output_type": "stream",
          "text": [
            "13200th iteration over 55193 = 23.91607631402533%\n",
            "running mean_acc :  0.8350662878787879\n",
            "running mean_loss :  0.36361225328633445\n"
          ]
        },
        {
          "name": "stdout",
          "output_type": "stream",
          "text": [
            "13300th iteration over 55193 = 24.097258710343702%\n",
            "running mean_acc :  0.8351832706766917\n",
            "running mean_loss :  0.3634435763254478\n"
          ]
        },
        {
          "name": "stdout",
          "output_type": "stream",
          "text": [
            "13400th iteration over 55193 = 24.278441106662076%\n",
            "running mean_acc :  0.8352961753731343\n",
            "running mean_loss :  0.36332289671067935\n"
          ]
        },
        {
          "name": "stdout",
          "output_type": "stream",
          "text": [
            "13500th iteration over 55193 = 24.45962350298045%\n",
            "running mean_acc :  0.8354305555555556\n",
            "running mean_loss :  0.3631034925636314\n"
          ]
        },
        {
          "name": "stdout",
          "output_type": "stream",
          "text": [
            "13600th iteration over 55193 = 24.640805899298822%\n",
            "running mean_acc :  0.8355284926470589\n",
            "running mean_loss :  0.36289987328600143\n"
          ]
        },
        {
          "name": "stdout",
          "output_type": "stream",
          "text": [
            "13700th iteration over 55193 = 24.8219882956172%\n",
            "running mean_acc :  0.8356592153284672\n",
            "running mean_loss :  0.3626599995176441\n"
          ]
        },
        {
          "name": "stdout",
          "output_type": "stream",
          "text": [
            "13800th iteration over 55193 = 25.003170691935573%\n",
            "running mean_acc :  0.8357382246376811\n",
            "running mean_loss :  0.36254547587227764\n"
          ]
        },
        {
          "name": "stdout",
          "output_type": "stream",
          "text": [
            "13900th iteration over 55193 = 25.184353088253946%\n",
            "running mean_acc :  0.8358902877697841\n",
            "running mean_loss :  0.3623340505248788\n"
          ]
        },
        {
          "name": "stdout",
          "output_type": "stream",
          "text": [
            "14000th iteration over 55193 = 25.36553548457232%\n",
            "running mean_acc :  0.8359084821428572\n",
            "running mean_loss :  0.3621460098578209\n"
          ]
        },
        {
          "name": "stdout",
          "output_type": "stream",
          "text": [
            "14100th iteration over 55193 = 25.546717880890693%\n",
            "running mean_acc :  0.8360616134751773\n",
            "running mean_loss :  0.3619459485284454\n"
          ]
        },
        {
          "name": "stdout",
          "output_type": "stream",
          "text": [
            "14200th iteration over 55193 = 25.727900277209066%\n",
            "running mean_acc :  0.8361091549295775\n",
            "running mean_loss :  0.36189008421939356\n"
          ]
        },
        {
          "name": "stdout",
          "output_type": "stream",
          "text": [
            "14300th iteration over 55193 = 25.90908267352744%\n",
            "running mean_acc :  0.8361822552447552\n",
            "running mean_loss :  0.361668428175975\n"
          ]
        },
        {
          "name": "stdout",
          "output_type": "stream",
          "text": [
            "14400th iteration over 55193 = 26.090265069845813%\n",
            "running mean_acc :  0.8362847222222223\n",
            "running mean_loss :  0.3613951057681987\n"
          ]
        },
        {
          "name": "stdout",
          "output_type": "stream",
          "text": [
            "14500th iteration over 55193 = 26.271447466164187%\n",
            "running mean_acc :  0.836396551724138\n",
            "running mean_loss :  0.36125466441785076\n"
          ]
        },
        {
          "name": "stdout",
          "output_type": "stream",
          "text": [
            "14600th iteration over 55193 = 26.45262986248256%\n",
            "running mean_acc :  0.836382705479452\n",
            "running mean_loss :  0.3612432080177434\n"
          ]
        },
        {
          "name": "stdout",
          "output_type": "stream",
          "text": [
            "14700th iteration over 55193 = 26.633812258800933%\n",
            "running mean_acc :  0.8364732142857143\n",
            "running mean_loss :  0.36108007669574543\n"
          ]
        },
        {
          "name": "stdout",
          "output_type": "stream",
          "text": [
            "14800th iteration over 55193 = 26.81499465511931%\n",
            "running mean_acc :  0.8365561655405406\n",
            "running mean_loss :  0.3609579569972791\n"
          ]
        },
        {
          "name": "stdout",
          "output_type": "stream",
          "text": [
            "14900th iteration over 55193 = 26.996177051437684%\n",
            "running mean_acc :  0.8366988255033557\n",
            "running mean_loss :  0.3607013573879188\n"
          ]
        },
        {
          "name": "stdout",
          "output_type": "stream",
          "text": [
            "15000th iteration over 55193 = 27.177359447756057%\n",
            "running mean_acc :  0.83676875\n",
            "running mean_loss :  0.36057164474877745\n"
          ]
        },
        {
          "name": "stdout",
          "output_type": "stream",
          "text": [
            "15100th iteration over 55193 = 27.35854184407443%\n",
            "running mean_acc :  0.8368687913907285\n",
            "running mean_loss :  0.3604213351303754\n"
          ]
        },
        {
          "name": "stdout",
          "output_type": "stream",
          "text": [
            "15200th iteration over 55193 = 27.539724240392804%\n",
            "running mean_acc :  0.837008634868421\n",
            "running mean_loss :  0.3602020033132747\n"
          ]
        },
        {
          "name": "stdout",
          "output_type": "stream",
          "text": [
            "15300th iteration over 55193 = 27.720906636711177%\n",
            "running mean_acc :  0.837107843137255\n",
            "running mean_loss :  0.35999724341417777\n"
          ]
        },
        {
          "name": "stdout",
          "output_type": "stream",
          "text": [
            "15400th iteration over 55193 = 27.90208903302955%\n",
            "running mean_acc :  0.8372037337662338\n",
            "running mean_loss :  0.35987387678786287\n"
          ]
        },
        {
          "name": "stdout",
          "output_type": "stream",
          "text": [
            "15500th iteration over 55193 = 28.083271429347924%\n",
            "running mean_acc :  0.8373064516129032\n",
            "running mean_loss :  0.3597422197266945\n"
          ]
        },
        {
          "name": "stdout",
          "output_type": "stream",
          "text": [
            "15600th iteration over 55193 = 28.264453825666298%\n",
            "running mean_acc :  0.8373778044871795\n",
            "running mean_loss :  0.35962921111503554\n"
          ]
        },
        {
          "name": "stdout",
          "output_type": "stream",
          "text": [
            "15700th iteration over 55193 = 28.44563622198467%\n",
            "running mean_acc :  0.8374582006369427\n",
            "running mean_loss :  0.3595367257413489\n"
          ]
        },
        {
          "name": "stdout",
          "output_type": "stream",
          "text": [
            "15800th iteration over 55193 = 28.626818618303044%\n",
            "running mean_acc :  0.8375751582278481\n",
            "running mean_loss :  0.3593946991111235\n"
          ]
        },
        {
          "name": "stdout",
          "output_type": "stream",
          "text": [
            "15900th iteration over 55193 = 28.808001014621418%\n",
            "running mean_acc :  0.8376022012578617\n",
            "running mean_loss :  0.35935741977898644\n"
          ]
        },
        {
          "name": "stdout",
          "output_type": "stream",
          "text": [
            "16000th iteration over 55193 = 28.989183410939795%\n",
            "running mean_acc :  0.83771875\n",
            "running mean_loss :  0.35919711790882525\n"
          ]
        },
        {
          "name": "stdout",
          "output_type": "stream",
          "text": [
            "16100th iteration over 55193 = 29.170365807258168%\n",
            "running mean_acc :  0.8378299689440993\n",
            "running mean_loss :  0.35902106860634864\n"
          ]
        },
        {
          "name": "stdout",
          "output_type": "stream",
          "text": [
            "16200th iteration over 55193 = 29.35154820357654%\n",
            "running mean_acc :  0.8379398148148148\n",
            "running mean_loss :  0.35886416852273706\n"
          ]
        },
        {
          "name": "stdout",
          "output_type": "stream",
          "text": [
            "16300th iteration over 55193 = 29.532730599894915%\n",
            "running mean_acc :  0.838036809815951\n",
            "running mean_loss :  0.35872002027009675\n"
          ]
        },
        {
          "name": "stdout",
          "output_type": "stream",
          "text": [
            "16400th iteration over 55193 = 29.71391299621329%\n",
            "running mean_acc :  0.8381478658536585\n",
            "running mean_loss :  0.35849240376048974\n"
          ]
        },
        {
          "name": "stdout",
          "output_type": "stream",
          "text": [
            "16500th iteration over 55193 = 29.895095392531662%\n",
            "running mean_acc :  0.8381931818181818\n",
            "running mean_loss :  0.35838946102957\n"
          ]
        },
        {
          "name": "stdout",
          "output_type": "stream",
          "text": [
            "16600th iteration over 55193 = 30.076277788850035%\n",
            "running mean_acc :  0.8382981927710843\n",
            "running mean_loss :  0.3582678530130729\n"
          ]
        },
        {
          "name": "stdout",
          "output_type": "stream",
          "text": [
            "16700th iteration over 55193 = 30.25746018516841%\n",
            "running mean_acc :  0.8384113023952096\n",
            "running mean_loss :  0.3580475865359878\n"
          ]
        },
        {
          "name": "stdout",
          "output_type": "stream",
          "text": [
            "16800th iteration over 55193 = 30.438642581486782%\n",
            "running mean_acc :  0.8385342261904762\n",
            "running mean_loss :  0.3578274710803761\n"
          ]
        },
        {
          "name": "stdout",
          "output_type": "stream",
          "text": [
            "16900th iteration over 55193 = 30.619824977805155%\n",
            "running mean_acc :  0.8386020710059171\n",
            "running mean_loss :  0.35763847808514565\n"
          ]
        },
        {
          "name": "stdout",
          "output_type": "stream",
          "text": [
            "17000th iteration over 55193 = 30.80100737412353%\n",
            "running mean_acc :  0.8387334558823529\n",
            "running mean_loss :  0.35737619518096025\n"
          ]
        }
      ],
      "source": [
        "import logging \n",
        "logging.basicConfig(level = logging.ERROR)\n",
        "history = defaultdict(list)\n",
        "best_accuracy = 0\n",
        "\n",
        "for epoch in range(EPOCHS):\n",
        "    print(f'Epoch {epoch + 1}/{EPOCHS}')\n",
        "    print('-' * 10)\n",
        "\n",
        "    train_acc, train_loss = train_epoch(\n",
        "        model,\n",
        "        tweet_train_loader,     \n",
        "        optimizer, \n",
        "        device, \n",
        "        len(X_train)\n",
        "    )\n",
        "\n",
        "    print(f'Train loss {train_loss} Train accuracy {train_acc}')\n",
        "\n",
        "    val_acc, val_loss = eval_model(\n",
        "        model,\n",
        "        tweet_test_loader, \n",
        "        device, \n",
        "        len(X_test)\n",
        "    )\n",
        "\n",
        "    print(f'Val loss {val_loss} Val accuracy {val_acc}')\n",
        "    print()\n",
        "\n",
        "    history['train_acc'].append(train_acc)\n",
        "    history['train_loss'].append(train_loss)\n",
        "    history['val_acc'].append(val_acc)\n",
        "    history['val_loss'].append(val_loss)\n",
        "\n",
        "    if val_acc > best_accuracy:\n",
        "        torch.save(model.state_dict(), '/kaggle/working/xlnet_best_model.bin')\n",
        "        best_accuracy = val_acc"
      ]
    },
    {
      "cell_type": "code",
      "execution_count": null,
      "id": "2638e2e1",
      "metadata": {
        "papermill": {
          "duration": null,
          "end_time": null,
          "exception": null,
          "start_time": null,
          "status": "pending"
        },
        "tags": []
      },
      "outputs": [],
      "source": []
    }
  ],
  "metadata": {
    "kernelspec": {
      "display_name": "base",
      "language": "python",
      "name": "python3"
    },
    "language_info": {
      "codemirror_mode": {
        "name": "ipython",
        "version": 3
      },
      "file_extension": ".py",
      "mimetype": "text/x-python",
      "name": "python",
      "nbconvert_exporter": "python",
      "pygments_lexer": "ipython3",
      "version": "3.9.7"
    },
    "papermill": {
      "default_parameters": {},
      "duration": null,
      "end_time": null,
      "environment_variables": {},
      "exception": null,
      "input_path": "__notebook__.ipynb",
      "output_path": "__notebook__.ipynb",
      "parameters": {},
      "start_time": "2022-12-19T21:21:10.493043",
      "version": "2.3.4"
    },
    "vscode": {
      "interpreter": {
        "hash": "4d9defa72c2715dab9f7f172572cd30a1ab1a2083462d32ef96aadb7c6e0c73b"
      }
    }
  },
  "nbformat": 4,
  "nbformat_minor": 5
}
