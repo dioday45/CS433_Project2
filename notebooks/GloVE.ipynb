{
 "cells": [
  {
   "cell_type": "code",
   "execution_count": 1,
   "metadata": {},
   "outputs": [
    {
     "name": "stderr",
     "output_type": "stream",
     "text": [
      "[nltk_data] Downloading package words to\n",
      "[nltk_data]     C:\\Users\\danie\\AppData\\Roaming\\nltk_data...\n",
      "[nltk_data]   Package words is already up-to-date!\n"
     ]
    }
   ],
   "source": [
    "import torch\n",
    "import torch.nn as nn\n",
    "import torch.nn.functional as F\n",
    "import torch.optim as optim\n",
    "from torch.utils.data import Dataset, DataLoader\n",
    "from sklearn.linear_model import LogisticRegression\n",
    "from torchvision import datasets\n",
    "from torchvision.transforms import ToTensor\n",
    "import torchtext\n",
    "import numpy as np\n",
    "import matplotlib.pyplot as plt\n",
    "import pickle\n",
    "import pandas as pd\n",
    "from tqdm import tqdm\n",
    "from sklearn.model_selection import train_test_split\n",
    "from sklearn.metrics import classification_report\n",
    "import contractions\n",
    "import sys\n",
    "import os\n",
    "os.path.abspath(os.curdir)\n",
    "os.chdir(\"..\")\n",
    "ML_FOLDER_PATH = os.path.abspath(os.curdir)\n",
    "sys.path.append(ML_FOLDER_PATH)\n",
    "import src.helpers as hlp"
   ]
  },
  {
   "cell_type": "code",
   "execution_count": 2,
   "metadata": {},
   "outputs": [],
   "source": [
    "VECT_DIM = 200"
   ]
  },
  {
   "cell_type": "code",
   "execution_count": 3,
   "metadata": {},
   "outputs": [],
   "source": [
    "embeddings = torchtext.vocab.GloVe(name=\"twitter.27B\", dim=VECT_DIM, max_vectors=1000000)"
   ]
  },
  {
   "attachments": {},
   "cell_type": "markdown",
   "metadata": {},
   "source": [
    "### Data processing"
   ]
  },
  {
   "cell_type": "code",
   "execution_count": 4,
   "metadata": {},
   "outputs": [],
   "source": [
    "t_pos = pd.read_table(\"data/train_pos.txt\", header=None, names=['tweet'], dtype=str,on_bad_lines='skip')\n",
    "t_pos['label'] = 1\n",
    "t_neg = pd.read_table(\"data/train_neg.txt\", header=None, names=['tweet'], dtype=str,on_bad_lines='skip')\n",
    "t_neg['label'] = 0\n",
    "df = pd.concat((t_pos,t_neg))"
   ]
  },
  {
   "cell_type": "code",
   "execution_count": 5,
   "metadata": {},
   "outputs": [],
   "source": [
    "df['tweet'] = df['tweet'].apply(lambda x: hlp.remove_stopwords(x))\n",
    "df['tweet'] = df['tweet'].apply(lambda x: hlp.remove_punct(x))\n",
    "df['tweet'] = df['tweet'].apply(lambda x: hlp.add_space(x))\n",
    "df['tweet'] = df['tweet'].apply(lambda x: hlp.remove_white_space(x))\n",
    "df['tweet'] = df['tweet'].apply(lambda x: hlp.remove_words_digits(x))\n",
    "df['tweet'] = df['tweet'].apply(lambda x: hlp.to_lower(x))\n",
    "df['tweet'] = df['tweet'].apply(lambda x: contractions.fix(x))\n",
    "df['tweet'] = df['tweet'].apply(lambda x: hlp.remove_specific_words(x))\n",
    "df['tweet'] = df['tweet'].apply(lambda x: hlp.remove_repeating_char(x))\n",
    "df['tweet'] = df['tweet'].apply(lambda x: hlp.remove_single_char(x))\n",
    "df['tweet'] = df['tweet'].apply(lambda x: hlp.lemmatize(x))"
   ]
  },
  {
   "attachments": {},
   "cell_type": "markdown",
   "metadata": {},
   "source": [
    "### Vectorization"
   ]
  },
  {
   "cell_type": "code",
   "execution_count": 6,
   "metadata": {},
   "outputs": [],
   "source": [
    "def vectorize(tweets):\n",
    "    vectorized_tweets_np = np.ones((len(tweets),VECT_DIM+1))\n",
    "    not_in_embed = 0\n",
    "    nb_words = 0\n",
    "    for i, tweet in enumerate(tqdm(tweets)):\n",
    "        tweet_len = len(tweet.split(' '))\n",
    "        tweet_embedding=np.zeros((tweet_len,VECT_DIM))\n",
    "        for j, word in enumerate(tweet.split(' ')):\n",
    "            nb_words += 1\n",
    "            tweet_embedding[j] = embeddings[word]\n",
    "            if torch.equal(embeddings[word],torch.zeros(VECT_DIM)):\n",
    "                not_in_embed+=1\n",
    "        vectorized_tweets_np[i, 1:] = tweet_embedding.sum(0)\n",
    "    print(not_in_embed/nb_words)\n",
    "    return vectorized_tweets_np"
   ]
  },
  {
   "cell_type": "code",
   "execution_count": 7,
   "metadata": {},
   "outputs": [
    {
     "name": "stderr",
     "output_type": "stream",
     "text": [
      "100%|██████████| 196970/196970 [00:33<00:00, 5832.21it/s]"
     ]
    },
    {
     "name": "stdout",
     "output_type": "stream",
     "text": [
      "0.027150685500539676\n"
     ]
    },
    {
     "name": "stderr",
     "output_type": "stream",
     "text": [
      "\n"
     ]
    }
   ],
   "source": [
    "X = vectorize(df.tweet)\n",
    "y = df['label'].values"
   ]
  },
  {
   "cell_type": "code",
   "execution_count": 8,
   "metadata": {},
   "outputs": [
    {
     "data": {
      "text/plain": [
       "(196970, 201)"
      ]
     },
     "execution_count": 8,
     "metadata": {},
     "output_type": "execute_result"
    }
   ],
   "source": [
    "X.shape"
   ]
  },
  {
   "attachments": {},
   "cell_type": "markdown",
   "metadata": {},
   "source": [
    "### Split"
   ]
  },
  {
   "cell_type": "code",
   "execution_count": 9,
   "metadata": {},
   "outputs": [],
   "source": [
    "X_train, X_test, y_train, y_test = train_test_split(X, y, test_size=0.10, random_state=10)"
   ]
  },
  {
   "attachments": {},
   "cell_type": "markdown",
   "metadata": {},
   "source": [
    "### Bernouilli Naive Bayes"
   ]
  },
  {
   "cell_type": "code",
   "execution_count": 10,
   "metadata": {},
   "outputs": [
    {
     "data": {
      "text/plain": [
       "BernoulliNB()"
      ]
     },
     "execution_count": 10,
     "metadata": {},
     "output_type": "execute_result"
    }
   ],
   "source": [
    "from sklearn.naive_bayes import BernoulliNB\n",
    "BNB = BernoulliNB()\n",
    "BNB.fit(X_train, y_train)"
   ]
  },
  {
   "cell_type": "code",
   "execution_count": 11,
   "metadata": {},
   "outputs": [
    {
     "name": "stdout",
     "output_type": "stream",
     "text": [
      "              precision    recall  f1-score   support\n",
      "\n",
      "           0       0.68      0.65      0.66      9951\n",
      "           1       0.66      0.69      0.68      9746\n",
      "\n",
      "    accuracy                           0.67     19697\n",
      "   macro avg       0.67      0.67      0.67     19697\n",
      "weighted avg       0.67      0.67      0.67     19697\n",
      "\n"
     ]
    }
   ],
   "source": [
    "y_pred3 = BNB.predict(X_test)\n",
    "print(classification_report(y_test, y_pred3))"
   ]
  },
  {
   "attachments": {},
   "cell_type": "markdown",
   "metadata": {},
   "source": [
    "### Neuronal Network"
   ]
  },
  {
   "cell_type": "code",
   "execution_count": 12,
   "metadata": {},
   "outputs": [],
   "source": [
    "class TrainDataset(Dataset):\n",
    "    def __init__(self, X_data, y_data):\n",
    "        self.X_data = X_data\n",
    "        self.y_data = y_data\n",
    "    \n",
    "    def __getitem__(self, index):\n",
    "        return self.y_data[index], self.X_data[index] \n",
    "\n",
    "    def __len__(self):\n",
    "        return len(self.X_data)"
   ]
  },
  {
   "cell_type": "code",
   "execution_count": 13,
   "metadata": {},
   "outputs": [],
   "source": [
    "class TestDataset(Dataset):\n",
    "    def __init__(self, X_data):\n",
    "        self.X_data = X_data\n",
    "    \n",
    "    def __getitem__(self, index):\n",
    "        return self.X_data[index]\n",
    "\n",
    "    def __len__(self):\n",
    "        return len(self.X_data)"
   ]
  },
  {
   "cell_type": "code",
   "execution_count": 14,
   "metadata": {},
   "outputs": [],
   "source": [
    "y_test = np.where(y_test == -1, 0, y_test)\n",
    "y_train = np.where(y_train == -1, 0, y_train)"
   ]
  },
  {
   "cell_type": "code",
   "execution_count": 15,
   "metadata": {},
   "outputs": [],
   "source": [
    "train_data = TrainDataset(torch.FloatTensor(X_train), torch.LongTensor(y_train))\n",
    "test_data = TrainDataset(torch.FloatTensor(X_test), torch.LongTensor(y_test))"
   ]
  },
  {
   "cell_type": "code",
   "execution_count": 16,
   "metadata": {},
   "outputs": [],
   "source": [
    "train_loader = DataLoader(dataset=train_data, batch_size=64, shuffle=True)\n",
    "test_loader = DataLoader(dataset=test_data, batch_size=1)"
   ]
  },
  {
   "cell_type": "code",
   "execution_count": 17,
   "metadata": {},
   "outputs": [],
   "source": [
    "def train_loop(dataloader, model, loss_fn, optimizer):\n",
    "        train_loss, correct = 0,0\n",
    "        for y_batch, X_batch in tqdm(dataloader):\n",
    "\n",
    "                pred = model(X_batch)\n",
    "                loss = loss_fn(pred, y_batch)\n",
    "                train_loss += loss.item()\n",
    "                correct += (pred.argmax(1) == y_batch).type(torch.float).sum().item()\n",
    "\n",
    "                optimizer.zero_grad()\n",
    "                loss.backward()\n",
    "                optimizer.step()\n",
    "        train_loss /= len(dataloader)\n",
    "        correct /= len(dataloader.dataset)\n",
    "        print(f\"Train Error: \\n Accuracy: {(100*correct):>0.1f}%, Avg loss: {train_loss:>8f} \\n\")\n",
    "        return train_loss, correct"
   ]
  },
  {
   "cell_type": "code",
   "execution_count": 18,
   "metadata": {},
   "outputs": [],
   "source": [
    "def test_loop(dataloader, model, loss_fn):\n",
    "    test_loss, correct = 0,0\n",
    "    with torch.no_grad():\n",
    "        for y, X in dataloader:\n",
    "\n",
    "            pred = model(X)\n",
    "            test_loss += loss_fn(pred, y).item()\n",
    "            correct += (pred.argmax(1) == y).type(torch.float).sum().item()\n",
    "    test_loss /= len(dataloader)\n",
    "    correct /= len(dataloader.dataset)\n",
    "    print(f\"Test Error: \\n Accuracy: {(100*correct):>0.1f}%, Avg loss: {test_loss:>8f} \\n\")\n",
    "    return test_loss, correct\n",
    "\n"
   ]
  },
  {
   "cell_type": "code",
   "execution_count": 19,
   "metadata": {},
   "outputs": [],
   "source": [
    "def train(model, train_loader, valid_loader, num_epochs, learning_rate):\n",
    "    loss_fn = nn.CrossEntropyLoss()\n",
    "    optimizer = torch.optim.Adam(model.parameters(), lr=learning_rate)\n",
    "    losses, train_accs, test_accs = [], [], []\n",
    "    for epoch in range(num_epochs):\n",
    "        print(f\"Epoch : {epoch+1}\\n\")\n",
    "        train_loss, train_acc = train_loop(train_loader, model, loss_fn, optimizer)\n",
    "        test_loss, test_acc = test_loop(test_loader, model, loss_fn)\n",
    "        losses.append(float(train_loss))\n",
    "        train_accs.append(train_acc)\n",
    "        test_accs.append(test_acc)\n",
    "    \n",
    "    plt.title(\"Training\")\n",
    "    plt.plot(losses, label=\"Train\")\n",
    "    plt.xlabel(\"Epoch\")\n",
    "    plt.ylabel(\"Loss\")\n",
    "    plt.show()\n",
    "\n",
    "    plt.title(\"Training Curve\")\n",
    "    plt.plot(train_accs, label=\"Train\")\n",
    "    plt.plot(test_accs, label=\"Validation\")\n",
    "    plt.xlabel(\"Epoch\")\n",
    "    plt.ylabel(\"Accuracy\")\n",
    "    plt.legend(loc='best')\n",
    "    plt.show()\n",
    "\n"
   ]
  },
  {
   "cell_type": "code",
   "execution_count": 20,
   "metadata": {},
   "outputs": [],
   "source": [
    "model = nn.Sequential(nn.Linear(VECT_DIM+1, 200),\n",
    "                        nn.Sigmoid(),\n",
    "                        nn.Dropout(p=0.5),\n",
    "                        nn.Linear(200, 50),\n",
    "                        nn.Sigmoid(),\n",
    "                        nn.Dropout(p=0.5),\n",
    "                        nn.Linear(50, 2),\n",
    "                        nn.Softmax(1))"
   ]
  },
  {
   "cell_type": "code",
   "execution_count": 21,
   "metadata": {},
   "outputs": [
    {
     "name": "stdout",
     "output_type": "stream",
     "text": [
      "Epoch : 1\n",
      "\n"
     ]
    },
    {
     "name": "stderr",
     "output_type": "stream",
     "text": [
      "100%|██████████| 2770/2770 [00:09<00:00, 282.25it/s]\n"
     ]
    },
    {
     "name": "stdout",
     "output_type": "stream",
     "text": [
      "Train Error: \n",
      " Accuracy: 76.0%, Avg loss: 0.537510 \n",
      "\n",
      "Test Error: \n",
      " Accuracy: 78.0%, Avg loss: 0.519260 \n",
      "\n",
      "Epoch : 2\n",
      "\n"
     ]
    },
    {
     "name": "stderr",
     "output_type": "stream",
     "text": [
      "100%|██████████| 2770/2770 [00:09<00:00, 305.51it/s]\n"
     ]
    },
    {
     "name": "stdout",
     "output_type": "stream",
     "text": [
      "Train Error: \n",
      " Accuracy: 78.3%, Avg loss: 0.516888 \n",
      "\n",
      "Test Error: \n",
      " Accuracy: 78.4%, Avg loss: 0.515337 \n",
      "\n",
      "Epoch : 3\n",
      "\n"
     ]
    },
    {
     "name": "stderr",
     "output_type": "stream",
     "text": [
      "100%|██████████| 2770/2770 [00:08<00:00, 326.11it/s]\n"
     ]
    },
    {
     "name": "stdout",
     "output_type": "stream",
     "text": [
      "Train Error: \n",
      " Accuracy: 78.9%, Avg loss: 0.511457 \n",
      "\n",
      "Test Error: \n",
      " Accuracy: 78.9%, Avg loss: 0.511113 \n",
      "\n",
      "Epoch : 4\n",
      "\n"
     ]
    },
    {
     "name": "stderr",
     "output_type": "stream",
     "text": [
      "100%|██████████| 2770/2770 [00:09<00:00, 302.83it/s]\n"
     ]
    },
    {
     "name": "stdout",
     "output_type": "stream",
     "text": [
      "Train Error: \n",
      " Accuracy: 79.3%, Avg loss: 0.507737 \n",
      "\n",
      "Test Error: \n",
      " Accuracy: 79.1%, Avg loss: 0.508991 \n",
      "\n",
      "Epoch : 5\n",
      "\n"
     ]
    },
    {
     "name": "stderr",
     "output_type": "stream",
     "text": [
      "100%|██████████| 2770/2770 [00:08<00:00, 339.35it/s]\n"
     ]
    },
    {
     "name": "stdout",
     "output_type": "stream",
     "text": [
      "Train Error: \n",
      " Accuracy: 79.5%, Avg loss: 0.505131 \n",
      "\n",
      "Test Error: \n",
      " Accuracy: 79.2%, Avg loss: 0.508562 \n",
      "\n",
      "Epoch : 6\n",
      "\n"
     ]
    },
    {
     "name": "stderr",
     "output_type": "stream",
     "text": [
      "100%|██████████| 2770/2770 [00:08<00:00, 337.43it/s]\n"
     ]
    },
    {
     "name": "stdout",
     "output_type": "stream",
     "text": [
      "Train Error: \n",
      " Accuracy: 79.8%, Avg loss: 0.503201 \n",
      "\n",
      "Test Error: \n",
      " Accuracy: 79.2%, Avg loss: 0.507602 \n",
      "\n",
      "Epoch : 7\n",
      "\n"
     ]
    },
    {
     "name": "stderr",
     "output_type": "stream",
     "text": [
      "100%|██████████| 2770/2770 [00:09<00:00, 297.91it/s]\n"
     ]
    },
    {
     "name": "stdout",
     "output_type": "stream",
     "text": [
      "Train Error: \n",
      " Accuracy: 80.2%, Avg loss: 0.500485 \n",
      "\n",
      "Test Error: \n",
      " Accuracy: 79.3%, Avg loss: 0.506498 \n",
      "\n",
      "Epoch : 8\n",
      "\n"
     ]
    },
    {
     "name": "stderr",
     "output_type": "stream",
     "text": [
      "100%|██████████| 2770/2770 [00:09<00:00, 294.96it/s]\n"
     ]
    },
    {
     "name": "stdout",
     "output_type": "stream",
     "text": [
      "Train Error: \n",
      " Accuracy: 80.4%, Avg loss: 0.498817 \n",
      "\n",
      "Test Error: \n",
      " Accuracy: 79.3%, Avg loss: 0.506902 \n",
      "\n",
      "Epoch : 9\n",
      "\n"
     ]
    },
    {
     "name": "stderr",
     "output_type": "stream",
     "text": [
      "100%|██████████| 2770/2770 [00:10<00:00, 260.04it/s]\n"
     ]
    },
    {
     "name": "stdout",
     "output_type": "stream",
     "text": [
      "Train Error: \n",
      " Accuracy: 80.5%, Avg loss: 0.497691 \n",
      "\n",
      "Test Error: \n",
      " Accuracy: 79.6%, Avg loss: 0.504724 \n",
      "\n",
      "Epoch : 10\n",
      "\n"
     ]
    },
    {
     "name": "stderr",
     "output_type": "stream",
     "text": [
      "100%|██████████| 2770/2770 [00:09<00:00, 282.98it/s]\n"
     ]
    },
    {
     "name": "stdout",
     "output_type": "stream",
     "text": [
      "Train Error: \n",
      " Accuracy: 80.6%, Avg loss: 0.495813 \n",
      "\n",
      "Test Error: \n",
      " Accuracy: 79.6%, Avg loss: 0.505494 \n",
      "\n",
      "Epoch : 11\n",
      "\n"
     ]
    },
    {
     "name": "stderr",
     "output_type": "stream",
     "text": [
      "100%|██████████| 2770/2770 [00:09<00:00, 283.94it/s]\n"
     ]
    },
    {
     "name": "stdout",
     "output_type": "stream",
     "text": [
      "Train Error: \n",
      " Accuracy: 80.8%, Avg loss: 0.494946 \n",
      "\n",
      "Test Error: \n",
      " Accuracy: 79.7%, Avg loss: 0.504196 \n",
      "\n",
      "Epoch : 12\n",
      "\n"
     ]
    },
    {
     "name": "stderr",
     "output_type": "stream",
     "text": [
      "100%|██████████| 2770/2770 [00:10<00:00, 252.55it/s]\n"
     ]
    },
    {
     "name": "stdout",
     "output_type": "stream",
     "text": [
      "Train Error: \n",
      " Accuracy: 80.9%, Avg loss: 0.493568 \n",
      "\n",
      "Test Error: \n",
      " Accuracy: 79.4%, Avg loss: 0.505468 \n",
      "\n",
      "Epoch : 13\n",
      "\n"
     ]
    },
    {
     "name": "stderr",
     "output_type": "stream",
     "text": [
      "100%|██████████| 2770/2770 [00:08<00:00, 327.68it/s]\n"
     ]
    },
    {
     "name": "stdout",
     "output_type": "stream",
     "text": [
      "Train Error: \n",
      " Accuracy: 81.1%, Avg loss: 0.492756 \n",
      "\n",
      "Test Error: \n",
      " Accuracy: 79.5%, Avg loss: 0.505529 \n",
      "\n",
      "Epoch : 14\n",
      "\n"
     ]
    },
    {
     "name": "stderr",
     "output_type": "stream",
     "text": [
      "100%|██████████| 2770/2770 [00:20<00:00, 135.57it/s]\n"
     ]
    },
    {
     "name": "stdout",
     "output_type": "stream",
     "text": [
      "Train Error: \n",
      " Accuracy: 81.2%, Avg loss: 0.491611 \n",
      "\n",
      "Test Error: \n",
      " Accuracy: 79.9%, Avg loss: 0.502825 \n",
      "\n",
      "Epoch : 15\n",
      "\n"
     ]
    },
    {
     "name": "stderr",
     "output_type": "stream",
     "text": [
      "100%|██████████| 2770/2770 [00:11<00:00, 243.53it/s]\n"
     ]
    },
    {
     "name": "stdout",
     "output_type": "stream",
     "text": [
      "Train Error: \n",
      " Accuracy: 81.3%, Avg loss: 0.490305 \n",
      "\n",
      "Test Error: \n",
      " Accuracy: 79.7%, Avg loss: 0.504638 \n",
      "\n",
      "Epoch : 16\n",
      "\n"
     ]
    },
    {
     "name": "stderr",
     "output_type": "stream",
     "text": [
      "100%|██████████| 2770/2770 [00:11<00:00, 236.75it/s]\n"
     ]
    },
    {
     "name": "stdout",
     "output_type": "stream",
     "text": [
      "Train Error: \n",
      " Accuracy: 81.4%, Avg loss: 0.489472 \n",
      "\n",
      "Test Error: \n",
      " Accuracy: 79.8%, Avg loss: 0.503359 \n",
      "\n",
      "Epoch : 17\n",
      "\n"
     ]
    },
    {
     "name": "stderr",
     "output_type": "stream",
     "text": [
      "100%|██████████| 2770/2770 [00:10<00:00, 258.95it/s]\n"
     ]
    },
    {
     "name": "stdout",
     "output_type": "stream",
     "text": [
      "Train Error: \n",
      " Accuracy: 81.4%, Avg loss: 0.489040 \n",
      "\n",
      "Test Error: \n",
      " Accuracy: 79.7%, Avg loss: 0.504795 \n",
      "\n",
      "Epoch : 18\n",
      "\n"
     ]
    },
    {
     "name": "stderr",
     "output_type": "stream",
     "text": [
      "100%|██████████| 2770/2770 [00:10<00:00, 259.51it/s]\n"
     ]
    },
    {
     "name": "stdout",
     "output_type": "stream",
     "text": [
      "Train Error: \n",
      " Accuracy: 81.6%, Avg loss: 0.488084 \n",
      "\n",
      "Test Error: \n",
      " Accuracy: 79.9%, Avg loss: 0.503908 \n",
      "\n",
      "Epoch : 19\n",
      "\n"
     ]
    },
    {
     "name": "stderr",
     "output_type": "stream",
     "text": [
      "100%|██████████| 2770/2770 [00:13<00:00, 205.18it/s]\n"
     ]
    },
    {
     "name": "stdout",
     "output_type": "stream",
     "text": [
      "Train Error: \n",
      " Accuracy: 81.6%, Avg loss: 0.487314 \n",
      "\n",
      "Test Error: \n",
      " Accuracy: 80.0%, Avg loss: 0.501760 \n",
      "\n",
      "Epoch : 20\n",
      "\n"
     ]
    },
    {
     "name": "stderr",
     "output_type": "stream",
     "text": [
      "100%|██████████| 2770/2770 [00:13<00:00, 212.83it/s]\n"
     ]
    },
    {
     "name": "stdout",
     "output_type": "stream",
     "text": [
      "Train Error: \n",
      " Accuracy: 81.8%, Avg loss: 0.486294 \n",
      "\n",
      "Test Error: \n",
      " Accuracy: 79.8%, Avg loss: 0.503879 \n",
      "\n",
      "Epoch : 21\n",
      "\n"
     ]
    },
    {
     "name": "stderr",
     "output_type": "stream",
     "text": [
      "100%|██████████| 2770/2770 [00:10<00:00, 261.06it/s]\n"
     ]
    },
    {
     "name": "stdout",
     "output_type": "stream",
     "text": [
      "Train Error: \n",
      " Accuracy: 81.9%, Avg loss: 0.485353 \n",
      "\n",
      "Test Error: \n",
      " Accuracy: 79.8%, Avg loss: 0.504083 \n",
      "\n",
      "Epoch : 22\n",
      "\n"
     ]
    },
    {
     "name": "stderr",
     "output_type": "stream",
     "text": [
      "100%|██████████| 2770/2770 [00:10<00:00, 253.03it/s]\n"
     ]
    },
    {
     "name": "stdout",
     "output_type": "stream",
     "text": [
      "Train Error: \n",
      " Accuracy: 81.8%, Avg loss: 0.485596 \n",
      "\n",
      "Test Error: \n",
      " Accuracy: 79.7%, Avg loss: 0.503717 \n",
      "\n",
      "Epoch : 23\n",
      "\n"
     ]
    },
    {
     "name": "stderr",
     "output_type": "stream",
     "text": [
      "100%|██████████| 2770/2770 [00:10<00:00, 260.98it/s]\n"
     ]
    },
    {
     "name": "stdout",
     "output_type": "stream",
     "text": [
      "Train Error: \n",
      " Accuracy: 82.0%, Avg loss: 0.484368 \n",
      "\n",
      "Test Error: \n",
      " Accuracy: 80.0%, Avg loss: 0.502912 \n",
      "\n",
      "Epoch : 24\n",
      "\n"
     ]
    },
    {
     "name": "stderr",
     "output_type": "stream",
     "text": [
      "100%|██████████| 2770/2770 [00:10<00:00, 270.82it/s]\n"
     ]
    },
    {
     "name": "stdout",
     "output_type": "stream",
     "text": [
      "Train Error: \n",
      " Accuracy: 82.1%, Avg loss: 0.483813 \n",
      "\n",
      "Test Error: \n",
      " Accuracy: 79.8%, Avg loss: 0.503372 \n",
      "\n",
      "Epoch : 25\n",
      "\n"
     ]
    },
    {
     "name": "stderr",
     "output_type": "stream",
     "text": [
      "100%|██████████| 2770/2770 [00:10<00:00, 261.24it/s]\n"
     ]
    },
    {
     "name": "stdout",
     "output_type": "stream",
     "text": [
      "Train Error: \n",
      " Accuracy: 82.1%, Avg loss: 0.483086 \n",
      "\n",
      "Test Error: \n",
      " Accuracy: 79.8%, Avg loss: 0.503390 \n",
      "\n",
      "Epoch : 26\n",
      "\n"
     ]
    },
    {
     "name": "stderr",
     "output_type": "stream",
     "text": [
      "100%|██████████| 2770/2770 [00:10<00:00, 273.53it/s]\n"
     ]
    },
    {
     "name": "stdout",
     "output_type": "stream",
     "text": [
      "Train Error: \n",
      " Accuracy: 82.1%, Avg loss: 0.482922 \n",
      "\n",
      "Test Error: \n",
      " Accuracy: 79.7%, Avg loss: 0.504109 \n",
      "\n",
      "Epoch : 27\n",
      "\n"
     ]
    },
    {
     "name": "stderr",
     "output_type": "stream",
     "text": [
      "100%|██████████| 2770/2770 [00:11<00:00, 231.06it/s]\n"
     ]
    },
    {
     "name": "stdout",
     "output_type": "stream",
     "text": [
      "Train Error: \n",
      " Accuracy: 82.3%, Avg loss: 0.481742 \n",
      "\n",
      "Test Error: \n",
      " Accuracy: 79.6%, Avg loss: 0.505025 \n",
      "\n",
      "Epoch : 28\n",
      "\n"
     ]
    },
    {
     "name": "stderr",
     "output_type": "stream",
     "text": [
      "100%|██████████| 2770/2770 [00:12<00:00, 226.91it/s]\n"
     ]
    },
    {
     "name": "stdout",
     "output_type": "stream",
     "text": [
      "Train Error: \n",
      " Accuracy: 82.4%, Avg loss: 0.480909 \n",
      "\n",
      "Test Error: \n",
      " Accuracy: 79.7%, Avg loss: 0.504093 \n",
      "\n",
      "Epoch : 29\n",
      "\n"
     ]
    },
    {
     "name": "stderr",
     "output_type": "stream",
     "text": [
      "100%|██████████| 2770/2770 [00:11<00:00, 240.13it/s]\n"
     ]
    },
    {
     "name": "stdout",
     "output_type": "stream",
     "text": [
      "Train Error: \n",
      " Accuracy: 82.5%, Avg loss: 0.480608 \n",
      "\n",
      "Test Error: \n",
      " Accuracy: 79.9%, Avg loss: 0.503360 \n",
      "\n",
      "Epoch : 30\n",
      "\n"
     ]
    },
    {
     "name": "stderr",
     "output_type": "stream",
     "text": [
      "100%|██████████| 2770/2770 [00:12<00:00, 224.77it/s]\n"
     ]
    },
    {
     "name": "stdout",
     "output_type": "stream",
     "text": [
      "Train Error: \n",
      " Accuracy: 82.5%, Avg loss: 0.480314 \n",
      "\n",
      "Test Error: \n",
      " Accuracy: 79.7%, Avg loss: 0.504755 \n",
      "\n",
      "Epoch : 31\n",
      "\n"
     ]
    },
    {
     "name": "stderr",
     "output_type": "stream",
     "text": [
      "100%|██████████| 2770/2770 [00:12<00:00, 229.78it/s]\n"
     ]
    },
    {
     "name": "stdout",
     "output_type": "stream",
     "text": [
      "Train Error: \n",
      " Accuracy: 82.5%, Avg loss: 0.480154 \n",
      "\n",
      "Test Error: \n",
      " Accuracy: 79.8%, Avg loss: 0.504240 \n",
      "\n",
      "Epoch : 32\n",
      "\n"
     ]
    },
    {
     "name": "stderr",
     "output_type": "stream",
     "text": [
      "100%|██████████| 2770/2770 [00:10<00:00, 255.49it/s]\n"
     ]
    },
    {
     "name": "stdout",
     "output_type": "stream",
     "text": [
      "Train Error: \n",
      " Accuracy: 82.6%, Avg loss: 0.479198 \n",
      "\n",
      "Test Error: \n",
      " Accuracy: 80.1%, Avg loss: 0.501575 \n",
      "\n",
      "Epoch : 33\n",
      "\n"
     ]
    },
    {
     "name": "stderr",
     "output_type": "stream",
     "text": [
      "100%|██████████| 2770/2770 [00:09<00:00, 285.84it/s]\n"
     ]
    },
    {
     "name": "stdout",
     "output_type": "stream",
     "text": [
      "Train Error: \n",
      " Accuracy: 82.7%, Avg loss: 0.478874 \n",
      "\n",
      "Test Error: \n",
      " Accuracy: 80.1%, Avg loss: 0.503111 \n",
      "\n",
      "Epoch : 34\n",
      "\n"
     ]
    },
    {
     "name": "stderr",
     "output_type": "stream",
     "text": [
      "100%|██████████| 2770/2770 [00:09<00:00, 290.30it/s]\n"
     ]
    },
    {
     "name": "stdout",
     "output_type": "stream",
     "text": [
      "Train Error: \n",
      " Accuracy: 82.6%, Avg loss: 0.478391 \n",
      "\n",
      "Test Error: \n",
      " Accuracy: 80.0%, Avg loss: 0.502855 \n",
      "\n",
      "Epoch : 35\n",
      "\n"
     ]
    },
    {
     "name": "stderr",
     "output_type": "stream",
     "text": [
      "100%|██████████| 2770/2770 [00:11<00:00, 250.47it/s]\n"
     ]
    },
    {
     "name": "stdout",
     "output_type": "stream",
     "text": [
      "Train Error: \n",
      " Accuracy: 82.7%, Avg loss: 0.477979 \n",
      "\n",
      "Test Error: \n",
      " Accuracy: 80.0%, Avg loss: 0.502351 \n",
      "\n",
      "Epoch : 36\n",
      "\n"
     ]
    },
    {
     "name": "stderr",
     "output_type": "stream",
     "text": [
      "100%|██████████| 2770/2770 [00:12<00:00, 227.84it/s]\n"
     ]
    },
    {
     "name": "stdout",
     "output_type": "stream",
     "text": [
      "Train Error: \n",
      " Accuracy: 82.9%, Avg loss: 0.476838 \n",
      "\n",
      "Test Error: \n",
      " Accuracy: 79.9%, Avg loss: 0.503375 \n",
      "\n",
      "Epoch : 37\n",
      "\n"
     ]
    },
    {
     "name": "stderr",
     "output_type": "stream",
     "text": [
      "100%|██████████| 2770/2770 [00:15<00:00, 177.83it/s]\n"
     ]
    },
    {
     "name": "stdout",
     "output_type": "stream",
     "text": [
      "Train Error: \n",
      " Accuracy: 82.9%, Avg loss: 0.477186 \n",
      "\n",
      "Test Error: \n",
      " Accuracy: 79.7%, Avg loss: 0.505067 \n",
      "\n",
      "Epoch : 38\n",
      "\n"
     ]
    },
    {
     "name": "stderr",
     "output_type": "stream",
     "text": [
      "100%|██████████| 2770/2770 [00:12<00:00, 228.34it/s]\n"
     ]
    },
    {
     "name": "stdout",
     "output_type": "stream",
     "text": [
      "Train Error: \n",
      " Accuracy: 82.9%, Avg loss: 0.476045 \n",
      "\n",
      "Test Error: \n",
      " Accuracy: 79.9%, Avg loss: 0.503298 \n",
      "\n",
      "Epoch : 39\n",
      "\n"
     ]
    },
    {
     "name": "stderr",
     "output_type": "stream",
     "text": [
      "100%|██████████| 2770/2770 [00:12<00:00, 215.71it/s]\n"
     ]
    },
    {
     "name": "stdout",
     "output_type": "stream",
     "text": [
      "Train Error: \n",
      " Accuracy: 82.9%, Avg loss: 0.476956 \n",
      "\n",
      "Test Error: \n",
      " Accuracy: 80.0%, Avg loss: 0.501829 \n",
      "\n",
      "Epoch : 40\n",
      "\n"
     ]
    },
    {
     "name": "stderr",
     "output_type": "stream",
     "text": [
      "100%|██████████| 2770/2770 [00:13<00:00, 208.68it/s]\n"
     ]
    },
    {
     "name": "stdout",
     "output_type": "stream",
     "text": [
      "Train Error: \n",
      " Accuracy: 82.9%, Avg loss: 0.475977 \n",
      "\n",
      "Test Error: \n",
      " Accuracy: 79.7%, Avg loss: 0.504611 \n",
      "\n",
      "Epoch : 41\n",
      "\n"
     ]
    },
    {
     "name": "stderr",
     "output_type": "stream",
     "text": [
      "100%|██████████| 2770/2770 [00:12<00:00, 218.46it/s]\n"
     ]
    },
    {
     "name": "stdout",
     "output_type": "stream",
     "text": [
      "Train Error: \n",
      " Accuracy: 83.0%, Avg loss: 0.475329 \n",
      "\n",
      "Test Error: \n",
      " Accuracy: 79.9%, Avg loss: 0.503046 \n",
      "\n",
      "Epoch : 42\n",
      "\n"
     ]
    },
    {
     "name": "stderr",
     "output_type": "stream",
     "text": [
      "100%|██████████| 2770/2770 [00:13<00:00, 203.38it/s]\n"
     ]
    },
    {
     "name": "stdout",
     "output_type": "stream",
     "text": [
      "Train Error: \n",
      " Accuracy: 83.0%, Avg loss: 0.475285 \n",
      "\n",
      "Test Error: \n",
      " Accuracy: 79.9%, Avg loss: 0.503952 \n",
      "\n",
      "Epoch : 43\n",
      "\n"
     ]
    },
    {
     "name": "stderr",
     "output_type": "stream",
     "text": [
      "100%|██████████| 2770/2770 [00:12<00:00, 215.41it/s]\n"
     ]
    },
    {
     "name": "stdout",
     "output_type": "stream",
     "text": [
      "Train Error: \n",
      " Accuracy: 83.2%, Avg loss: 0.474553 \n",
      "\n",
      "Test Error: \n",
      " Accuracy: 79.8%, Avg loss: 0.503586 \n",
      "\n",
      "Epoch : 44\n",
      "\n"
     ]
    },
    {
     "name": "stderr",
     "output_type": "stream",
     "text": [
      "100%|██████████| 2770/2770 [00:17<00:00, 154.89it/s]\n"
     ]
    },
    {
     "name": "stdout",
     "output_type": "stream",
     "text": [
      "Train Error: \n",
      " Accuracy: 83.1%, Avg loss: 0.475028 \n",
      "\n",
      "Test Error: \n",
      " Accuracy: 79.6%, Avg loss: 0.504788 \n",
      "\n",
      "Epoch : 45\n",
      "\n"
     ]
    },
    {
     "name": "stderr",
     "output_type": "stream",
     "text": [
      "100%|██████████| 2770/2770 [00:14<00:00, 192.12it/s]\n"
     ]
    },
    {
     "name": "stdout",
     "output_type": "stream",
     "text": [
      "Train Error: \n",
      " Accuracy: 83.1%, Avg loss: 0.474262 \n",
      "\n",
      "Test Error: \n",
      " Accuracy: 79.9%, Avg loss: 0.504074 \n",
      "\n",
      "Epoch : 46\n",
      "\n"
     ]
    },
    {
     "name": "stderr",
     "output_type": "stream",
     "text": [
      "100%|██████████| 2770/2770 [00:12<00:00, 225.65it/s]\n"
     ]
    },
    {
     "name": "stdout",
     "output_type": "stream",
     "text": [
      "Train Error: \n",
      " Accuracy: 83.3%, Avg loss: 0.473042 \n",
      "\n",
      "Test Error: \n",
      " Accuracy: 79.9%, Avg loss: 0.503316 \n",
      "\n",
      "Epoch : 47\n",
      "\n"
     ]
    },
    {
     "name": "stderr",
     "output_type": "stream",
     "text": [
      "100%|██████████| 2770/2770 [00:13<00:00, 204.62it/s]\n"
     ]
    },
    {
     "name": "stdout",
     "output_type": "stream",
     "text": [
      "Train Error: \n",
      " Accuracy: 83.2%, Avg loss: 0.473613 \n",
      "\n",
      "Test Error: \n",
      " Accuracy: 79.7%, Avg loss: 0.504357 \n",
      "\n",
      "Epoch : 48\n",
      "\n"
     ]
    },
    {
     "name": "stderr",
     "output_type": "stream",
     "text": [
      "100%|██████████| 2770/2770 [00:14<00:00, 195.78it/s]\n"
     ]
    },
    {
     "name": "stdout",
     "output_type": "stream",
     "text": [
      "Train Error: \n",
      " Accuracy: 83.3%, Avg loss: 0.473198 \n",
      "\n",
      "Test Error: \n",
      " Accuracy: 79.8%, Avg loss: 0.504124 \n",
      "\n",
      "Epoch : 49\n",
      "\n"
     ]
    },
    {
     "name": "stderr",
     "output_type": "stream",
     "text": [
      "100%|██████████| 2770/2770 [00:13<00:00, 212.06it/s]\n"
     ]
    },
    {
     "name": "stdout",
     "output_type": "stream",
     "text": [
      "Train Error: \n",
      " Accuracy: 83.3%, Avg loss: 0.473100 \n",
      "\n",
      "Test Error: \n",
      " Accuracy: 79.8%, Avg loss: 0.504394 \n",
      "\n",
      "Epoch : 50\n",
      "\n"
     ]
    },
    {
     "name": "stderr",
     "output_type": "stream",
     "text": [
      "100%|██████████| 2770/2770 [00:11<00:00, 238.44it/s]\n"
     ]
    },
    {
     "name": "stdout",
     "output_type": "stream",
     "text": [
      "Train Error: \n",
      " Accuracy: 83.4%, Avg loss: 0.472284 \n",
      "\n",
      "Test Error: \n",
      " Accuracy: 80.1%, Avg loss: 0.501981 \n",
      "\n",
      "Epoch : 51\n",
      "\n"
     ]
    },
    {
     "name": "stderr",
     "output_type": "stream",
     "text": [
      "100%|██████████| 2770/2770 [00:13<00:00, 204.92it/s]\n"
     ]
    },
    {
     "name": "stdout",
     "output_type": "stream",
     "text": [
      "Train Error: \n",
      " Accuracy: 83.3%, Avg loss: 0.472752 \n",
      "\n",
      "Test Error: \n",
      " Accuracy: 79.5%, Avg loss: 0.505658 \n",
      "\n",
      "Epoch : 52\n",
      "\n"
     ]
    },
    {
     "name": "stderr",
     "output_type": "stream",
     "text": [
      "100%|██████████| 2770/2770 [00:11<00:00, 237.12it/s]\n"
     ]
    },
    {
     "name": "stdout",
     "output_type": "stream",
     "text": [
      "Train Error: \n",
      " Accuracy: 83.4%, Avg loss: 0.472309 \n",
      "\n",
      "Test Error: \n",
      " Accuracy: 80.1%, Avg loss: 0.503046 \n",
      "\n",
      "Epoch : 53\n",
      "\n"
     ]
    },
    {
     "name": "stderr",
     "output_type": "stream",
     "text": [
      "100%|██████████| 2770/2770 [00:12<00:00, 226.81it/s]\n"
     ]
    },
    {
     "name": "stdout",
     "output_type": "stream",
     "text": [
      "Train Error: \n",
      " Accuracy: 83.4%, Avg loss: 0.472194 \n",
      "\n",
      "Test Error: \n",
      " Accuracy: 79.9%, Avg loss: 0.502900 \n",
      "\n",
      "Epoch : 54\n",
      "\n"
     ]
    },
    {
     "name": "stderr",
     "output_type": "stream",
     "text": [
      "100%|██████████| 2770/2770 [00:13<00:00, 209.90it/s]\n"
     ]
    },
    {
     "name": "stdout",
     "output_type": "stream",
     "text": [
      "Train Error: \n",
      " Accuracy: 83.5%, Avg loss: 0.471317 \n",
      "\n",
      "Test Error: \n",
      " Accuracy: 79.9%, Avg loss: 0.503289 \n",
      "\n",
      "Epoch : 55\n",
      "\n"
     ]
    },
    {
     "name": "stderr",
     "output_type": "stream",
     "text": [
      "100%|██████████| 2770/2770 [00:12<00:00, 230.83it/s]\n"
     ]
    },
    {
     "name": "stdout",
     "output_type": "stream",
     "text": [
      "Train Error: \n",
      " Accuracy: 83.5%, Avg loss: 0.471260 \n",
      "\n",
      "Test Error: \n",
      " Accuracy: 79.7%, Avg loss: 0.503821 \n",
      "\n",
      "Epoch : 56\n",
      "\n"
     ]
    },
    {
     "name": "stderr",
     "output_type": "stream",
     "text": [
      "100%|██████████| 2770/2770 [00:13<00:00, 201.32it/s]\n"
     ]
    },
    {
     "name": "stdout",
     "output_type": "stream",
     "text": [
      "Train Error: \n",
      " Accuracy: 83.6%, Avg loss: 0.470581 \n",
      "\n",
      "Test Error: \n",
      " Accuracy: 80.1%, Avg loss: 0.502875 \n",
      "\n",
      "Epoch : 57\n",
      "\n"
     ]
    },
    {
     "name": "stderr",
     "output_type": "stream",
     "text": [
      "100%|██████████| 2770/2770 [00:13<00:00, 205.82it/s]\n"
     ]
    },
    {
     "name": "stdout",
     "output_type": "stream",
     "text": [
      "Train Error: \n",
      " Accuracy: 83.6%, Avg loss: 0.471145 \n",
      "\n",
      "Test Error: \n",
      " Accuracy: 80.0%, Avg loss: 0.503105 \n",
      "\n",
      "Epoch : 58\n",
      "\n"
     ]
    },
    {
     "name": "stderr",
     "output_type": "stream",
     "text": [
      "100%|██████████| 2770/2770 [00:13<00:00, 211.93it/s]\n"
     ]
    },
    {
     "name": "stdout",
     "output_type": "stream",
     "text": [
      "Train Error: \n",
      " Accuracy: 83.7%, Avg loss: 0.469954 \n",
      "\n",
      "Test Error: \n",
      " Accuracy: 79.8%, Avg loss: 0.504128 \n",
      "\n",
      "Epoch : 59\n",
      "\n"
     ]
    },
    {
     "name": "stderr",
     "output_type": "stream",
     "text": [
      "100%|██████████| 2770/2770 [00:12<00:00, 218.92it/s]\n"
     ]
    },
    {
     "name": "stdout",
     "output_type": "stream",
     "text": [
      "Train Error: \n",
      " Accuracy: 83.6%, Avg loss: 0.470602 \n",
      "\n",
      "Test Error: \n",
      " Accuracy: 80.0%, Avg loss: 0.504151 \n",
      "\n",
      "Epoch : 60\n",
      "\n"
     ]
    },
    {
     "name": "stderr",
     "output_type": "stream",
     "text": [
      "100%|██████████| 2770/2770 [00:12<00:00, 221.95it/s]\n"
     ]
    },
    {
     "name": "stdout",
     "output_type": "stream",
     "text": [
      "Train Error: \n",
      " Accuracy: 83.6%, Avg loss: 0.470407 \n",
      "\n",
      "Test Error: \n",
      " Accuracy: 80.0%, Avg loss: 0.503233 \n",
      "\n",
      "Epoch : 61\n",
      "\n"
     ]
    },
    {
     "name": "stderr",
     "output_type": "stream",
     "text": [
      "100%|██████████| 2770/2770 [00:13<00:00, 204.90it/s]\n"
     ]
    },
    {
     "name": "stdout",
     "output_type": "stream",
     "text": [
      "Train Error: \n",
      " Accuracy: 83.6%, Avg loss: 0.470208 \n",
      "\n",
      "Test Error: \n",
      " Accuracy: 79.8%, Avg loss: 0.504344 \n",
      "\n",
      "Epoch : 62\n",
      "\n"
     ]
    },
    {
     "name": "stderr",
     "output_type": "stream",
     "text": [
      "100%|██████████| 2770/2770 [00:11<00:00, 241.87it/s]\n"
     ]
    },
    {
     "name": "stdout",
     "output_type": "stream",
     "text": [
      "Train Error: \n",
      " Accuracy: 83.7%, Avg loss: 0.469366 \n",
      "\n",
      "Test Error: \n",
      " Accuracy: 79.6%, Avg loss: 0.505488 \n",
      "\n",
      "Epoch : 63\n",
      "\n"
     ]
    },
    {
     "name": "stderr",
     "output_type": "stream",
     "text": [
      "100%|██████████| 2770/2770 [00:11<00:00, 240.66it/s]\n"
     ]
    },
    {
     "name": "stdout",
     "output_type": "stream",
     "text": [
      "Train Error: \n",
      " Accuracy: 83.7%, Avg loss: 0.469623 \n",
      "\n",
      "Test Error: \n",
      " Accuracy: 79.9%, Avg loss: 0.503795 \n",
      "\n",
      "Epoch : 64\n",
      "\n"
     ]
    },
    {
     "name": "stderr",
     "output_type": "stream",
     "text": [
      "100%|██████████| 2770/2770 [00:12<00:00, 230.18it/s]\n"
     ]
    },
    {
     "name": "stdout",
     "output_type": "stream",
     "text": [
      "Train Error: \n",
      " Accuracy: 83.7%, Avg loss: 0.469496 \n",
      "\n",
      "Test Error: \n",
      " Accuracy: 79.9%, Avg loss: 0.503853 \n",
      "\n",
      "Epoch : 65\n",
      "\n"
     ]
    },
    {
     "name": "stderr",
     "output_type": "stream",
     "text": [
      "100%|██████████| 2770/2770 [00:11<00:00, 245.91it/s]\n"
     ]
    },
    {
     "name": "stdout",
     "output_type": "stream",
     "text": [
      "Train Error: \n",
      " Accuracy: 83.7%, Avg loss: 0.469123 \n",
      "\n",
      "Test Error: \n",
      " Accuracy: 80.0%, Avg loss: 0.503699 \n",
      "\n",
      "Epoch : 66\n",
      "\n"
     ]
    },
    {
     "name": "stderr",
     "output_type": "stream",
     "text": [
      "100%|██████████| 2770/2770 [00:13<00:00, 200.40it/s]\n"
     ]
    },
    {
     "name": "stdout",
     "output_type": "stream",
     "text": [
      "Train Error: \n",
      " Accuracy: 83.8%, Avg loss: 0.468847 \n",
      "\n",
      "Test Error: \n",
      " Accuracy: 80.0%, Avg loss: 0.503176 \n",
      "\n",
      "Epoch : 67\n",
      "\n"
     ]
    },
    {
     "name": "stderr",
     "output_type": "stream",
     "text": [
      "100%|██████████| 2770/2770 [00:14<00:00, 191.55it/s]\n"
     ]
    },
    {
     "name": "stdout",
     "output_type": "stream",
     "text": [
      "Train Error: \n",
      " Accuracy: 83.8%, Avg loss: 0.468640 \n",
      "\n",
      "Test Error: \n",
      " Accuracy: 80.0%, Avg loss: 0.504570 \n",
      "\n",
      "Epoch : 68\n",
      "\n"
     ]
    },
    {
     "name": "stderr",
     "output_type": "stream",
     "text": [
      "100%|██████████| 2770/2770 [00:11<00:00, 247.41it/s]\n"
     ]
    },
    {
     "name": "stdout",
     "output_type": "stream",
     "text": [
      "Train Error: \n",
      " Accuracy: 83.9%, Avg loss: 0.467639 \n",
      "\n",
      "Test Error: \n",
      " Accuracy: 79.6%, Avg loss: 0.507155 \n",
      "\n",
      "Epoch : 69\n",
      "\n"
     ]
    },
    {
     "name": "stderr",
     "output_type": "stream",
     "text": [
      "100%|██████████| 2770/2770 [00:11<00:00, 248.69it/s]\n"
     ]
    },
    {
     "name": "stdout",
     "output_type": "stream",
     "text": [
      "Train Error: \n",
      " Accuracy: 83.9%, Avg loss: 0.467740 \n",
      "\n",
      "Test Error: \n",
      " Accuracy: 80.0%, Avg loss: 0.503537 \n",
      "\n",
      "Epoch : 70\n",
      "\n"
     ]
    },
    {
     "name": "stderr",
     "output_type": "stream",
     "text": [
      "100%|██████████| 2770/2770 [00:11<00:00, 235.21it/s]\n"
     ]
    },
    {
     "name": "stdout",
     "output_type": "stream",
     "text": [
      "Train Error: \n",
      " Accuracy: 83.9%, Avg loss: 0.467911 \n",
      "\n",
      "Test Error: \n",
      " Accuracy: 79.8%, Avg loss: 0.503570 \n",
      "\n",
      "Epoch : 71\n",
      "\n"
     ]
    },
    {
     "name": "stderr",
     "output_type": "stream",
     "text": [
      "100%|██████████| 2770/2770 [00:11<00:00, 240.62it/s]\n"
     ]
    },
    {
     "name": "stdout",
     "output_type": "stream",
     "text": [
      "Train Error: \n",
      " Accuracy: 83.9%, Avg loss: 0.467385 \n",
      "\n",
      "Test Error: \n",
      " Accuracy: 79.8%, Avg loss: 0.503745 \n",
      "\n",
      "Epoch : 72\n",
      "\n"
     ]
    },
    {
     "name": "stderr",
     "output_type": "stream",
     "text": [
      "100%|██████████| 2770/2770 [00:15<00:00, 178.44it/s]\n"
     ]
    },
    {
     "name": "stdout",
     "output_type": "stream",
     "text": [
      "Train Error: \n",
      " Accuracy: 83.9%, Avg loss: 0.466770 \n",
      "\n",
      "Test Error: \n",
      " Accuracy: 79.7%, Avg loss: 0.506076 \n",
      "\n",
      "Epoch : 73\n",
      "\n"
     ]
    },
    {
     "name": "stderr",
     "output_type": "stream",
     "text": [
      "100%|██████████| 2770/2770 [00:12<00:00, 216.27it/s]\n"
     ]
    },
    {
     "name": "stdout",
     "output_type": "stream",
     "text": [
      "Train Error: \n",
      " Accuracy: 84.0%, Avg loss: 0.467073 \n",
      "\n",
      "Test Error: \n",
      " Accuracy: 79.9%, Avg loss: 0.504795 \n",
      "\n",
      "Epoch : 74\n",
      "\n"
     ]
    },
    {
     "name": "stderr",
     "output_type": "stream",
     "text": [
      "100%|██████████| 2770/2770 [00:12<00:00, 224.56it/s]\n"
     ]
    },
    {
     "name": "stdout",
     "output_type": "stream",
     "text": [
      "Train Error: \n",
      " Accuracy: 84.0%, Avg loss: 0.466975 \n",
      "\n",
      "Test Error: \n",
      " Accuracy: 79.8%, Avg loss: 0.505126 \n",
      "\n",
      "Epoch : 75\n",
      "\n"
     ]
    },
    {
     "name": "stderr",
     "output_type": "stream",
     "text": [
      "100%|██████████| 2770/2770 [00:11<00:00, 233.27it/s]\n"
     ]
    },
    {
     "name": "stdout",
     "output_type": "stream",
     "text": [
      "Train Error: \n",
      " Accuracy: 83.9%, Avg loss: 0.467497 \n",
      "\n",
      "Test Error: \n",
      " Accuracy: 79.8%, Avg loss: 0.505697 \n",
      "\n",
      "Epoch : 76\n",
      "\n"
     ]
    },
    {
     "name": "stderr",
     "output_type": "stream",
     "text": [
      "100%|██████████| 2770/2770 [00:12<00:00, 224.81it/s]\n"
     ]
    },
    {
     "name": "stdout",
     "output_type": "stream",
     "text": [
      "Train Error: \n",
      " Accuracy: 84.1%, Avg loss: 0.465882 \n",
      "\n",
      "Test Error: \n",
      " Accuracy: 79.7%, Avg loss: 0.504895 \n",
      "\n",
      "Epoch : 77\n",
      "\n"
     ]
    },
    {
     "name": "stderr",
     "output_type": "stream",
     "text": [
      "100%|██████████| 2770/2770 [00:12<00:00, 226.28it/s]\n"
     ]
    },
    {
     "name": "stdout",
     "output_type": "stream",
     "text": [
      "Train Error: \n",
      " Accuracy: 84.0%, Avg loss: 0.466507 \n",
      "\n",
      "Test Error: \n",
      " Accuracy: 79.7%, Avg loss: 0.506296 \n",
      "\n",
      "Epoch : 78\n",
      "\n"
     ]
    },
    {
     "name": "stderr",
     "output_type": "stream",
     "text": [
      "100%|██████████| 2770/2770 [00:12<00:00, 220.57it/s]\n"
     ]
    },
    {
     "name": "stdout",
     "output_type": "stream",
     "text": [
      "Train Error: \n",
      " Accuracy: 84.2%, Avg loss: 0.465820 \n",
      "\n",
      "Test Error: \n",
      " Accuracy: 79.7%, Avg loss: 0.505247 \n",
      "\n",
      "Epoch : 79\n",
      "\n"
     ]
    },
    {
     "name": "stderr",
     "output_type": "stream",
     "text": [
      "100%|██████████| 2770/2770 [00:13<00:00, 198.27it/s]\n"
     ]
    },
    {
     "name": "stdout",
     "output_type": "stream",
     "text": [
      "Train Error: \n",
      " Accuracy: 84.1%, Avg loss: 0.466012 \n",
      "\n",
      "Test Error: \n",
      " Accuracy: 79.7%, Avg loss: 0.505878 \n",
      "\n",
      "Epoch : 80\n",
      "\n"
     ]
    },
    {
     "name": "stderr",
     "output_type": "stream",
     "text": [
      "100%|██████████| 2770/2770 [00:11<00:00, 243.26it/s]\n"
     ]
    },
    {
     "name": "stdout",
     "output_type": "stream",
     "text": [
      "Train Error: \n",
      " Accuracy: 84.1%, Avg loss: 0.466323 \n",
      "\n",
      "Test Error: \n",
      " Accuracy: 79.7%, Avg loss: 0.506769 \n",
      "\n",
      "Epoch : 81\n",
      "\n"
     ]
    },
    {
     "name": "stderr",
     "output_type": "stream",
     "text": [
      "100%|██████████| 2770/2770 [00:13<00:00, 200.83it/s]\n"
     ]
    },
    {
     "name": "stdout",
     "output_type": "stream",
     "text": [
      "Train Error: \n",
      " Accuracy: 84.2%, Avg loss: 0.465532 \n",
      "\n",
      "Test Error: \n",
      " Accuracy: 80.0%, Avg loss: 0.504431 \n",
      "\n",
      "Epoch : 82\n",
      "\n"
     ]
    },
    {
     "name": "stderr",
     "output_type": "stream",
     "text": [
      "100%|██████████| 2770/2770 [00:13<00:00, 210.05it/s]\n"
     ]
    },
    {
     "name": "stdout",
     "output_type": "stream",
     "text": [
      "Train Error: \n",
      " Accuracy: 84.2%, Avg loss: 0.465024 \n",
      "\n",
      "Test Error: \n",
      " Accuracy: 79.9%, Avg loss: 0.503903 \n",
      "\n",
      "Epoch : 83\n",
      "\n"
     ]
    },
    {
     "name": "stderr",
     "output_type": "stream",
     "text": [
      "100%|██████████| 2770/2770 [00:13<00:00, 209.14it/s]\n"
     ]
    },
    {
     "name": "stdout",
     "output_type": "stream",
     "text": [
      "Train Error: \n",
      " Accuracy: 84.2%, Avg loss: 0.465287 \n",
      "\n",
      "Test Error: \n",
      " Accuracy: 79.4%, Avg loss: 0.507054 \n",
      "\n",
      "Epoch : 84\n",
      "\n"
     ]
    },
    {
     "name": "stderr",
     "output_type": "stream",
     "text": [
      "100%|██████████| 2770/2770 [00:11<00:00, 233.87it/s]\n"
     ]
    },
    {
     "name": "stdout",
     "output_type": "stream",
     "text": [
      "Train Error: \n",
      " Accuracy: 84.2%, Avg loss: 0.464932 \n",
      "\n",
      "Test Error: \n",
      " Accuracy: 79.7%, Avg loss: 0.506030 \n",
      "\n",
      "Epoch : 85\n",
      "\n"
     ]
    },
    {
     "name": "stderr",
     "output_type": "stream",
     "text": [
      "100%|██████████| 2770/2770 [00:11<00:00, 241.28it/s]\n"
     ]
    },
    {
     "name": "stdout",
     "output_type": "stream",
     "text": [
      "Train Error: \n",
      " Accuracy: 84.3%, Avg loss: 0.464818 \n",
      "\n",
      "Test Error: \n",
      " Accuracy: 79.7%, Avg loss: 0.506905 \n",
      "\n",
      "Epoch : 86\n",
      "\n"
     ]
    },
    {
     "name": "stderr",
     "output_type": "stream",
     "text": [
      "100%|██████████| 2770/2770 [00:11<00:00, 238.65it/s]\n"
     ]
    },
    {
     "name": "stdout",
     "output_type": "stream",
     "text": [
      "Train Error: \n",
      " Accuracy: 84.3%, Avg loss: 0.464535 \n",
      "\n",
      "Test Error: \n",
      " Accuracy: 79.6%, Avg loss: 0.506798 \n",
      "\n",
      "Epoch : 87\n",
      "\n"
     ]
    },
    {
     "name": "stderr",
     "output_type": "stream",
     "text": [
      "100%|██████████| 2770/2770 [00:11<00:00, 237.01it/s]\n"
     ]
    },
    {
     "name": "stdout",
     "output_type": "stream",
     "text": [
      "Train Error: \n",
      " Accuracy: 84.2%, Avg loss: 0.465012 \n",
      "\n",
      "Test Error: \n",
      " Accuracy: 80.0%, Avg loss: 0.503664 \n",
      "\n",
      "Epoch : 88\n",
      "\n"
     ]
    },
    {
     "name": "stderr",
     "output_type": "stream",
     "text": [
      "100%|██████████| 2770/2770 [00:15<00:00, 175.77it/s]\n"
     ]
    },
    {
     "name": "stdout",
     "output_type": "stream",
     "text": [
      "Train Error: \n",
      " Accuracy: 84.2%, Avg loss: 0.464812 \n",
      "\n",
      "Test Error: \n",
      " Accuracy: 79.8%, Avg loss: 0.504932 \n",
      "\n",
      "Epoch : 89\n",
      "\n"
     ]
    },
    {
     "name": "stderr",
     "output_type": "stream",
     "text": [
      "100%|██████████| 2770/2770 [00:15<00:00, 184.03it/s]\n"
     ]
    },
    {
     "name": "stdout",
     "output_type": "stream",
     "text": [
      "Train Error: \n",
      " Accuracy: 84.3%, Avg loss: 0.464452 \n",
      "\n",
      "Test Error: \n",
      " Accuracy: 80.0%, Avg loss: 0.502166 \n",
      "\n",
      "Epoch : 90\n",
      "\n"
     ]
    },
    {
     "name": "stderr",
     "output_type": "stream",
     "text": [
      "100%|██████████| 2770/2770 [00:12<00:00, 218.88it/s]\n"
     ]
    },
    {
     "name": "stdout",
     "output_type": "stream",
     "text": [
      "Train Error: \n",
      " Accuracy: 84.4%, Avg loss: 0.463523 \n",
      "\n",
      "Test Error: \n",
      " Accuracy: 79.7%, Avg loss: 0.506121 \n",
      "\n",
      "Epoch : 91\n",
      "\n"
     ]
    },
    {
     "name": "stderr",
     "output_type": "stream",
     "text": [
      "100%|██████████| 2770/2770 [00:11<00:00, 239.83it/s]\n"
     ]
    },
    {
     "name": "stdout",
     "output_type": "stream",
     "text": [
      "Train Error: \n",
      " Accuracy: 84.4%, Avg loss: 0.463265 \n",
      "\n",
      "Test Error: \n",
      " Accuracy: 79.8%, Avg loss: 0.506100 \n",
      "\n",
      "Epoch : 92\n",
      "\n"
     ]
    },
    {
     "name": "stderr",
     "output_type": "stream",
     "text": [
      "100%|██████████| 2770/2770 [00:15<00:00, 174.31it/s]\n"
     ]
    },
    {
     "name": "stdout",
     "output_type": "stream",
     "text": [
      "Train Error: \n",
      " Accuracy: 84.4%, Avg loss: 0.463191 \n",
      "\n",
      "Test Error: \n",
      " Accuracy: 79.6%, Avg loss: 0.507092 \n",
      "\n",
      "Epoch : 93\n",
      "\n"
     ]
    },
    {
     "name": "stderr",
     "output_type": "stream",
     "text": [
      "100%|██████████| 2770/2770 [00:13<00:00, 204.22it/s]\n"
     ]
    },
    {
     "name": "stdout",
     "output_type": "stream",
     "text": [
      "Train Error: \n",
      " Accuracy: 84.3%, Avg loss: 0.463904 \n",
      "\n",
      "Test Error: \n",
      " Accuracy: 79.9%, Avg loss: 0.505470 \n",
      "\n",
      "Epoch : 94\n",
      "\n"
     ]
    },
    {
     "name": "stderr",
     "output_type": "stream",
     "text": [
      "100%|██████████| 2770/2770 [00:11<00:00, 248.30it/s]\n"
     ]
    },
    {
     "name": "stdout",
     "output_type": "stream",
     "text": [
      "Train Error: \n",
      " Accuracy: 84.3%, Avg loss: 0.464172 \n",
      "\n",
      "Test Error: \n",
      " Accuracy: 79.6%, Avg loss: 0.506578 \n",
      "\n",
      "Epoch : 95\n",
      "\n"
     ]
    },
    {
     "name": "stderr",
     "output_type": "stream",
     "text": [
      "100%|██████████| 2770/2770 [00:11<00:00, 241.20it/s]\n"
     ]
    },
    {
     "name": "stdout",
     "output_type": "stream",
     "text": [
      "Train Error: \n",
      " Accuracy: 84.4%, Avg loss: 0.463389 \n",
      "\n",
      "Test Error: \n",
      " Accuracy: 79.9%, Avg loss: 0.504640 \n",
      "\n",
      "Epoch : 96\n",
      "\n"
     ]
    },
    {
     "name": "stderr",
     "output_type": "stream",
     "text": [
      "100%|██████████| 2770/2770 [00:10<00:00, 252.31it/s]\n"
     ]
    },
    {
     "name": "stdout",
     "output_type": "stream",
     "text": [
      "Train Error: \n",
      " Accuracy: 84.5%, Avg loss: 0.463199 \n",
      "\n",
      "Test Error: \n",
      " Accuracy: 79.9%, Avg loss: 0.504819 \n",
      "\n",
      "Epoch : 97\n",
      "\n"
     ]
    },
    {
     "name": "stderr",
     "output_type": "stream",
     "text": [
      "100%|██████████| 2770/2770 [00:11<00:00, 248.47it/s]\n"
     ]
    },
    {
     "name": "stdout",
     "output_type": "stream",
     "text": [
      "Train Error: \n",
      " Accuracy: 84.4%, Avg loss: 0.463244 \n",
      "\n",
      "Test Error: \n",
      " Accuracy: 79.3%, Avg loss: 0.507525 \n",
      "\n",
      "Epoch : 98\n",
      "\n"
     ]
    },
    {
     "name": "stderr",
     "output_type": "stream",
     "text": [
      "100%|██████████| 2770/2770 [00:11<00:00, 241.88it/s]\n"
     ]
    },
    {
     "name": "stdout",
     "output_type": "stream",
     "text": [
      "Train Error: \n",
      " Accuracy: 84.5%, Avg loss: 0.462748 \n",
      "\n",
      "Test Error: \n",
      " Accuracy: 79.7%, Avg loss: 0.506279 \n",
      "\n",
      "Epoch : 99\n",
      "\n"
     ]
    },
    {
     "name": "stderr",
     "output_type": "stream",
     "text": [
      "100%|██████████| 2770/2770 [00:12<00:00, 217.20it/s]\n"
     ]
    },
    {
     "name": "stdout",
     "output_type": "stream",
     "text": [
      "Train Error: \n",
      " Accuracy: 84.4%, Avg loss: 0.462892 \n",
      "\n",
      "Test Error: \n",
      " Accuracy: 79.3%, Avg loss: 0.508069 \n",
      "\n",
      "Epoch : 100\n",
      "\n"
     ]
    },
    {
     "name": "stderr",
     "output_type": "stream",
     "text": [
      "100%|██████████| 2770/2770 [00:16<00:00, 169.00it/s]\n"
     ]
    },
    {
     "name": "stdout",
     "output_type": "stream",
     "text": [
      "Train Error: \n",
      " Accuracy: 84.6%, Avg loss: 0.462233 \n",
      "\n",
      "Test Error: \n",
      " Accuracy: 79.9%, Avg loss: 0.505871 \n",
      "\n"
     ]
    },
    {
     "data": {
      "image/png": "[encoded data removed]",
      "text/plain": [
       "<Figure size 432x288 with 1 Axes>"
      ]
     },
     "metadata": {
      "needs_background": "light"
     },
     "output_type": "display_data"
    },
    {
     "data": {
      "image/png": "[encoded data removed]",
      "text/plain": [
       "<Figure size 432x288 with 1 Axes>"
      ]
     },
     "metadata": {
      "needs_background": "light"
     },
     "output_type": "display_data"
    }
   ],
   "source": [
    "train(model, train_loader, test_loader, num_epochs=100, learning_rate=1e-3)"
   ]
  },
  {
   "attachments": {},
   "cell_type": "markdown",
   "metadata": {},
   "source": [
    "### Vectorize\n",
    "\n",
    "We vectorize again with a smaller dimension for the embeddings to help the algorithms to converge"
   ]
  },
  {
   "cell_type": "code",
   "execution_count": 22,
   "metadata": {},
   "outputs": [],
   "source": [
    "VECT_DIM = 100"
   ]
  },
  {
   "cell_type": "code",
   "execution_count": 23,
   "metadata": {},
   "outputs": [],
   "source": [
    "embeddings = torchtext.vocab.GloVe(name=\"twitter.27B\", dim=VECT_DIM, max_vectors=1000000)"
   ]
  },
  {
   "cell_type": "code",
   "execution_count": 24,
   "metadata": {},
   "outputs": [
    {
     "name": "stderr",
     "output_type": "stream",
     "text": [
      "100%|██████████| 196970/196970 [01:05<00:00, 2993.20it/s]"
     ]
    },
    {
     "name": "stdout",
     "output_type": "stream",
     "text": [
      "0.027150685500539676\n"
     ]
    },
    {
     "name": "stderr",
     "output_type": "stream",
     "text": [
      "\n"
     ]
    }
   ],
   "source": [
    "X = vectorize(df.tweet)"
   ]
  },
  {
   "cell_type": "code",
   "execution_count": 25,
   "metadata": {},
   "outputs": [],
   "source": [
    "X_train, X_test, y_train, y_test = train_test_split(X, y, test_size=0.10, random_state=10)"
   ]
  },
  {
   "attachments": {},
   "cell_type": "markdown",
   "metadata": {},
   "source": [
    "### Logistic Regression"
   ]
  },
  {
   "cell_type": "code",
   "execution_count": 26,
   "metadata": {},
   "outputs": [
    {
     "name": "stdout",
     "output_type": "stream",
     "text": [
      "              precision    recall  f1-score   support\n",
      "\n",
      "           0       0.78      0.71      0.74      9951\n",
      "           1       0.73      0.80      0.76      9746\n",
      "\n",
      "    accuracy                           0.75     19697\n",
      "   macro avg       0.75      0.75      0.75     19697\n",
      "weighted avg       0.75      0.75      0.75     19697\n",
      "\n"
     ]
    }
   ],
   "source": [
    "LRmodel = LogisticRegression(max_iter = 1000, n_jobs=-1)\n",
    "LRmodel.fit(X_train, y_train)\n",
    "y_pred3 = LRmodel.predict(X_test)\n",
    "print(classification_report(y_test, y_pred3))"
   ]
  },
  {
   "attachments": {},
   "cell_type": "markdown",
   "metadata": {},
   "source": [
    "### Support Vector Machine"
   ]
  },
  {
   "cell_type": "code",
   "execution_count": 27,
   "metadata": {},
   "outputs": [
    {
     "name": "stdout",
     "output_type": "stream",
     "text": [
      "[LibLinear]              precision    recall  f1-score   support\n",
      "\n",
      "           0       0.61      0.92      0.73      9951\n",
      "           1       0.83      0.40      0.54      9746\n",
      "\n",
      "    accuracy                           0.66     19697\n",
      "   macro avg       0.72      0.66      0.64     19697\n",
      "weighted avg       0.72      0.66      0.64     19697\n",
      "\n"
     ]
    },
    {
     "name": "stderr",
     "output_type": "stream",
     "text": [
      "c:\\Users\\danie\\anaconda3\\lib\\site-packages\\sklearn\\svm\\_base.py:1206: ConvergenceWarning: Liblinear failed to converge, increase the number of iterations.\n",
      "  warnings.warn(\n"
     ]
    }
   ],
   "source": [
    "from sklearn.svm import LinearSVC\n",
    "\n",
    "LSVC = LinearSVC(verbose=1, max_iter=1000)\n",
    "LSVC.fit(X_train, y_train)\n",
    "y_pred3 = LSVC.predict(X_test)\n",
    "print(classification_report(y_test, y_pred3))"
   ]
  },
  {
   "cell_type": "code",
   "execution_count": null,
   "metadata": {},
   "outputs": [],
   "source": []
  }
 ],
 "metadata": {
  "kernelspec": {
   "display_name": "Python 3.9.7 ('base')",
   "language": "python",
   "name": "python3"
  },
  "language_info": {
   "codemirror_mode": {
    "name": "ipython",
    "version": 3
   },
   "file_extension": ".py",
   "mimetype": "text/x-python",
   "name": "python",
   "nbconvert_exporter": "python",
   "pygments_lexer": "ipython3",
   "version": "3.9.7"
  },
  "orig_nbformat": 4,
  "vscode": {
   "interpreter": {
    "hash": "4d9defa72c2715dab9f7f172572cd30a1ab1a2083462d32ef96aadb7c6e0c73b"
   }
  }
 },
 "nbformat": 4,
 "nbformat_minor": 2
}
