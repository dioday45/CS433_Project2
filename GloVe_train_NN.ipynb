{
 "cells": [
  {
   "cell_type": "code",
   "execution_count": 1,
   "metadata": {},
   "outputs": [
    {
     "name": "stderr",
     "output_type": "stream",
     "text": [
      "[nltk_data] Downloading package stopwords to\n",
      "[nltk_data]     C:\\Users\\danie\\AppData\\Roaming\\nltk_data...\n",
      "[nltk_data]   Package stopwords is already up-to-date!\n",
      "[nltk_data] Downloading package wordnet to\n",
      "[nltk_data]     C:\\Users\\danie\\AppData\\Roaming\\nltk_data...\n",
      "[nltk_data]   Package wordnet is already up-to-date!\n",
      "[nltk_data] Downloading package omw-1.4 to\n",
      "[nltk_data]     C:\\Users\\danie\\AppData\\Roaming\\nltk_data...\n",
      "[nltk_data]   Package omw-1.4 is already up-to-date!\n",
      "[nltk_data] Downloading package stopwords to\n",
      "[nltk_data]     C:\\Users\\danie\\AppData\\Roaming\\nltk_data...\n",
      "[nltk_data]   Package stopwords is already up-to-date!\n",
      "[nltk_data] Downloading package wordnet to\n",
      "[nltk_data]     C:\\Users\\danie\\AppData\\Roaming\\nltk_data...\n",
      "[nltk_data]   Package wordnet is already up-to-date!\n",
      "[nltk_data] Downloading package omw-1.4 to\n",
      "[nltk_data]     C:\\Users\\danie\\AppData\\Roaming\\nltk_data...\n",
      "[nltk_data]   Package omw-1.4 is already up-to-date!\n"
     ]
    }
   ],
   "source": [
    "import torch\n",
    "import torch.nn as nn\n",
    "import torch.nn.functional as F\n",
    "import torch.optim as optim\n",
    "from torch.utils.data import Dataset, DataLoader\n",
    "from torchvision import datasets\n",
    "from torchvision.transforms import ToTensor\n",
    "import torchtext\n",
    "import numpy as np\n",
    "import matplotlib.pyplot as plt\n",
    "import pickle\n",
    "import pandas as pd\n",
    "from tqdm import tqdm\n",
    "from sklearn.model_selection import train_test_split\n",
    "from scipy.sparse import coo_matrix\n",
    "import pickle\n",
    "import nltk\n",
    "nltk.download('stopwords')\n",
    "nltk.download('wordnet')\n",
    "nltk.download('omw-1.4')\n",
    "import src.helpers as hlp"
   ]
  },
  {
   "cell_type": "code",
   "execution_count": 2,
   "metadata": {},
   "outputs": [],
   "source": [
    "VECT_DIM = 50"
   ]
  },
  {
   "cell_type": "markdown",
   "metadata": {},
   "source": [
    "## Import"
   ]
  },
  {
   "cell_type": "code",
   "execution_count": 3,
   "metadata": {},
   "outputs": [],
   "source": [
    "t_pos = pd.read_table(\"data/train_pos.txt\", header=None, names=['tweet'], dtype=str,on_bad_lines='skip')\n",
    "t_pos['label'] = 1\n",
    "t_neg = pd.read_table(\"data/train_neg.txt\", header=None, names=['tweet'], dtype=str,on_bad_lines='skip')\n",
    "t_neg['label'] = 0\n",
    "df = pd.concat((t_pos,t_neg))"
   ]
  },
  {
   "cell_type": "markdown",
   "metadata": {},
   "source": [
    "## Processing"
   ]
  },
  {
   "cell_type": "code",
   "execution_count": 4,
   "metadata": {},
   "outputs": [],
   "source": [
    "df['tweet'] = df['tweet'].apply(lambda x: hlp.remove_stopwords(x))\n",
    "df['tweet'] = df['tweet'].apply(lambda x: hlp.remove_punct(x))\n",
    "df['tweet'] = df['tweet'].apply(lambda x: hlp.add_space(x))\n",
    "df['tweet'] = df['tweet'].apply(lambda x: hlp.remove_white_space(x))\n",
    "df['tweet'] = df['tweet'].apply(lambda x: hlp.remove_words_digits(x))\n",
    "df['tweet'] = df['tweet'].apply(lambda x: hlp.to_lower(x))\n",
    "df['tweet'] = df['tweet'].apply(lambda x: hlp.remove_specific_words(x))\n",
    "df['tweet'] = df['tweet'].apply(lambda x: hlp.remove_repeating_char(x))\n",
    "df['tweet'] = df['tweet'].apply(lambda x: hlp.remove_single_char(x))\n",
    "df['tweet'] = df['tweet'].apply(lambda x: hlp.lemmatize(x))"
   ]
  },
  {
   "cell_type": "code",
   "execution_count": 5,
   "metadata": {},
   "outputs": [],
   "source": [
    "df['tweet'].to_csv('processed_tweets.txt', index=False, header=False)\n",
    "df[df['label'] == 0]['tweet'].to_csv('processed_tweets_neg.txt', index=False, header=False)\n",
    "df[df['label'] == 1]['tweet'].to_csv('processed_tweets_pos.txt', index=False, header=False)"
   ]
  },
  {
   "cell_type": "code",
   "execution_count": 6,
   "metadata": {},
   "outputs": [],
   "source": [
    "vocab = dict()\n",
    "with open(\"vocab_processed_cut.txt\") as f:\n",
    "    for idx, line in enumerate(f):\n",
    "        vocab[line.strip()] = idx\n",
    "\n",
    "with open(\"vocab_processed.pkl\", \"wb\") as f:\n",
    "    pickle.dump(vocab, f, pickle.HIGHEST_PROTOCOL)"
   ]
  },
  {
   "cell_type": "code",
   "execution_count": 7,
   "metadata": {},
   "outputs": [
    {
     "name": "stdout",
     "output_type": "stream",
     "text": [
      "10000\n",
      "20000\n",
      "30000\n",
      "40000\n",
      "50000\n",
      "60000\n",
      "70000\n",
      "80000\n",
      "90000\n",
      "100000\n",
      "110000\n",
      "120000\n",
      "130000\n",
      "140000\n",
      "150000\n",
      "160000\n",
      "170000\n",
      "180000\n",
      "190000\n",
      "summing duplicates (this can take a while)\n"
     ]
    }
   ],
   "source": [
    "with open(\"vocab_processed.pkl\", \"rb\") as f:\n",
    "    vocab = pickle.load(f)\n",
    "\n",
    "data, row, col = [], [], []\n",
    "counter = 1\n",
    "for fn in [\"processed_tweets_pos.txt\", \"processed_tweets_neg.txt\"]:\n",
    "    with open(fn) as f:\n",
    "        for line in f:\n",
    "            tokens = [vocab.get(t, -1) for t in line.strip().split()]\n",
    "            tokens = [t for t in tokens if t >= 0]\n",
    "            for t in tokens:\n",
    "                for t2 in tokens:\n",
    "                    data.append(1)\n",
    "                    row.append(t)\n",
    "                    col.append(t2)\n",
    "\n",
    "            if counter % 10000 == 0:\n",
    "                print(counter)\n",
    "            counter += 1\n",
    "cooc = coo_matrix((data, (row, col)))\n",
    "print(\"summing duplicates (this can take a while)\")\n",
    "cooc.sum_duplicates()\n",
    "with open(\"data/cooc.pkl\", \"wb\") as f:\n",
    "    pickle.dump(cooc, f, pickle.HIGHEST_PROTOCOL)"
   ]
  },
  {
   "cell_type": "code",
   "execution_count": 8,
   "metadata": {},
   "outputs": [
    {
     "name": "stdout",
     "output_type": "stream",
     "text": [
      "loading cooccurrence matrix\n",
      "5046744 nonzero entries\n",
      "using nmax = 100 , cooc.max() = 31435\n",
      "initializing embeddings\n",
      "epoch 0\n",
      "epoch 1\n",
      "epoch 2\n",
      "epoch 3\n",
      "epoch 4\n"
     ]
    }
   ],
   "source": [
    "from scipy.sparse import *\n",
    "import numpy as np\n",
    "import pickle\n",
    "import random\n",
    "\n",
    "\n",
    "print(\"loading cooccurrence matrix\")\n",
    "with open(\"data/cooc_processed.pkl\", \"rb\") as f:\n",
    "    cooc = pickle.load(f)\n",
    "print(\"{} nonzero entries\".format(cooc.nnz))\n",
    "\n",
    "nmax = 100\n",
    "print(\"using nmax =\", nmax, \", cooc.max() =\", cooc.max())\n",
    "\n",
    "print(\"initializing embeddings\")\n",
    "embedding_dim = 50\n",
    "xs = np.random.normal(size=(cooc.shape[0], embedding_dim))\n",
    "ys = np.random.normal(size=(cooc.shape[1], embedding_dim))\n",
    "\n",
    "eta = 0.001\n",
    "alpha = 3 / 4\n",
    "\n",
    "epochs = 5\n",
    "\n",
    "for epoch in range(epochs):\n",
    "    print(\"epoch {}\".format(epoch))\n",
    "    for ix, jy, n in zip(cooc.row, cooc.col, cooc.data):\n",
    "        logn = np.log(n)\n",
    "        fn = min(1.0, (n / nmax) ** alpha)\n",
    "        x, y = xs[ix, :], ys[jy, :]\n",
    "        scale = 2 * eta * fn * (logn - np.dot(x, y))\n",
    "        xs[ix, :] += scale * y\n",
    "        ys[jy, :] += scale * x\n",
    "np.save(\"embeddings_sample\", xs)\n"
   ]
  },
  {
   "cell_type": "code",
   "execution_count": 14,
   "metadata": {},
   "outputs": [],
   "source": [
    "embeddings = np.load(\"embeddings_sample.npy\")"
   ]
  },
  {
   "cell_type": "code",
   "execution_count": 18,
   "metadata": {},
   "outputs": [],
   "source": [
    "def vectorize(tweets):\n",
    "    vectorized_tweets_np = np.zeros((len(tweets),VECT_DIM))\n",
    "    for i, tweet in enumerate(tqdm(tweets)):\n",
    "        tweet_len = len(tweet.split(' '))\n",
    "        tweet_embedding=np.zeros((tweet_len,VECT_DIM))\n",
    "        for j, word in enumerate(tweet.split(' ')):\n",
    "            if word not in vocab.keys():\n",
    "                continue\n",
    "            tweet_embedding[j] = embeddings[vocab[word]]\n",
    "        vectorized_tweets_np[i] = tweet_embedding.mean(0)\n",
    "    return vectorized_tweets_np"
   ]
  },
  {
   "cell_type": "code",
   "execution_count": 19,
   "metadata": {},
   "outputs": [
    {
     "name": "stderr",
     "output_type": "stream",
     "text": [
      "100%|██████████| 196970/196970 [00:08<00:00, 24165.04it/s]\n"
     ]
    }
   ],
   "source": [
    "X = vectorize(df.tweet)\n",
    "y = df['label'].values"
   ]
  },
  {
   "cell_type": "code",
   "execution_count": 20,
   "metadata": {},
   "outputs": [
    {
     "data": {
      "text/plain": [
       "(196970, 50)"
      ]
     },
     "execution_count": 20,
     "metadata": {},
     "output_type": "execute_result"
    }
   ],
   "source": [
    "X.shape"
   ]
  },
  {
   "cell_type": "code",
   "execution_count": 21,
   "metadata": {},
   "outputs": [],
   "source": [
    "class TrainDataset(Dataset):\n",
    "    def __init__(self, X_data, y_data):\n",
    "        self.X_data = X_data\n",
    "        self.y_data = y_data\n",
    "    \n",
    "    def __getitem__(self, index):\n",
    "        return self.y_data[index], self.X_data[index] \n",
    "\n",
    "    def __len__(self):\n",
    "        return len(self.X_data)"
   ]
  },
  {
   "cell_type": "code",
   "execution_count": 22,
   "metadata": {},
   "outputs": [],
   "source": [
    "class TestDataset(Dataset):\n",
    "    def __init__(self, X_data):\n",
    "        self.X_data = X_data\n",
    "    \n",
    "    def __getitem__(self, index):\n",
    "        return self.X_data[index]\n",
    "\n",
    "    def __len__(self):\n",
    "        return len(self.X_data)"
   ]
  },
  {
   "cell_type": "code",
   "execution_count": 23,
   "metadata": {},
   "outputs": [],
   "source": [
    "X_train, X_test, y_train, y_test = train_test_split(X, y, test_size=0.20, random_state=10)"
   ]
  },
  {
   "cell_type": "code",
   "execution_count": 24,
   "metadata": {},
   "outputs": [],
   "source": [
    "train_data = TrainDataset(torch.FloatTensor(X_train), torch.LongTensor(y_train))\n",
    "test_data = TrainDataset(torch.FloatTensor(X_test), torch.LongTensor(y_test))"
   ]
  },
  {
   "cell_type": "code",
   "execution_count": 25,
   "metadata": {},
   "outputs": [],
   "source": [
    "train_loader = DataLoader(dataset=train_data, batch_size=128, shuffle=True)\n",
    "test_loader = DataLoader(dataset=test_data, batch_size=1)"
   ]
  },
  {
   "cell_type": "code",
   "execution_count": 26,
   "metadata": {},
   "outputs": [],
   "source": [
    "def train_loop(dataloader, model, loss_fn, optimizer):\n",
    "        train_loss, correct = 0,0\n",
    "        for y_batch, X_batch in tqdm(dataloader):\n",
    "\n",
    "                pred = model(X_batch)\n",
    "                loss = loss_fn(pred, y_batch)\n",
    "\n",
    "                train_loss += loss.item()\n",
    "                correct += (pred.argmax(1) == y_batch).type(torch.float).sum().item()\n",
    "\n",
    "                optimizer.zero_grad()\n",
    "                loss.backward()\n",
    "                optimizer.step()\n",
    "        train_loss /= len(dataloader)\n",
    "        correct /= len(dataloader.dataset)\n",
    "        print(f\"Train Error: \\n Accuracy: {(100*correct):>0.1f}%, Avg loss: {train_loss:>8f} \\n\")\n",
    "        return train_loss, correct"
   ]
  },
  {
   "cell_type": "code",
   "execution_count": 27,
   "metadata": {},
   "outputs": [],
   "source": [
    "def test_loop(dataloader, model, loss_fn):\n",
    "    test_loss, correct = 0,0\n",
    "    with torch.no_grad():\n",
    "        for y, X in dataloader:\n",
    "\n",
    "            pred = model(X)\n",
    "            test_loss += loss_fn(pred, y).item()\n",
    "            correct += (pred.argmax(1) == y).type(torch.float).sum().item()\n",
    "    test_loss /= len(dataloader)\n",
    "    correct /= len(dataloader.dataset)\n",
    "    print(f\"Test Error: \\n Accuracy: {(100*correct):>0.1f}%, Avg loss: {test_loss:>8f} \\n\")\n",
    "    return test_loss, correct\n",
    "\n"
   ]
  },
  {
   "cell_type": "code",
   "execution_count": 28,
   "metadata": {},
   "outputs": [],
   "source": [
    "def train(model, train_loader, valid_loader, num_epochs, learning_rate):\n",
    "    loss_fn = nn.CrossEntropyLoss()\n",
    "    optimizer = torch.optim.Adam(model.parameters(), lr=learning_rate)\n",
    "    losses, train_accs, test_accs = [], [], []\n",
    "    for epoch in range(num_epochs):\n",
    "        print(f\"Epoch : {epoch+1}\\n\")\n",
    "        train_loss, train_acc = train_loop(train_loader, model, loss_fn, optimizer)\n",
    "        test_loss, test_acc = test_loop(test_loader, model, loss_fn)\n",
    "        losses.append(float(train_loss))\n",
    "        train_accs.append(train_acc)\n",
    "        test_accs.append(test_acc)\n",
    "    \n",
    "    plt.title(\"Training\")\n",
    "    plt.plot(losses, label=\"Train\")\n",
    "    plt.xlabel(\"Epoch\")\n",
    "    plt.ylabel(\"Loss\")\n",
    "    plt.show()\n",
    "\n",
    "    plt.title(\"Training Curve\")\n",
    "    plt.plot(train_accs, label=\"Train\")\n",
    "    plt.plot(test_accs, label=\"Validation\")\n",
    "    plt.xlabel(\"Epoch\")\n",
    "    plt.ylabel(\"Accuracy\")\n",
    "    plt.legend(loc='best')\n",
    "    plt.show()\n",
    "\n"
   ]
  },
  {
   "cell_type": "code",
   "execution_count": 32,
   "metadata": {},
   "outputs": [],
   "source": [
    "model = nn.Sequential(nn.Linear(50, 40),\n",
    "                        nn.Sigmoid(),\n",
    "                        nn.Linear(40, 20),\n",
    "                        nn.Sigmoid(),\n",
    "                        nn.Linear(20, 2))"
   ]
  },
  {
   "cell_type": "code",
   "execution_count": 33,
   "metadata": {},
   "outputs": [
    {
     "name": "stdout",
     "output_type": "stream",
     "text": [
      "Epoch : 1\n",
      "\n"
     ]
    },
    {
     "name": "stderr",
     "output_type": "stream",
     "text": [
      "100%|██████████| 1232/1232 [00:04<00:00, 254.49it/s]\n"
     ]
    },
    {
     "name": "stdout",
     "output_type": "stream",
     "text": [
      "Train Error: \n",
      " Accuracy: 60.7%, Avg loss: 0.659137 \n",
      "\n",
      "Test Error: \n",
      " Accuracy: 61.7%, Avg loss: 0.653252 \n",
      "\n",
      "Epoch : 2\n",
      "\n"
     ]
    },
    {
     "name": "stderr",
     "output_type": "stream",
     "text": [
      "100%|██████████| 1232/1232 [00:04<00:00, 260.78it/s]\n"
     ]
    },
    {
     "name": "stdout",
     "output_type": "stream",
     "text": [
      "Train Error: \n",
      " Accuracy: 61.5%, Avg loss: 0.648959 \n",
      "\n",
      "Test Error: \n",
      " Accuracy: 61.7%, Avg loss: 0.645524 \n",
      "\n",
      "Epoch : 3\n",
      "\n"
     ]
    },
    {
     "name": "stderr",
     "output_type": "stream",
     "text": [
      "100%|██████████| 1232/1232 [00:04<00:00, 266.49it/s]\n"
     ]
    },
    {
     "name": "stdout",
     "output_type": "stream",
     "text": [
      "Train Error: \n",
      " Accuracy: 62.1%, Avg loss: 0.640189 \n",
      "\n",
      "Test Error: \n",
      " Accuracy: 62.6%, Avg loss: 0.636010 \n",
      "\n",
      "Epoch : 4\n",
      "\n"
     ]
    },
    {
     "name": "stderr",
     "output_type": "stream",
     "text": [
      "100%|██████████| 1232/1232 [00:04<00:00, 275.18it/s]\n"
     ]
    },
    {
     "name": "stdout",
     "output_type": "stream",
     "text": [
      "Train Error: \n",
      " Accuracy: 63.0%, Avg loss: 0.631002 \n",
      "\n",
      "Test Error: \n",
      " Accuracy: 63.0%, Avg loss: 0.631447 \n",
      "\n",
      "Epoch : 5\n",
      "\n"
     ]
    },
    {
     "name": "stderr",
     "output_type": "stream",
     "text": [
      "100%|██████████| 1232/1232 [00:04<00:00, 264.49it/s]\n"
     ]
    },
    {
     "name": "stdout",
     "output_type": "stream",
     "text": [
      "Train Error: \n",
      " Accuracy: 63.6%, Avg loss: 0.625037 \n",
      "\n",
      "Test Error: \n",
      " Accuracy: 63.4%, Avg loss: 0.627041 \n",
      "\n",
      "Epoch : 6\n",
      "\n"
     ]
    },
    {
     "name": "stderr",
     "output_type": "stream",
     "text": [
      "100%|██████████| 1232/1232 [00:05<00:00, 236.35it/s]\n"
     ]
    },
    {
     "name": "stdout",
     "output_type": "stream",
     "text": [
      "Train Error: \n",
      " Accuracy: 64.1%, Avg loss: 0.620355 \n",
      "\n",
      "Test Error: \n",
      " Accuracy: 63.6%, Avg loss: 0.624040 \n",
      "\n",
      "Epoch : 7\n",
      "\n"
     ]
    },
    {
     "name": "stderr",
     "output_type": "stream",
     "text": [
      "100%|██████████| 1232/1232 [00:06<00:00, 192.85it/s]\n"
     ]
    },
    {
     "name": "stdout",
     "output_type": "stream",
     "text": [
      "Train Error: \n",
      " Accuracy: 64.4%, Avg loss: 0.616163 \n",
      "\n",
      "Test Error: \n",
      " Accuracy: 63.8%, Avg loss: 0.622156 \n",
      "\n",
      "Epoch : 8\n",
      "\n"
     ]
    },
    {
     "name": "stderr",
     "output_type": "stream",
     "text": [
      "100%|██████████| 1232/1232 [00:05<00:00, 229.20it/s]\n"
     ]
    },
    {
     "name": "stdout",
     "output_type": "stream",
     "text": [
      "Train Error: \n",
      " Accuracy: 64.7%, Avg loss: 0.613492 \n",
      "\n",
      "Test Error: \n",
      " Accuracy: 63.8%, Avg loss: 0.623268 \n",
      "\n",
      "Epoch : 9\n",
      "\n"
     ]
    },
    {
     "name": "stderr",
     "output_type": "stream",
     "text": [
      "100%|██████████| 1232/1232 [00:05<00:00, 221.61it/s]\n"
     ]
    },
    {
     "name": "stdout",
     "output_type": "stream",
     "text": [
      "Train Error: \n",
      " Accuracy: 64.8%, Avg loss: 0.611016 \n",
      "\n",
      "Test Error: \n",
      " Accuracy: 64.0%, Avg loss: 0.620433 \n",
      "\n",
      "Epoch : 10\n",
      "\n"
     ]
    },
    {
     "name": "stderr",
     "output_type": "stream",
     "text": [
      "100%|██████████| 1232/1232 [00:04<00:00, 249.99it/s]\n"
     ]
    },
    {
     "name": "stdout",
     "output_type": "stream",
     "text": [
      "Train Error: \n",
      " Accuracy: 65.2%, Avg loss: 0.608462 \n",
      "\n",
      "Test Error: \n",
      " Accuracy: 64.1%, Avg loss: 0.620849 \n",
      "\n"
     ]
    },
    {
     "data": {
      "image/png": "[encoded data removed]",
      "text/plain": [
       "<Figure size 640x480 with 1 Axes>"
      ]
     },
     "metadata": {},
     "output_type": "display_data"
    },
    {
     "data": {
      "image/png": "[encoded data removed]",
      "text/plain": [
       "<Figure size 640x480 with 1 Axes>"
      ]
     },
     "metadata": {},
     "output_type": "display_data"
    }
   ],
   "source": [
    "train(model, train_loader, test_loader, num_epochs=10, learning_rate=1e-2)"
   ]
  },
  {
   "cell_type": "code",
   "execution_count": null,
   "metadata": {},
   "outputs": [],
   "source": []
  }
 ],
 "metadata": {
  "kernelspec": {
   "display_name": "Python 3.9.7 ('base')",
   "language": "python",
   "name": "python3"
  },
  "language_info": {
   "codemirror_mode": {
    "name": "ipython",
    "version": 3
   },
   "file_extension": ".py",
   "mimetype": "text/x-python",
   "name": "python",
   "nbconvert_exporter": "python",
   "pygments_lexer": "ipython3",
   "version": "3.9.7"
  },
  "orig_nbformat": 4,
  "vscode": {
   "interpreter": {
    "hash": "4d9defa72c2715dab9f7f172572cd30a1ab1a2083462d32ef96aadb7c6e0c73b"
   }
  }
 },
 "nbformat": 4,
 "nbformat_minor": 2
}
